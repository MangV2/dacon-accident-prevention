{
 "cells": [
  {
   "cell_type": "code",
   "execution_count": 5,
   "metadata": {},
   "outputs": [],
   "source": [
    "from langchain_community.document_loaders import PyPDFium2Loader"
   ]
  },
  {
   "cell_type": "code",
   "execution_count": 21,
   "metadata": {},
   "outputs": [],
   "source": [
    "file_path = 'C:/Users/minkyu/Desktop/open/건설안전지침/'"
   ]
  },
  {
   "cell_type": "code",
   "execution_count": 63,
   "metadata": {},
   "outputs": [],
   "source": [
    "import re\n",
    "\n",
    "def preprocessing_pdf(text):\n",
    "    \"\"\"특정 페이지 전체 및 불필요한 텍스트 제거\"\"\"\n",
    "\n",
    "    # 특정 텍스트 제거\n",
    "    text = re.sub(r'KOSHA GUIDE', '', text)  # KOSHA GUIDE 삭제\n",
    "    text = re.sub(r'^C - .+$', '', text, flags=re.MULTILINE)  # C - 로 시작하는 줄 삭제 (문자열 끝까지)\n",
    "    text = re.sub(r'^<그림\\s*\\d+\\s*>$', '', text, flags=re.MULTILINE)\n",
    "    text = re.sub(r'^\\s*-\\s*\\d+\\s*-\\s*$', '', text, flags=re.MULTILINE)  # - 숫자 - 패턴 삭제\n",
    "\n",
    "    return text.strip()  # 앞뒤 공백 제거\n",
    "\n",
    "\n",
    "\n",
    "\n",
    "\n",
    "from langchain_community.document_loaders import PyPDFium2Loader\n",
    "\n",
    "loader = PyPDFium2Loader(file_path + \"I.L.M 교량공사 안전보건작업 지침.pdf\")\n",
    "documents = loader.load()\n",
    "\n",
    "#### page_content만 추출\n",
    "page_contents = [preprocessing_pdf(doc.page_content) for doc in documents]\n"
   ]
  },
  {
   "cell_type": "code",
   "execution_count": 65,
   "metadata": {},
   "outputs": [],
   "source": [
    "from langchain_experimental.text_splitter import SemanticChunker\n",
    "from langchain.embeddings import HuggingFaceEmbeddings\n",
    "\n",
    "embeddings = HuggingFaceEmbeddings(model_name=\"BAAI/bge-m3\")\n",
    "text_splitter = SemanticChunker(embeddings)"
   ]
  },
  {
   "cell_type": "code",
   "execution_count": 66,
   "metadata": {},
   "outputs": [],
   "source": [
    "combined_text = \"\\n\".join(page_contents)\n",
    "chunks = text_splitter.split_text(combined_text)"
   ]
  },
  {
   "cell_type": "code",
   "execution_count": 72,
   "metadata": {},
   "outputs": [
    {
     "name": "stdout",
     "output_type": "stream",
     "text": [
      "5. 가시설물 제작 및 설치 안전작업 5.1 제작장 5.1.1 작업개요 세그먼트(Segement) 길이 2~3배(1개 스판 50%)의 평탄하고\n",
      "견고한 지반 위에 가설교각, 압출장비 등을 설치하여야 한다 <그림 4> 주형 제작장 5.1.2 작업시 준수사항 (1) 주형 제작장의 위치는\n",
      "설계단계에서 압출진행방향, 인접한 도로상황, 추진 코 및 경간의 길이, 제작장의 길이, 주형의 전도에 대한 안전성 등을 종합 적으로 고려하여\n",
      "적절하게 결정하여야 한다. (2) 제작장은 평탄성을 유지하여야 하며 부등침하가 발생하지 않도록 충분한 기초지반의 지지력이 확보되어야 한다.\n",
      "(3) 절토사면은 필요시 부석의 낙하나 미끄러짐(Sliding) 방지를 위하여 사면 보호 조치를 하여야 한다. (4) 공법의 특성상 동일\n",
      "장소에서 1세그멘트씩 반복하여 제작 시공하므로 제작 장의 위치오차는 주형이 제작될수록 누적되어 전체 교량의 선형에 영향을 미치므로 슬라이딩\n",
      "레일(Sliding rail) 설치 시 오차가 발생되지 않도록 주의 하여야 한다. (5) 파일항타 및 장비 작업 시 회전 및 이동에 의한\n",
      "협착재해를 예방하기 위하여 구획을 설정 근로자를 통제하고 관리감독자를 배치하여야 한다. (6) 되메우기 시에도 장비 작업반경 등을 고려하여\n",
      "구획을 설정하고 관리감독 자를 배치하여야 한다. (7) 버림 콘크리트 타설시 지내력을 확보된 곳에 펌프카를 설치하며, 받침목도 설치하여야 한다.\n",
      "(8) 제작장 내의 근로자 이동통로에는 가설통로를 설치하고 양측단부에는 안전 난간을 설치하는 등 떨어짐 위험 장소에는 추락방지조치를 하여야\n",
      "한다. (9) 제작장 내의 가설전기시설에 대해 감전재해를 예방하기 위하여 다음사항을 점검하여야 한다. (가) 가설전기 용량의 적정성 및\n",
      "분․배전반 등 시설배치의 적정여부 (나) 누전차단기 설치 및 접지상태 등 (10) 제작장에 설치하는 타워크레인은 설치 사용 전에 관계기관으로부터\n",
      "안전 인증(정격하중 3톤 미만, 산업안전보건법) 또는 정기검사(정격하중 3톤 이상, 건설기계관리법)를 받아야 하고, 작업 시 인양하중에 적절한\n",
      "와이어로프를 사용하고, 작업반경내 근로자의 접근을 금지시켜야 한다. 5.2 강제 거푸집 <그림 5> 강제 거푸집(하부 및 외측 거푸집) (1)\n",
      "압출공법에 사용하는 강제 거푸집은 반복 작용에 의하여 압출에 영향을 주는 변형이 발생하지 않을 정도의 충분한 강성을 가져야 한다. (2) 강제\n",
      "거푸집은 다음과 같은 구조적 기능을 구비하여야 한다. (가) 거푸집의 구조는 유압잭 등에 의해 기계화된 구조 (나) 내부거푸집은 축 방향으로\n",
      "용이하게 이동 가능한 구조 (다) 외측거푸집은 고정거푸집으로 하고 회전과 높이 조정이 가능한 구조 (3) 거푸집 제작 시 거푸집 단부 측에\n",
      "안전난간을 일체형으로 제작 설치하여야 한다. 5.3 가교각 <그림 6> 가교각 <그림 6-1> 행주대교 우물통 침하 교량 무너짐 (1) 가교각의\n",
      "해체 및 조립 시 다음사항을 점검하여야 한다. (가) 가교각의 각 부분에 있어서의 내력이 충분한지의 여부 (나) 작업지휘자를 선임해서 작업을\n",
      "직접 지휘하고 있는지의 여부 (다) 유자격자 및 경험자가 작업을 행하고 있는지의 여부 (라) 압출 시 수평력에 저항하는 교각상부의 이음내력은\n",
      "충분한지의 여부 (마) 가교각의 위치, 전후좌우의 각도 등을 압출작업 전후에 점검해서 기록을 보존하고 있는지의 여부 (바) 가교각 상부에\n",
      "안전작업을 수행하기 위하여 충분한 여유 공간이 있는 지의 여부 (사) 가교각의 조립, 해체 등의 고공작업 시 안전설비가 되어 있는지의 여부\n",
      "(아) 가교각의 해체를 용이하게 할 수 있는 구조로 되어 있는지의 여부 (자) 제작장의 가교각 및 하천과 해수면내 가교각 기초(우물통 등)가\n",
      "부등 침하에 안전한지의 여부와 사장교 등의 공법과 무리한 조합작업 여부 5.4 횡방향 가이드 5.4.1 작업개요 교량 상부구조물 압출작업시\n",
      "선형성유지, 이탈방지를 위하여 교각 측면에 횡방향 가이드를 설치하여야 한다 <그림 7> 횡방향 가이드 5.4.2 작업시 준수사항 (1) 횡방향\n",
      "가이드의 폭은 계획 종단상의 중심선(Center line)에 박스 폭 및 미끄 럼판의 두께를 더한 길이에 약간의 여유를 두어 설치하여야 한다.\n",
      "(2) 압출 시 횡방향 가이드에 과도한 횡압력, 마찰력이 작용하여 스트랜드(Strand)의 릴렉세이션(Relaxation)이 발생하지 않도록\n",
      "수시로 확인 점검하여야 한다. 5.5 압출장비 고정지지 빔 <그림 8> 압출장비 고정지지 빔 (1) 압출장비 고정지지 빔은 교량 상부공 전체를\n",
      "압출 추진하기 위해 수평력을 가할 때 변위가 발생하지 않도록 충분한 강성과 고정이 되어 있어야 한다. 5.6 증기양생 시설 (1) 보일러 용량은\n",
      "양생면적에 적합한 규격을 선택해야 하며, 최소한 1.0톤 이상의 규격의 보일러를 사용하여야 한다. (2) 비상용 수조를 설치하여야 한다.\n"
     ]
    }
   ],
   "source": [
    "import textwrap\n",
    "# 원하는 너비(예: 80 문자)로 텍스트 감싸기\n",
    "wrapped_text = textwrap.fill(chunks[3], width=80)\n",
    "print(wrapped_text)"
   ]
  },
  {
   "cell_type": "code",
   "execution_count": null,
   "metadata": {},
   "outputs": [],
   "source": []
  }
 ],
 "metadata": {
  "kernelspec": {
   "display_name": "sd2",
   "language": "python",
   "name": "python3"
  },
  "language_info": {
   "codemirror_mode": {
    "name": "ipython",
    "version": 3
   },
   "file_extension": ".py",
   "mimetype": "text/x-python",
   "name": "python",
   "nbconvert_exporter": "python",
   "pygments_lexer": "ipython3",
   "version": "3.10.16"
  }
 },
 "nbformat": 4,
 "nbformat_minor": 2
}
