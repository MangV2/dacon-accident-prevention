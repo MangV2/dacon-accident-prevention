{
 "cells": [
  {
   "cell_type": "code",
   "execution_count": 4,
   "metadata": {},
   "outputs": [],
   "source": [
    "import pandas as pd \n",
    "import numpy as np \n",
    "\n",
    "from sklearn.metrics.pairwise import cosine_similarity\n",
    "from tqdm.auto import tqdm"
   ]
  },
  {
   "cell_type": "code",
   "execution_count": 1,
   "metadata": {},
   "outputs": [
    {
     "name": "stderr",
     "output_type": "stream",
     "text": [
      "c:\\Users\\minkyu\\AppData\\Local\\anaconda3\\envs\\sd2\\lib\\site-packages\\tqdm\\auto.py:21: TqdmWarning: IProgress not found. Please update jupyter and ipywidgets. See https://ipywidgets.readthedocs.io/en/stable/user_install.html\n",
      "  from .autonotebook import tqdm as notebook_tqdm\n",
      "c:\\Users\\minkyu\\AppData\\Local\\anaconda3\\envs\\sd2\\lib\\site-packages\\sentence_transformers\\SentenceTransformer.py:195: FutureWarning: The `use_auth_token` argument is deprecated and will be removed in v4 of SentenceTransformers.\n",
      "  warnings.warn(\n"
     ]
    }
   ],
   "source": [
    "from sentence_transformers import SentenceTransformer\n",
    "\n",
    "# Embedding Vector 추출에 활용할 모델(jhgan/ko-sbert-sts) 불러오기\n",
    "model = SentenceTransformer('jhgan/ko-sbert-sts', use_auth_token=False)"
   ]
  },
  {
   "cell_type": "code",
   "execution_count": 2,
   "metadata": {},
   "outputs": [],
   "source": [
    "data_path = \"C:/Users/minkyu/Desktop/open/\"\n",
    "base_path = 'C:/Users/minkyu/Desktop/dacon accident prevention'"
   ]
  },
  {
   "cell_type": "code",
   "execution_count": 5,
   "metadata": {},
   "outputs": [],
   "source": [
    "train = pd.read_csv(data_path+\"train.csv\" )\n",
    "test = pd.read_csv(data_path+\"test.csv\" )"
   ]
  },
  {
   "cell_type": "code",
   "execution_count": 6,
   "metadata": {},
   "outputs": [],
   "source": [
    "grouped = train.groupby(\"인적사고\")"
   ]
  },
  {
   "cell_type": "code",
   "execution_count": 7,
   "metadata": {},
   "outputs": [
    {
     "name": "stderr",
     "output_type": "stream",
     "text": [
      "100%|██████████| 23/23 [03:04<00:00,  8.00s/it]\n"
     ]
    }
   ],
   "source": [
    "res = {}\n",
    "jaccard_res = []\n",
    "\n",
    "# 자카드 유사도 함수\n",
    "def jaccard_similarity(text1, text2):\n",
    "    \"\"\"자카드 유사도 계산\"\"\"\n",
    "    set1, set2 = set(text1.split()), set(text2.split())  # 단어 집합 생성\n",
    "    intersection = len(set1.intersection(set2))  # 교집합 크기\n",
    "    union = len(set1.union(set2))  # 합집합 크기\n",
    "    return intersection / union if union != 0 else 0\n",
    "\n",
    "for name, group in tqdm(grouped):\n",
    "    plans = group[\"재발방지대책 및 향후조치계획\"].tolist()\n",
    "    n = len(plans)\n",
    "    \n",
    "    # 유사도 행렬 초기화\n",
    "    similarity_matrix = np.zeros((n, n))\n",
    "    \n",
    "    # 이중 for문을 통해 자카드 유사도 계산\n",
    "    for i in range(n):\n",
    "        for j in range(n):\n",
    "            similarity_matrix[i, j] = jaccard_similarity(plans[i], plans[j])\n",
    "    \n",
    "    # 각 텍스트별 평균 유사도 계산\n",
    "    avg_similarity = similarity_matrix.mean(axis=1)\n",
    "    \n",
    "    # 평균 유사도가 가장 높은 인덱스 찾기\n",
    "    best_idx = avg_similarity.argmax()\n",
    "    \n",
    "    # 선택된 텍스트의 유사도 결과 저장\n",
    "    jaccard_res += similarity_matrix[best_idx].tolist()\n",
    "    res[name] = plans[best_idx]\n"
   ]
  },
  {
   "cell_type": "code",
   "execution_count": 9,
   "metadata": {},
   "outputs": [
    {
     "name": "stdout",
     "output_type": "stream",
     "text": [
      "Range 0.0 - 0.1: 10847개\n",
      "Range 0.1 - 0.2: 6568개\n",
      "Range 0.2 - 0.3: 3214개\n",
      "Range 0.3 - 0.4: 1309개\n",
      "Range 0.4 - 0.5: 638개\n",
      "Range 0.5 - 0.6: 379개\n",
      "Range 0.6 - 0.7: 205개\n",
      "Range 0.7 - 0.8: 87개\n",
      "Range 0.8 - 0.9: 60개\n",
      "Range 0.9 - 1.0: 83개\n"
     ]
    }
   ],
   "source": [
    "arr = jaccard_res\n",
    "\n",
    "# 0.1 단위로 구간을 지정\n",
    "bins = np.arange(0, 1.1, 0.1)  # 0.0 ~ 1.0을 0.1 간격으로 나눔\n",
    "\n",
    "# 히스토그램 계산\n",
    "hist, bin_edges = np.histogram(arr, bins=bins)\n",
    "\n",
    "# 결과 출력\n",
    "for i in range(len(hist)):\n",
    "    print(f\"Range {bin_edges[i]:.1f} - {bin_edges[i+1]:.1f}: {hist[i]}개\")"
   ]
  },
  {
   "cell_type": "code",
   "execution_count": null,
   "metadata": {},
   "outputs": [],
   "source": [
    "res"
   ]
  },
  {
   "cell_type": "code",
   "execution_count": null,
   "metadata": {},
   "outputs": [],
   "source": []
  }
 ],
 "metadata": {
  "kernelspec": {
   "display_name": "sd2",
   "language": "python",
   "name": "python3"
  },
  "language_info": {
   "codemirror_mode": {
    "name": "ipython",
    "version": 3
   },
   "file_extension": ".py",
   "mimetype": "text/x-python",
   "name": "python",
   "nbconvert_exporter": "python",
   "pygments_lexer": "ipython3",
   "version": "3.10.16"
  }
 },
 "nbformat": 4,
 "nbformat_minor": 2
}
