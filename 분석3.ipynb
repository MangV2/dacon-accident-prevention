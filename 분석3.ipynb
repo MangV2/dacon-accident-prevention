{
 "cells": [
  {
   "cell_type": "code",
   "execution_count": 1,
   "metadata": {},
   "outputs": [],
   "source": [
    "import pandas as pd\n"
   ]
  },
  {
   "cell_type": "code",
   "execution_count": 2,
   "metadata": {},
   "outputs": [],
   "source": [
    "df = pd.read_csv('train.csv')"
   ]
  },
  {
   "cell_type": "code",
   "execution_count": 3,
   "metadata": {},
   "outputs": [
    {
     "data": {
      "text/html": [
       "<div>\n",
       "<style scoped>\n",
       "    .dataframe tbody tr th:only-of-type {\n",
       "        vertical-align: middle;\n",
       "    }\n",
       "\n",
       "    .dataframe tbody tr th {\n",
       "        vertical-align: top;\n",
       "    }\n",
       "\n",
       "    .dataframe thead th {\n",
       "        text-align: right;\n",
       "    }\n",
       "</style>\n",
       "<table border=\"1\" class=\"dataframe\">\n",
       "  <thead>\n",
       "    <tr style=\"text-align: right;\">\n",
       "      <th></th>\n",
       "      <th>ID</th>\n",
       "      <th>발생일시</th>\n",
       "      <th>사고인지 시간</th>\n",
       "      <th>날씨</th>\n",
       "      <th>기온</th>\n",
       "      <th>습도</th>\n",
       "      <th>공사종류</th>\n",
       "      <th>연면적</th>\n",
       "      <th>층 정보</th>\n",
       "      <th>인적사고</th>\n",
       "      <th>물적사고</th>\n",
       "      <th>공종</th>\n",
       "      <th>사고객체</th>\n",
       "      <th>작업프로세스</th>\n",
       "      <th>장소</th>\n",
       "      <th>부위</th>\n",
       "      <th>사고원인</th>\n",
       "      <th>재발방지대책 및 향후조치계획</th>\n",
       "    </tr>\n",
       "  </thead>\n",
       "  <tbody>\n",
       "    <tr>\n",
       "      <th>0</th>\n",
       "      <td>TRAIN_00000</td>\n",
       "      <td>2023-12-31 오후 12:44</td>\n",
       "      <td>정규작업 -</td>\n",
       "      <td>맑음</td>\n",
       "      <td>1℃</td>\n",
       "      <td>30%</td>\n",
       "      <td>건축 / 건축물 / 근린생활시설</td>\n",
       "      <td>4,892.77㎡</td>\n",
       "      <td>지상 14층, 지하 3층</td>\n",
       "      <td>떨어짐(5미터 이상 ~ 10미터 미만)</td>\n",
       "      <td>없음</td>\n",
       "      <td>건축 &gt; 철근콘크리트공사</td>\n",
       "      <td>건설자재 &gt; 철근</td>\n",
       "      <td>설치작업</td>\n",
       "      <td>근린생활시설 / 내부</td>\n",
       "      <td>철근 / 고소</td>\n",
       "      <td>고소작업 중 추락 위험이 있음에도 불구하고, 안전난간대, 안전고리 착용 등 안전장치...</td>\n",
       "      <td>고소작업 시 추락 위험이 있는 부위에 안전장비 설치.</td>\n",
       "    </tr>\n",
       "    <tr>\n",
       "      <th>1</th>\n",
       "      <td>TRAIN_00001</td>\n",
       "      <td>2023-12-30 오후 03:35</td>\n",
       "      <td>정규작업 -</td>\n",
       "      <td>맑음</td>\n",
       "      <td>10℃</td>\n",
       "      <td>90%</td>\n",
       "      <td>토목 / 터널 / 철도터널</td>\n",
       "      <td>-</td>\n",
       "      <td>-</td>\n",
       "      <td>끼임</td>\n",
       "      <td>없음</td>\n",
       "      <td>토목 &gt; 터널공사</td>\n",
       "      <td>건설자재 &gt; 볼트</td>\n",
       "      <td>운반작업</td>\n",
       "      <td>철도터널 / 내부</td>\n",
       "      <td>볼트 / 바닥</td>\n",
       "      <td>부주의</td>\n",
       "      <td>재발 방지 대책 마련과 안전교육 실시.</td>\n",
       "    </tr>\n",
       "    <tr>\n",
       "      <th>2</th>\n",
       "      <td>TRAIN_00002</td>\n",
       "      <td>2023-12-30 오후 02:30</td>\n",
       "      <td>정규작업 -</td>\n",
       "      <td>맑음</td>\n",
       "      <td>14℃</td>\n",
       "      <td>70%</td>\n",
       "      <td>건축 / 건축물 / 업무시설</td>\n",
       "      <td>1,994.62㎡</td>\n",
       "      <td>지상 5층, 지하 0층</td>\n",
       "      <td>넘어짐(미끄러짐)</td>\n",
       "      <td>없음</td>\n",
       "      <td>건축 &gt; 철근콘크리트공사</td>\n",
       "      <td>기타 &gt; 기타</td>\n",
       "      <td>형틀 및 목공</td>\n",
       "      <td>업무시설 / 내부</td>\n",
       "      <td>기타 / 바닥</td>\n",
       "      <td>3층 슬라브 작업시 이동중  미끄러짐</td>\n",
       "      <td>현장자재 정리와 안전관리 철저를 통한 재발 방지 대책 및 공문 발송을 통한 향후 조...</td>\n",
       "    </tr>\n",
       "    <tr>\n",
       "      <th>3</th>\n",
       "      <td>TRAIN_00003</td>\n",
       "      <td>2023-12-30 오후 12:00</td>\n",
       "      <td>휴일근무 -</td>\n",
       "      <td>흐림</td>\n",
       "      <td>12℃</td>\n",
       "      <td>55%</td>\n",
       "      <td>토목 / 하천 / 기타</td>\n",
       "      <td>-</td>\n",
       "      <td>-</td>\n",
       "      <td>기타</td>\n",
       "      <td>전도</td>\n",
       "      <td>토목 &gt; 하천공사</td>\n",
       "      <td>부재 &gt; 교각 기초</td>\n",
       "      <td>조립작업</td>\n",
       "      <td>기타 / 동산교 신축구간</td>\n",
       "      <td>교각 기초 / 바닥</td>\n",
       "      <td>교각 기초철근 조립 중 강한 바람에 의해 기둥측 주철근이 균형을 잃고 전도되어, 하...</td>\n",
       "      <td>위험성 평가 및 교육을 통해 작업장 내 위험요인과 안전수칙을 근로자에게 전파하고, ...</td>\n",
       "    </tr>\n",
       "    <tr>\n",
       "      <th>4</th>\n",
       "      <td>TRAIN_00004</td>\n",
       "      <td>2023-12-30 오전 10:00</td>\n",
       "      <td>정규작업 -</td>\n",
       "      <td>맑음</td>\n",
       "      <td>0℃</td>\n",
       "      <td>10%</td>\n",
       "      <td>건축 / 건축물 / 공동주택</td>\n",
       "      <td>59,388.93㎡</td>\n",
       "      <td>지상 27층, 지하 3층</td>\n",
       "      <td>넘어짐(미끄러짐)</td>\n",
       "      <td>없음</td>\n",
       "      <td>건축 &gt; 해체 및 철거공사</td>\n",
       "      <td>기타 &gt; 건설폐기물</td>\n",
       "      <td>해체작업</td>\n",
       "      <td>공동주택 / 내부</td>\n",
       "      <td>건설폐기물 / 바닥</td>\n",
       "      <td>근로자의 부주의</td>\n",
       "      <td>자재 정리 작업 시 세부 작업 방법에 대한 교육 실시와 작업 구간 이동 경로 점검 ...</td>\n",
       "    </tr>\n",
       "    <tr>\n",
       "      <th>...</th>\n",
       "      <td>...</td>\n",
       "      <td>...</td>\n",
       "      <td>...</td>\n",
       "      <td>...</td>\n",
       "      <td>...</td>\n",
       "      <td>...</td>\n",
       "      <td>...</td>\n",
       "      <td>...</td>\n",
       "      <td>...</td>\n",
       "      <td>...</td>\n",
       "      <td>...</td>\n",
       "      <td>...</td>\n",
       "      <td>...</td>\n",
       "      <td>...</td>\n",
       "      <td>...</td>\n",
       "      <td>...</td>\n",
       "      <td>...</td>\n",
       "      <td>...</td>\n",
       "    </tr>\n",
       "    <tr>\n",
       "      <th>23417</th>\n",
       "      <td>TRAIN_23417</td>\n",
       "      <td>2019-07-03 오후 03:10</td>\n",
       "      <td>-</td>\n",
       "      <td>맑음</td>\n",
       "      <td>28℃</td>\n",
       "      <td>65%</td>\n",
       "      <td>건축 / 건축물 / 교육연구시설</td>\n",
       "      <td>-</td>\n",
       "      <td>-</td>\n",
       "      <td>물체에 맞음</td>\n",
       "      <td>없음</td>\n",
       "      <td>건축 &gt; 철근콘크리트공사</td>\n",
       "      <td>가시설 &gt; 거푸집</td>\n",
       "      <td>해체작업</td>\n",
       "      <td>교육연구시설 /</td>\n",
       "      <td>거푸집 /</td>\n",
       "      <td>적재물 이동과정에서 적재된 유로폼이 작업자에거 넘어져 사고 발생</td>\n",
       "      <td>현장안전관리와 일용근로자 교육의 철저함.</td>\n",
       "    </tr>\n",
       "    <tr>\n",
       "      <th>23418</th>\n",
       "      <td>TRAIN_23418</td>\n",
       "      <td>2019-07-03 오후 03:00</td>\n",
       "      <td>정규작업 - 2019-07-03 오후 03:00</td>\n",
       "      <td>맑음</td>\n",
       "      <td>28℃</td>\n",
       "      <td>80%</td>\n",
       "      <td>건축 / 건축물 / 공동주택</td>\n",
       "      <td>6,800㎡</td>\n",
       "      <td>지상 20층, 지하 1층</td>\n",
       "      <td>떨어짐(2미터 미만)</td>\n",
       "      <td>없음</td>\n",
       "      <td>기계설비 &gt; 해체 및 철거공사</td>\n",
       "      <td>건설공구 &gt; 사다리</td>\n",
       "      <td>해체작업</td>\n",
       "      <td>공동주택 / 내부</td>\n",
       "      <td>사다리 / 상부(위)</td>\n",
       "      <td>작업중 부주의</td>\n",
       "      <td>근로자 안전교육 실시 및 관리감독 강화를 통한 사고 방지 대책과 안전교육 강화를 포...</td>\n",
       "    </tr>\n",
       "    <tr>\n",
       "      <th>23419</th>\n",
       "      <td>TRAIN_23419</td>\n",
       "      <td>2019-07-03 오후 03:00</td>\n",
       "      <td>-</td>\n",
       "      <td>맑음</td>\n",
       "      <td>24℃</td>\n",
       "      <td>88%</td>\n",
       "      <td>건축 / 건축물 / 문화 및 집회시설</td>\n",
       "      <td>-</td>\n",
       "      <td>-</td>\n",
       "      <td>절단, 베임</td>\n",
       "      <td>없음</td>\n",
       "      <td>건축 &gt; 철근콘크리트공사</td>\n",
       "      <td>가시설 &gt; 강관동바리</td>\n",
       "      <td>준비작업</td>\n",
       "      <td>문화 및 집회시설 /</td>\n",
       "      <td>강관동바리 /</td>\n",
       "      <td>작업자가 작업의 편의를 위해 안전수칙을 무시하고 철재 밴딩을 잡아당기다 밴딩에 손이...</td>\n",
       "      <td>작업자 안전수칙 교육 철저와 재해 사례 전파 및 안전교육 실시, 안전수칙 준수 철저...</td>\n",
       "    </tr>\n",
       "    <tr>\n",
       "      <th>23420</th>\n",
       "      <td>TRAIN_23420</td>\n",
       "      <td>2019-07-03 오후 02:30</td>\n",
       "      <td>-</td>\n",
       "      <td>흐림</td>\n",
       "      <td>30℃</td>\n",
       "      <td>20%</td>\n",
       "      <td>건축 / 건축물 / 공장</td>\n",
       "      <td>-</td>\n",
       "      <td>-</td>\n",
       "      <td>기타</td>\n",
       "      <td>NaN</td>\n",
       "      <td>기타 &gt; 기타</td>\n",
       "      <td>NaN</td>\n",
       "      <td>절단작업</td>\n",
       "      <td>공장 /</td>\n",
       "      <td>/</td>\n",
       "      <td>지상2층 브레싱 홀 가공중 절단된 슬래그가 안전화 혀에 떨어져 화상 발생</td>\n",
       "      <td>해당작업에 맞는 개인보호구 지급 및 점검관리, 공사참여자 안전관리교육, 시공관리 실시.</td>\n",
       "    </tr>\n",
       "    <tr>\n",
       "      <th>23421</th>\n",
       "      <td>TRAIN_23421</td>\n",
       "      <td>2019-07-03 오후 02:30</td>\n",
       "      <td>정규작업 -</td>\n",
       "      <td>강우</td>\n",
       "      <td>24℃</td>\n",
       "      <td>80%</td>\n",
       "      <td>건축 / 건축물 / 종교시설</td>\n",
       "      <td>3,674㎡</td>\n",
       "      <td>지상 9층, 지하 0층</td>\n",
       "      <td>물체에 맞음</td>\n",
       "      <td>없음</td>\n",
       "      <td>건축 &gt; 철근콘크리트공사</td>\n",
       "      <td>건설자재 &gt; 자재</td>\n",
       "      <td>형틀 및 목공</td>\n",
       "      <td>종교시설 / 외부</td>\n",
       "      <td>자재 / 고소</td>\n",
       "      <td>크레인 작업 중 자재에 작업자 충돌</td>\n",
       "      <td>작업전 교육과 작업시 안전관리를 철저히 시행하여 준공완료를 목표로 하는 재발 방지 대책.</td>\n",
       "    </tr>\n",
       "  </tbody>\n",
       "</table>\n",
       "<p>23422 rows × 18 columns</p>\n",
       "</div>"
      ],
      "text/plain": [
       "                ID                 발생일시                     사고인지 시간  날씨   기온  \\\n",
       "0      TRAIN_00000  2023-12-31 오후 12:44                      정규작업 -  맑음   1℃   \n",
       "1      TRAIN_00001  2023-12-30 오후 03:35                      정규작업 -  맑음  10℃   \n",
       "2      TRAIN_00002  2023-12-30 오후 02:30                      정규작업 -  맑음  14℃   \n",
       "3      TRAIN_00003  2023-12-30 오후 12:00                      휴일근무 -  흐림  12℃   \n",
       "4      TRAIN_00004  2023-12-30 오전 10:00                      정규작업 -  맑음   0℃   \n",
       "...            ...                  ...                         ...  ..  ...   \n",
       "23417  TRAIN_23417  2019-07-03 오후 03:10                           -  맑음  28℃   \n",
       "23418  TRAIN_23418  2019-07-03 오후 03:00  정규작업 - 2019-07-03 오후 03:00  맑음  28℃   \n",
       "23419  TRAIN_23419  2019-07-03 오후 03:00                           -  맑음  24℃   \n",
       "23420  TRAIN_23420  2019-07-03 오후 02:30                           -  흐림  30℃   \n",
       "23421  TRAIN_23421  2019-07-03 오후 02:30                      정규작업 -  강우  24℃   \n",
       "\n",
       "        습도                  공사종류         연면적           층 정보  \\\n",
       "0      30%     건축 / 건축물 / 근린생활시설   4,892.77㎡  지상 14층, 지하 3층   \n",
       "1      90%        토목 / 터널 / 철도터널           -              -   \n",
       "2      70%       건축 / 건축물 / 업무시설   1,994.62㎡   지상 5층, 지하 0층   \n",
       "3      55%          토목 / 하천 / 기타           -              -   \n",
       "4      10%       건축 / 건축물 / 공동주택  59,388.93㎡  지상 27층, 지하 3층   \n",
       "...    ...                   ...         ...            ...   \n",
       "23417  65%     건축 / 건축물 / 교육연구시설           -              -   \n",
       "23418  80%       건축 / 건축물 / 공동주택      6,800㎡  지상 20층, 지하 1층   \n",
       "23419  88%  건축 / 건축물 / 문화 및 집회시설           -              -   \n",
       "23420  20%         건축 / 건축물 / 공장           -              -   \n",
       "23421  80%       건축 / 건축물 / 종교시설      3,674㎡   지상 9층, 지하 0층   \n",
       "\n",
       "                        인적사고 물적사고                공종         사고객체   작업프로세스  \\\n",
       "0      떨어짐(5미터 이상 ~ 10미터 미만)   없음     건축 > 철근콘크리트공사    건설자재 > 철근     설치작업   \n",
       "1                         끼임   없음         토목 > 터널공사    건설자재 > 볼트     운반작업   \n",
       "2                  넘어짐(미끄러짐)   없음     건축 > 철근콘크리트공사      기타 > 기타  형틀 및 목공   \n",
       "3                         기타   전도         토목 > 하천공사   부재 > 교각 기초     조립작업   \n",
       "4                  넘어짐(미끄러짐)   없음    건축 > 해체 및 철거공사   기타 > 건설폐기물     해체작업   \n",
       "...                      ...  ...               ...          ...      ...   \n",
       "23417                 물체에 맞음   없음     건축 > 철근콘크리트공사    가시설 > 거푸집     해체작업   \n",
       "23418            떨어짐(2미터 미만)   없음  기계설비 > 해체 및 철거공사   건설공구 > 사다리     해체작업   \n",
       "23419                 절단, 베임   없음     건축 > 철근콘크리트공사  가시설 > 강관동바리     준비작업   \n",
       "23420                     기타  NaN           기타 > 기타          NaN     절단작업   \n",
       "23421                 물체에 맞음   없음     건축 > 철근콘크리트공사    건설자재 > 자재  형틀 및 목공   \n",
       "\n",
       "                  장소           부위  \\\n",
       "0        근린생활시설 / 내부      철근 / 고소   \n",
       "1          철도터널 / 내부      볼트 / 바닥   \n",
       "2          업무시설 / 내부      기타 / 바닥   \n",
       "3      기타 / 동산교 신축구간   교각 기초 / 바닥   \n",
       "4          공동주택 / 내부   건설폐기물 / 바닥   \n",
       "...              ...          ...   \n",
       "23417       교육연구시설 /        거푸집 /   \n",
       "23418      공동주택 / 내부  사다리 / 상부(위)   \n",
       "23419    문화 및 집회시설 /      강관동바리 /   \n",
       "23420           공장 /            /   \n",
       "23421      종교시설 / 외부      자재 / 고소   \n",
       "\n",
       "                                                    사고원인  \\\n",
       "0      고소작업 중 추락 위험이 있음에도 불구하고, 안전난간대, 안전고리 착용 등 안전장치...   \n",
       "1                                                    부주의   \n",
       "2                                   3층 슬라브 작업시 이동중  미끄러짐   \n",
       "3      교각 기초철근 조립 중 강한 바람에 의해 기둥측 주철근이 균형을 잃고 전도되어, 하...   \n",
       "4                                               근로자의 부주의   \n",
       "...                                                  ...   \n",
       "23417                적재물 이동과정에서 적재된 유로폼이 작업자에거 넘어져 사고 발생   \n",
       "23418                                            작업중 부주의   \n",
       "23419  작업자가 작업의 편의를 위해 안전수칙을 무시하고 철재 밴딩을 잡아당기다 밴딩에 손이...   \n",
       "23420           지상2층 브레싱 홀 가공중 절단된 슬래그가 안전화 혀에 떨어져 화상 발생   \n",
       "23421                                크레인 작업 중 자재에 작업자 충돌   \n",
       "\n",
       "                                         재발방지대책 및 향후조치계획  \n",
       "0                          고소작업 시 추락 위험이 있는 부위에 안전장비 설치.  \n",
       "1                                  재발 방지 대책 마련과 안전교육 실시.  \n",
       "2      현장자재 정리와 안전관리 철저를 통한 재발 방지 대책 및 공문 발송을 통한 향후 조...  \n",
       "3      위험성 평가 및 교육을 통해 작업장 내 위험요인과 안전수칙을 근로자에게 전파하고, ...  \n",
       "4      자재 정리 작업 시 세부 작업 방법에 대한 교육 실시와 작업 구간 이동 경로 점검 ...  \n",
       "...                                                  ...  \n",
       "23417                             현장안전관리와 일용근로자 교육의 철저함.  \n",
       "23418  근로자 안전교육 실시 및 관리감독 강화를 통한 사고 방지 대책과 안전교육 강화를 포...  \n",
       "23419  작업자 안전수칙 교육 철저와 재해 사례 전파 및 안전교육 실시, 안전수칙 준수 철저...  \n",
       "23420   해당작업에 맞는 개인보호구 지급 및 점검관리, 공사참여자 안전관리교육, 시공관리 실시.  \n",
       "23421  작업전 교육과 작업시 안전관리를 철저히 시행하여 준공완료를 목표로 하는 재발 방지 대책.  \n",
       "\n",
       "[23422 rows x 18 columns]"
      ]
     },
     "execution_count": 3,
     "metadata": {},
     "output_type": "execute_result"
    }
   ],
   "source": [
    "df"
   ]
  },
  {
   "cell_type": "code",
   "execution_count": 4,
   "metadata": {},
   "outputs": [],
   "source": [
    "df['연도'] = df['발생일시'].str.slice(0, 4)\n"
   ]
  },
  {
   "cell_type": "code",
   "execution_count": 5,
   "metadata": {},
   "outputs": [
    {
     "data": {
      "text/plain": [
       "연도\n",
       "2023    6308\n",
       "2022    5208\n",
       "2021    5008\n",
       "2020    4556\n",
       "2019    2342\n",
       "Name: count, dtype: int64"
      ]
     },
     "execution_count": 5,
     "metadata": {},
     "output_type": "execute_result"
    }
   ],
   "source": [
    "df['연도'].value_counts()"
   ]
  },
  {
   "cell_type": "code",
   "execution_count": 6,
   "metadata": {},
   "outputs": [],
   "source": [
    "df2 = df[df['연도'] == '2023']"
   ]
  },
  {
   "cell_type": "code",
   "execution_count": null,
   "metadata": {},
   "outputs": [],
   "source": [
    "df2['인적사고'].value_counts()"
   ]
  },
  {
   "cell_type": "code",
   "execution_count": 10,
   "metadata": {},
   "outputs": [],
   "source": [
    "df2.to_csv('2023.csv', index=False, encoding='utf-8-sig')"
   ]
  },
  {
   "cell_type": "code",
   "execution_count": 1,
   "metadata": {},
   "outputs": [
    {
     "name": "stderr",
     "output_type": "stream",
     "text": [
      "c:\\Users\\minkyu\\AppData\\Local\\anaconda3\\envs\\sd2\\lib\\site-packages\\tqdm\\auto.py:21: TqdmWarning: IProgress not found. Please update jupyter and ipywidgets. See https://ipywidgets.readthedocs.io/en/stable/user_install.html\n",
      "  from .autonotebook import tqdm as notebook_tqdm\n"
     ]
    }
   ],
   "source": [
    "import pandas as pd \n",
    "import numpy as np \n",
    "\n",
    "from sklearn.metrics.pairwise import cosine_similarity\n",
    "from tqdm.auto import tqdm"
   ]
  },
  {
   "cell_type": "code",
   "execution_count": 2,
   "metadata": {},
   "outputs": [
    {
     "name": "stderr",
     "output_type": "stream",
     "text": [
      "c:\\Users\\minkyu\\AppData\\Local\\anaconda3\\envs\\sd2\\lib\\site-packages\\sentence_transformers\\SentenceTransformer.py:195: FutureWarning: The `use_auth_token` argument is deprecated and will be removed in v4 of SentenceTransformers.\n",
      "  warnings.warn(\n"
     ]
    }
   ],
   "source": [
    "from sentence_transformers import SentenceTransformer\n",
    "\n",
    "# Embedding Vector 추출에 활용할 모델(jhgan/ko-sbert-sts) 불러오기\n",
    "model = SentenceTransformer('jhgan/ko-sbert-sts', use_auth_token=False)"
   ]
  },
  {
   "cell_type": "code",
   "execution_count": 15,
   "metadata": {},
   "outputs": [],
   "source": [
    "train = pd.read_csv('2023.csv')\n",
    "test = pd.read_csv(\"test.csv\")\n",
    "sample = pd.read_csv(\"sample_submission.csv\")"
   ]
  },
  {
   "cell_type": "code",
   "execution_count": 16,
   "metadata": {},
   "outputs": [],
   "source": [
    "grouped = train.groupby(\"인적사고\")"
   ]
  },
  {
   "cell_type": "code",
   "execution_count": 17,
   "metadata": {},
   "outputs": [
    {
     "name": "stderr",
     "output_type": "stream",
     "text": [
      "100%|██████████| 23/23 [01:01<00:00,  2.67s/it]\n"
     ]
    }
   ],
   "source": [
    "res = {}\n",
    "cosine_res = []\n",
    "for name, group in tqdm(grouped):\n",
    "    plan = group[\"재발방지대책 및 향후조치계획\"]\n",
    "    vectors = np.stack(plan.apply(model.encode).to_numpy())\n",
    "    similarity = cosine_similarity(vectors, vectors)    \n",
    "    cosine_res += similarity[similarity.mean(axis=1).argmax()].tolist()\n",
    "    res[name] = plan.iloc[similarity.mean(axis=1).argmax()]"
   ]
  },
  {
   "cell_type": "code",
   "execution_count": 18,
   "metadata": {},
   "outputs": [
    {
     "name": "stdout",
     "output_type": "stream",
     "text": [
      "Range 0.0 - 0.1: 0개\n",
      "Range 0.1 - 0.2: 2개\n",
      "Range 0.2 - 0.3: 32개\n",
      "Range 0.3 - 0.4: 151개\n",
      "Range 0.4 - 0.5: 393개\n",
      "Range 0.5 - 0.6: 1086개\n",
      "Range 0.6 - 0.7: 1971개\n",
      "Range 0.7 - 0.8: 2128개\n",
      "Range 0.8 - 0.9: 511개\n",
      "Range 0.9 - 1.0: 22개\n"
     ]
    }
   ],
   "source": [
    "arr = cosine_res\n",
    "\n",
    "# 0.1 단위로 구간을 지정\n",
    "bins = np.arange(0, 1.1, 0.1)  # 0.0 ~ 1.0을 0.1 간격으로 나눔\n",
    "\n",
    "# 히스토그램 계산\n",
    "hist, bin_edges = np.histogram(arr, bins=bins)\n",
    "\n",
    "# 결과 출력\n",
    "for i in range(len(hist)):\n",
    "    print(f\"Range {bin_edges[i]:.1f} - {bin_edges[i+1]:.1f}: {hist[i]}개\")"
   ]
  },
  {
   "cell_type": "code",
   "execution_count": 19,
   "metadata": {},
   "outputs": [
    {
     "data": {
      "text/plain": [
       "{'감전': '근로자 안전교육 강화, 전선 및 공구 반입 시 철저한 점검, 전원이 연결된 전선의 전원 차단 후 점검 실시, 건설공사 안전관리 요청 공문 시행을 통한 안전사고 위험요인 사전 제거 및 전기기계기구 사용으로 인한 감전 사고 예방.',\n",
       " '교통사고': '차량 유도 시 신호수 안전교육 및 안전사고 사례 예방 교육과 현장 안전관리 철저 시행.',\n",
       " '기타': '근로자 안전교육 철저 및 작업지휘자 배치 확인, 안전시설물 확인 철저와 유사사고 방지를 위한 근로자 안전교육 실시 및 현장 안전점검 강화.',\n",
       " '깔림': '안전사고 재발 방지를 위한 철저한 안전교육, 신호체계 준수, 자재 양중 시 받침목 사용, 모든 근로자를 대상으로 한 특별안전교육, 안전점검의 철저한 시행, 안전회의를 통한 재발 방지 대책 수립, 안전대책의 이행 유무 점검, 특별안전점검활동의 시행.',\n",
       " '끼임': '작업전 작업자 안전교육 강화, 안전수칙 준수 특별안전교육 실시, 작업지휘자 관리감독 철저에 대한 재발 방지 대책과 향후 조치 계획.',\n",
       " '넘어짐(기타)': '작업발판 설치와 작업자 안전교육 강화를 통한 재발 방지 대책 및 향후 조치 계획.',\n",
       " '넘어짐(물체에 걸림)': '현장정리정돈 실시와 작업 전 안전교육 철저를 통한 재발 방지 대책 및 향후 조치 계획.',\n",
       " '넘어짐(미끄러짐)': '이동통로 확보 관리와 작업 전 안전교육 철저 및 정기적 근로자 안전교육 시행을 통한 재발 방지 대책.',\n",
       " '떨어짐(10미터 이상)': '작업 전 안전교육 실시와 현장 주변 정리 철저, 안전시설물 추가 설치 및 보강을 통한 재발 방지 대책.',\n",
       " '떨어짐(2미터 미만)': '안전사고 재발 방지를 위한 작업자 교육 및 안전보호구 착용 철저, 안전계단 설치 경사 재조정 및 안전교육 실시.',\n",
       " '떨어짐(2미터 이상 ~ 3미터 미만)': '작업자 작업순서 숙지 교육 및 자재 안전점검과 작업교육 및 작업자재 안전관리 철저를 통한 재발 방지 대책.',\n",
       " '떨어짐(3미터 이상 ~ 5미터 미만)': '작업 전 안전교육 강화, 작업 중 관리감독 철저, 고소 작업 시 안전대 부착설비 설치, 사고사례교육 실시, 관리자 및 근로자 안전교육 시행으로 선제적 사고 예방 및 부상 예방 조치.',\n",
       " '떨어짐(5미터 이상 ~ 10미터 미만)': '작업자 안전의식 고취, 미끄럼 방지 장갑 사용, 일정 기온 초과 시 작업 금지, 무리한 작업 방지를 위한 철저한 지휘감독, 감리단 및 시공사에 대한 안전관리 철저 지시로 재발 방지 대책과 향후 조치 계획 수립.',\n",
       " '떨어짐(분류불능)': '작업 전 안전교육 및 특별교육 실시, 작업 전 지반 안정성 확보, 관리감독자 현장 상주, 지반 안정화 작업 및 안전교육 실시.',\n",
       " '물체에 맞음': '작업 전 안전교육 및 안전점검 실시, 관리감독 강화, 위험성 평가 시행 및 교육 시행, 일일 안전점검 강화, 재발 방지 대책 수립 및 안전교육 실시.',\n",
       " '부딪힘': '작업 시작 전 안전교육 실시, 법정 안전교육 강화, 관리감독자와 현장소장의 수시 순회점검, 위험 부분 정리정돈 철저, 사전안내 시설 설치를 통한 작업자의 안전의식 고취.',\n",
       " '분류불능': '현장 근로자 상황 전파 및 안전교육 실시와 중량물 자재 취급에 대한 교육 실시를 통한 재발 방지 대책 마련.',\n",
       " '없음': '작업자 특별교육 실시 및 현장 내 화재예방 점검을 통한 재발 방지 대책과 구조안전진단 결과 확인 후 관련 공사 진행 예정.',\n",
       " '절단, 베임': '작업전 안전교육 실시, 작업수칙 준수, 기계공구류 안전장치 확인을 통한 재발 방지 대책 및 향후 조치 계획.',\n",
       " '질병': '자재 인력운반방법 교육 실시, 작업 전 스트레칭 실시, TBM 시 근로자 건강상태 확인을 통한 재발 방지 및 향후 조치 계획.',\n",
       " '질식': '현장 근로자 안전 교육 실시 및 사고 원인 조사 후 안전 조치 마련.',\n",
       " '찔림': '작업 투입 전 안전교육 강화를 통한 재발 방지 대책과 현장 관리감독자의 수시 작업 환경 점검 실시 계획.',\n",
       " '화상': '화기 및 위험 작업자 특별 안전교육 실시, 작업 전 위험성 평가 후 안전대책 수립 및 이행 상태 확인, 작업발판 고정 및 안전시설 점검 철저에 대한 재발 방지 대책 접수.'}"
      ]
     },
     "execution_count": 19,
     "metadata": {},
     "output_type": "execute_result"
    }
   ],
   "source": [
    "res\n"
   ]
  },
  {
   "cell_type": "code",
   "execution_count": 20,
   "metadata": {},
   "outputs": [],
   "source": [
    "res_v = {}\n",
    "for k,v in res.items():\n",
    "    res_v[k] = model.encode(v)"
   ]
  },
  {
   "cell_type": "code",
   "execution_count": 21,
   "metadata": {},
   "outputs": [],
   "source": [
    "for i in range(len(test)):\n",
    "    accident = test.loc[i, \"인적사고\"]\n",
    "    sample.loc[i, \"재발방지대책 및 향후조치계획\"] = res[accident]\n",
    "    sample.iloc[i, 2:] = res_v[accident]"
   ]
  },
  {
   "cell_type": "code",
   "execution_count": 22,
   "metadata": {},
   "outputs": [],
   "source": [
    "sample.to_csv(\"대표문장.csv\", index=False, encoding='utf-8-sig')"
   ]
  },
  {
   "cell_type": "code",
   "execution_count": 24,
   "metadata": {},
   "outputs": [
    {
     "name": "stderr",
     "output_type": "stream",
     "text": [
      "Downloading https://raw.githubusercontent.com/stanfordnlp/stanza-resources/main/resources_1.10.0.json: 424kB [00:00, 10.8MB/s]                    \n",
      "2025-03-10 10:03:51 INFO: Downloaded file to C:\\Users\\minkyu\\stanza_resources\\resources.json\n",
      "2025-03-10 10:03:51 INFO: Downloading default packages for language: ko (Korean) ...\n",
      "Downloading https://huggingface.co/stanfordnlp/stanza-ko/resolve/v1.10.0/models/default.zip: 100%|██████████| 212M/212M [00:03<00:00, 58.3MB/s] \n",
      "2025-03-10 10:03:55 INFO: Downloaded file to C:\\Users\\minkyu\\stanza_resources\\ko\\default.zip\n",
      "2025-03-10 10:03:56 INFO: Finished downloading models and saved to C:\\Users\\minkyu\\stanza_resources\n",
      "2025-03-10 10:03:56 INFO: Checking for updates to resources.json in case models have been updated.  Note: this behavior can be turned off with download_method=None or download_method=DownloadMethod.REUSE_RESOURCES\n",
      "Downloading https://raw.githubusercontent.com/stanfordnlp/stanza-resources/main/resources_1.10.0.json: 424kB [00:00, 11.2MB/s]                    \n",
      "2025-03-10 10:03:56 INFO: Downloaded file to C:\\Users\\minkyu\\stanza_resources\\resources.json\n",
      "2025-03-10 10:03:56 INFO: Loading these models for language: ko (Korean):\n",
      "==============================\n",
      "| Processor | Package        |\n",
      "------------------------------\n",
      "| tokenize  | kaist          |\n",
      "| pos       | kaist_nocharlm |\n",
      "| lemma     | kaist_nocharlm |\n",
      "| depparse  | kaist_nocharlm |\n",
      "==============================\n",
      "\n",
      "2025-03-10 10:03:56 INFO: Using device: cuda\n",
      "2025-03-10 10:03:56 INFO: Loading: tokenize\n",
      "2025-03-10 10:03:56 INFO: Loading: pos\n",
      "2025-03-10 10:03:59 INFO: Loading: lemma\n",
      "2025-03-10 10:04:01 INFO: Loading: depparse\n",
      "2025-03-10 10:04:01 INFO: Done loading processors!\n"
     ]
    },
    {
     "name": "stdout",
     "output_type": "stream",
     "text": [
      "단어: 재발방지대책\t의존관계: advcl\t헤드 단어 인덱스: 6\n",
      "단어: 및\t의존관계: cc\t헤드 단어 인덱스: 3\n",
      "단어: 향후조치계획에서\t의존관계: conj\t헤드 단어 인덱스: 1\n",
      "단어: 인적사고별\t의존관계: amod\t헤드 단어 인덱스: 5\n",
      "단어: 문구를\t의존관계: obj\t헤드 단어 인덱스: 6\n",
      "단어: 추출합니다\t의존관계: root\t헤드 단어 인덱스: 0\n",
      "단어: .\t의존관계: punct\t헤드 단어 인덱스: 6\n"
     ]
    }
   ],
   "source": [
    "import stanza\n",
    "\n",
    "# 한국어 모델 다운로드 (최초 1회 실행)\n",
    "stanza.download('ko')\n",
    "\n",
    "# 한국어 파이프라인 구성: 토큰화, 품사 태깅, 의존 구문 분석 포함\n",
    "nlp = stanza.Pipeline('ko')\n",
    "\n",
    "# 분석할 문장 예시\n",
    "text = \"재발방지대책 및 향후조치계획에서 인적사고별 문구를 추출합니다.\"\n",
    "doc = nlp(text)\n",
    "\n",
    "# 각 문장에 대해 의존 구문 구조 출력\n",
    "for sentence in doc.sentences:\n",
    "    for word in sentence.words:\n",
    "        print(f\"단어: {word.text}\\t의존관계: {word.deprel}\\t헤드 단어 인덱스: {word.head}\")\n"
   ]
  },
  {
   "cell_type": "code",
   "execution_count": 28,
   "metadata": {},
   "outputs": [
    {
     "name": "stderr",
     "output_type": "stream",
     "text": [
      "c:\\Users\\minkyu\\AppData\\Local\\anaconda3\\envs\\sd2\\lib\\site-packages\\sentence_transformers\\SentenceTransformer.py:195: FutureWarning: The `use_auth_token` argument is deprecated and will be removed in v4 of SentenceTransformers.\n",
      "  warnings.warn(\n"
     ]
    }
   ],
   "source": [
    "import numpy as np\n",
    "from sentence_transformers import SentenceTransformer\n",
    "\n",
    "# Embedding Vector 추출에 활용할 모델(jhgan/ko-sbert-sts) 불러오기\n",
    "model = SentenceTransformer('jhgan/ko-sbert-sts', use_auth_token=False)"
   ]
  },
  {
   "cell_type": "code",
   "execution_count": 3,
   "metadata": {},
   "outputs": [],
   "source": [
    "# 샘플에 대한 Cosine Similarity 산식\n",
    "def cosine_similarity(a, b):\n",
    "    dot_product = np.dot(a, b)\n",
    "    norm_a = np.linalg.norm(a)\n",
    "    norm_b = np.linalg.norm(b)\n",
    "    return dot_product / (norm_a * norm_b) if norm_a != 0 and norm_b != 0 else 0"
   ]
  },
  {
   "cell_type": "code",
   "execution_count": 6,
   "metadata": {},
   "outputs": [
    {
     "data": {
      "text/plain": [
       "0.66344523"
      ]
     },
     "execution_count": 6,
     "metadata": {},
     "output_type": "execute_result"
    }
   ],
   "source": [
    "s1 = '시스템 비계 발판 적재 하중 준수 및 안전교육 실시와 조치계획 이행 확인 통한 재발 방지 대책 및 향후 조치 계획.'\n",
    "s2 = ' TBM 시 사고사례 전파 및 작업전 안전교육 실시와 안전관리자 안전점검 실시를 통한 재발 방지 대책 및 향후 조치 계획'\n",
    "\n",
    "pred_embed = model.encode(s2)\n",
    "gt_embed = model.encode(s1)\n",
    "cosine_similarity(gt_embed,pred_embed)"
   ]
  },
  {
   "cell_type": "code",
   "execution_count": null,
   "metadata": {},
   "outputs": [],
   "source": []
  }
 ],
 "metadata": {
  "kernelspec": {
   "display_name": "sd2",
   "language": "python",
   "name": "python3"
  },
  "language_info": {
   "codemirror_mode": {
    "name": "ipython",
    "version": 3
   },
   "file_extension": ".py",
   "mimetype": "text/x-python",
   "name": "python",
   "nbconvert_exporter": "python",
   "pygments_lexer": "ipython3",
   "version": "3.10.16"
  }
 },
 "nbformat": 4,
 "nbformat_minor": 2
}
