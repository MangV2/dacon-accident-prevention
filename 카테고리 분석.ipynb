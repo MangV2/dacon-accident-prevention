{
 "cells": [
  {
   "cell_type": "code",
   "execution_count": 1,
   "metadata": {},
   "outputs": [],
   "source": [
    "import pandas as pd"
   ]
  },
  {
   "cell_type": "code",
   "execution_count": null,
   "metadata": {},
   "outputs": [],
   "source": []
  },
  {
   "cell_type": "code",
   "execution_count": 2,
   "metadata": {},
   "outputs": [],
   "source": [
    "df = pd.read_csv(\"train.csv\")"
   ]
  },
  {
   "cell_type": "code",
   "execution_count": 3,
   "metadata": {},
   "outputs": [
    {
     "data": {
      "text/plain": [
       "인적사고\n",
       "물체에 맞음                   3460\n",
       "끼임                       2549\n",
       "넘어짐(미끄러짐)                2188\n",
       "넘어짐(기타)                  2063\n",
       "기타                       1915\n",
       "부딪힘                      1815\n",
       "떨어짐(2미터 미만)              1735\n",
       "절단, 베임                   1661\n",
       "넘어짐(물체에 걸림)              1490\n",
       "떨어짐(2미터 이상 ~ 3미터 미만)      759\n",
       "떨어짐(분류불능)                 708\n",
       "떨어짐(3미터 이상 ~ 5미터 미만)      545\n",
       "깔림                        514\n",
       "질병                        383\n",
       "찔림                        306\n",
       "떨어짐(5미터 이상 ~ 10미터 미만)     298\n",
       "분류불능                      225\n",
       "떨어짐(10미터 이상)              210\n",
       "없음                        196\n",
       "화상                        181\n",
       "교통사고                      122\n",
       "감전                         49\n",
       "질식                         18\n",
       "Name: count, dtype: int64"
      ]
     },
     "execution_count": 3,
     "metadata": {},
     "output_type": "execute_result"
    }
   ],
   "source": [
    "df['인적사고'].value_counts()"
   ]
  },
  {
   "cell_type": "code",
   "execution_count": null,
   "metadata": {},
   "outputs": [],
   "source": [
    "df.head(3)"
   ]
  },
  {
   "cell_type": "code",
   "execution_count": 4,
   "metadata": {},
   "outputs": [],
   "source": [
    "df['공사종류(대분류)'] = df['공사종류'].str.split(' / ').str[0]\n",
    "df['공사종류(중분류)'] = df['공사종류'].str.split(' / ').str[1]\n",
    "df['공종(대분류)'] = df['공종'].str.split(' > ').str[0]\n",
    "df['공종(중분류)'] = df['공종'].str.split(' > ').str[1]\n",
    "df['사고객체(대분류)'] = df['사고객체'].str.split(' > ').str[0]\n",
    "df['사고객체(중분류)'] = df['사고객체'].str.split(' > ').str[1]"
   ]
  },
  {
   "cell_type": "code",
   "execution_count": null,
   "metadata": {},
   "outputs": [],
   "source": [
    "df['공종(중분류)'].value_counts()"
   ]
  },
  {
   "cell_type": "code",
   "execution_count": null,
   "metadata": {},
   "outputs": [],
   "source": [
    "df['공사종류(중분류)'].value_counts()"
   ]
  },
  {
   "cell_type": "code",
   "execution_count": null,
   "metadata": {},
   "outputs": [],
   "source": [
    "df['인적사고'].value_counts()"
   ]
  },
  {
   "cell_type": "code",
   "execution_count": 9,
   "metadata": {},
   "outputs": [],
   "source": [
    "filtered_df = df[df['재발방지대책 및 향후조치계획'].str.contains(\"TBM\", na=False)]\n"
   ]
  },
  {
   "cell_type": "code",
   "execution_count": 11,
   "metadata": {},
   "outputs": [
    {
     "data": {
      "text/plain": [
       "1327"
      ]
     },
     "execution_count": 11,
     "metadata": {},
     "output_type": "execute_result"
    }
   ],
   "source": [
    "len(filtered_df)"
   ]
  },
  {
   "cell_type": "code",
   "execution_count": 21,
   "metadata": {},
   "outputs": [
    {
     "data": {
      "text/plain": [
       "공종(중분류)\n",
       "철근콘크리트공사        482\n",
       "가설공사            152\n",
       "기타               96\n",
       "기계설비공사           85\n",
       "토공사              39\n",
       "철골공사             38\n",
       "해체 및 철거공사        36\n",
       "전기설비공사           34\n",
       "건축 토공사           30\n",
       "타일 및 돌공사         29\n",
       "미장공사             27\n",
       "수장공사             26\n",
       "건축물 부대공사         24\n",
       "산업설비공사           22\n",
       "방수공사             20\n",
       "교량공사             20\n",
       "조적공사             19\n",
       "관공사              16\n",
       "도로 및 포장공사        16\n",
       "금속공사             15\n",
       "목공사              14\n",
       "창호 및 유리공사        11\n",
       "터널공사             11\n",
       "철도 및 궤도공사         8\n",
       "도장공사              8\n",
       "관공사 부대공사          8\n",
       "말뚝공사              6\n",
       "지정공사              6\n",
       "항만공사              5\n",
       "지붕 및 홈통공사         5\n",
       "조경공사              3\n",
       "하천공사              3\n",
       "지반개량공사            3\n",
       "프리캐스트 콘크리트공사      3\n",
       "지반조사              2\n",
       "강구조물공사            1\n",
       "통신설비공사            1\n",
       "댐 및 제방공사          1\n",
       "Name: count, dtype: int64"
      ]
     },
     "execution_count": 21,
     "metadata": {},
     "output_type": "execute_result"
    }
   ],
   "source": [
    "filtered_df['공종(중분류)'].value_counts()"
   ]
  },
  {
   "cell_type": "code",
   "execution_count": 22,
   "metadata": {},
   "outputs": [
    {
     "data": {
      "text/plain": [
       "공사종류(중분류)\n",
       "건축물          1056\n",
       "발전시설           62\n",
       "도로             39\n",
       "상하수도           35\n",
       "기타             27\n",
       "교량             25\n",
       "철도             16\n",
       "산업생산시설         14\n",
       "터널             11\n",
       "옹벽 및 절토사면      10\n",
       "댐               8\n",
       "하천              7\n",
       "환경시설            7\n",
       "항만              6\n",
       "공원              3\n",
       "수목원             1\n",
       "Name: count, dtype: int64"
      ]
     },
     "execution_count": 22,
     "metadata": {},
     "output_type": "execute_result"
    }
   ],
   "source": [
    "filtered_df['공사종류(중분류)'].value_counts()"
   ]
  },
  {
   "cell_type": "code",
   "execution_count": 23,
   "metadata": {},
   "outputs": [
    {
     "data": {
      "text/plain": [
       "인적사고\n",
       "물체에 맞음                   191\n",
       "끼임                       155\n",
       "넘어짐(미끄러짐)                145\n",
       "부딪힘                      134\n",
       "넘어짐(기타)                  124\n",
       "기타                       123\n",
       "넘어짐(물체에 걸림)              117\n",
       "떨어짐(2미터 미만)               84\n",
       "절단, 베임                    82\n",
       "떨어짐(2미터 이상 ~ 3미터 미만)      36\n",
       "떨어짐(3미터 이상 ~ 5미터 미만)      25\n",
       "떨어짐(분류불능)                 22\n",
       "찔림                        21\n",
       "질병                        18\n",
       "깔림                        17\n",
       "분류불능                      15\n",
       "화상                         7\n",
       "없음                         4\n",
       "떨어짐(5미터 이상 ~ 10미터 미만)      3\n",
       "교통사고                       2\n",
       "떨어짐(10미터 이상)               1\n",
       "감전                         1\n",
       "Name: count, dtype: int64"
      ]
     },
     "execution_count": 23,
     "metadata": {},
     "output_type": "execute_result"
    }
   ],
   "source": [
    "filtered_df['인적사고'].value_counts()"
   ]
  },
  {
   "cell_type": "code",
   "execution_count": null,
   "metadata": {},
   "outputs": [
    {
     "name": "stdout",
     "output_type": "stream",
     "text": [
      "공종(중분류)\n",
      "가설공사             6.031746\n",
      "강구조물공사           2.222222\n",
      "건축 토공사           5.444646\n",
      "건축물 부대공사         3.715170\n",
      "관공사              2.898551\n",
      "관공사 부대공사         4.060914\n",
      "교량공사             5.813953\n",
      "금속공사             5.660377\n",
      "기계설비공사           9.052183\n",
      "기타               4.646660\n",
      "댐 및 제방공사         5.263158\n",
      "도로 및 포장공사        3.980100\n",
      "도장공사             2.702703\n",
      "말뚝공사             5.084746\n",
      "목공사              5.090909\n",
      "미장공사             5.037313\n",
      "방수공사             9.478673\n",
      "산업설비공사           7.719298\n",
      "수장공사             4.384486\n",
      "전기설비공사           6.706114\n",
      "조경공사             4.687500\n",
      "조적공사             5.757576\n",
      "지반개량공사           6.000000\n",
      "지반조사             5.405405\n",
      "지붕 및 홈통공사        3.125000\n",
      "지정공사             6.315789\n",
      "창호 및 유리공사        4.545455\n",
      "철골공사             4.865557\n",
      "철근콘크리트공사         6.828163\n",
      "철도 및 궤도공사        6.956522\n",
      "타일 및 돌공사         6.458797\n",
      "터널공사             3.819444\n",
      "토공사              4.299890\n",
      "통신설비공사          11.111111\n",
      "특수 건축물공사              NaN\n",
      "프리캐스트 콘크리트공사    14.285714\n",
      "하천공사             1.327434\n",
      "항만공사             3.048780\n",
      "해체 및 철거공사        3.471553\n",
      "Name: count, dtype: float64\n"
     ]
    }
   ],
   "source": [
    "# TBM이 포함된 행의 카테고리별 개수\n",
    "tbm_counts = filtered_df['공종(중분류)'].value_counts()\n",
    "\n",
    "# 전체 DataFrame의 카테고리별 개수\n",
    "total_counts = df['공종(중분류)'].value_counts()\n",
    "\n",
    "# 각 카테고리별 TBM 사용 비율 계산 (퍼센트)\n",
    "percentage = (tbm_counts / total_counts) * 100\n",
    "print(percentage)\n"
   ]
  },
  {
   "cell_type": "code",
   "execution_count": 31,
   "metadata": {},
   "outputs": [
    {
     "data": {
      "text/plain": [
       "8        2023-12-30 오전 08:30\n",
       "16       2023-12-29 오후 12:55\n",
       "28       2023-12-29 오전 09:15\n",
       "38       2023-12-28 오후 04:00\n",
       "40       2023-12-28 오후 03:00\n",
       "                ...         \n",
       "23345    2019-07-08 오후 03:00\n",
       "23354    2019-07-08 오전 08:30\n",
       "23360    2019-07-07 오후 03:00\n",
       "23375    2019-07-06 오전 08:25\n",
       "23395    2019-07-04 오후 06:10\n",
       "Name: 발생일시, Length: 1327, dtype: object"
      ]
     },
     "execution_count": 31,
     "metadata": {},
     "output_type": "execute_result"
    }
   ],
   "source": [
    "filtered_df['발생일시']"
   ]
  },
  {
   "cell_type": "code",
   "execution_count": 33,
   "metadata": {},
   "outputs": [
    {
     "name": "stdout",
     "output_type": "stream",
     "text": [
      "연도\n",
      "2019    100\n",
      "2020    176\n",
      "2021    211\n",
      "2022    315\n",
      "2023    525\n",
      "Name: count, dtype: int64\n"
     ]
    },
    {
     "name": "stderr",
     "output_type": "stream",
     "text": [
      "C:\\Users\\minkyu\\AppData\\Local\\Temp\\ipykernel_8132\\2896490640.py:2: SettingWithCopyWarning: \n",
      "A value is trying to be set on a copy of a slice from a DataFrame.\n",
      "Try using .loc[row_indexer,col_indexer] = value instead\n",
      "\n",
      "See the caveats in the documentation: https://pandas.pydata.org/pandas-docs/stable/user_guide/indexing.html#returning-a-view-versus-a-copy\n",
      "  filtered_df['연도'] = filtered_df['발생일시'].str.slice(0, 4)\n"
     ]
    }
   ],
   "source": [
    "# '발생일시' 열에서 앞의 4글자(연도)를 추출하여 새로운 '연도' 열 생성\n",
    "filtered_df['연도'] = filtered_df['발생일시'].str.slice(0, 4)\n",
    "\n",
    "# 연도별 발생 건수 계산 후, 인덱스를 오름차순으로 정렬\n",
    "year_counts = filtered_df['연도'].value_counts().sort_index()\n",
    "\n",
    "print(year_counts)\n"
   ]
  },
  {
   "cell_type": "code",
   "execution_count": null,
   "metadata": {},
   "outputs": [],
   "source": []
  }
 ],
 "metadata": {
  "kernelspec": {
   "display_name": "sd2",
   "language": "python",
   "name": "python3"
  },
  "language_info": {
   "codemirror_mode": {
    "name": "ipython",
    "version": 3
   },
   "file_extension": ".py",
   "mimetype": "text/x-python",
   "name": "python",
   "nbconvert_exporter": "python",
   "pygments_lexer": "ipython3",
   "version": "3.10.16"
  }
 },
 "nbformat": 4,
 "nbformat_minor": 2
}
