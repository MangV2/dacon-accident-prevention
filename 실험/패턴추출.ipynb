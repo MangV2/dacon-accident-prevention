{
 "cells": [
  {
   "cell_type": "code",
   "execution_count": null,
   "metadata": {},
   "outputs": [],
   "source": [
    "import pandas as pd\n",
    "import re\n",
    "from prefixspan import PrefixSpan\n",
    "\n",
    "# 1. 데이터 로딩\n",
    "df = pd.read_csv(\"train.csv\")\n",
    "texts = df[\"재발방지대책 및 향후조치계획\"].dropna().tolist()\n",
    "\n",
    "# 2. 텍스트 전처리 및 토큰화 함수\n",
    "def preprocess_text(text):\n",
    "    # 특수문자 제거 (한글에 맞게 필요 시 추가 전처리)\n",
    "    text = re.sub(r'[^\\w\\s]', '', text)\n",
    "    # 공백 기준 토큰화\n",
    "    tokens = text.split()\n",
    "    return tokens\n",
    "\n",
    "# 모든 텍스트를 토큰 리스트(시퀀스)로 변환\n",
    "sequences = [preprocess_text(text) for text in texts]\n",
    "\n",
    "# 3. PrefixSpan을 사용한 순차 패턴 추출\n",
    "ps = PrefixSpan(sequences)\n",
    "\n",
    "# 최소 지지도를 5번 이상 등장하는 패턴으로 설정 (데이터에 맞게 조정)\n",
    "patterns = ps.frequent(minsup=230)\n",
    "\n",
    "# 지지도 기준 내림차순 정렬 후 출력\n",
    "for sup, pattern in sorted(patterns, key=lambda x: -x[0]):\n",
    "    print(f\"지지도: {sup}, 패턴: {pattern}\")\n"
   ]
  },
  {
   "cell_type": "code",
   "execution_count": null,
   "metadata": {},
   "outputs": [],
   "source": []
  }
 ],
 "metadata": {
  "language_info": {
   "name": "python"
  }
 },
 "nbformat": 4,
 "nbformat_minor": 2
}
