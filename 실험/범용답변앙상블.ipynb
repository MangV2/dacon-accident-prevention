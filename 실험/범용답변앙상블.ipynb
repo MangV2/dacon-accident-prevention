{
 "cells": [
  {
   "cell_type": "code",
   "execution_count": null,
   "metadata": {},
   "outputs": [],
   "source": [
    "import pandas as pd \n",
    "import numpy as np \n",
    "\n",
    "from sklearn.metrics.pairwise import cosine_similarity\n",
    "from tqdm.auto import tqdm"
   ]
  },
  {
   "cell_type": "code",
   "execution_count": null,
   "metadata": {},
   "outputs": [],
   "source": [
    "text_value = \"작업전 안전교육 실시와 안전관리자 안전점검 실시를 통한 재발 방지 대책 및 향후 조치 계획\"\n",
    "\n",
    "# 인덱스 0부터 963까지 총 964행을 가진 DataFrame 생성\n",
    "sub1 = pd.DataFrame({\"sub\": [text_value] * 964})"
   ]
  },
  {
   "cell_type": "code",
   "execution_count": null,
   "metadata": {},
   "outputs": [],
   "source": [
    "sub2 = pd.read_csv(\"train2.csv\")"
   ]
  },
  {
   "cell_type": "code",
   "execution_count": null,
   "metadata": {},
   "outputs": [],
   "source": [
    "sub2 = sub2['templeate']"
   ]
  },
  {
   "cell_type": "code",
   "execution_count": null,
   "metadata": {},
   "outputs": [],
   "source": [
    "sub3 = pd.read_csv(\"data/submissionV13.csv\")\n",
    "sub4 = pd.read_csv(\"data/submissionV18ckp3000.csv\")"
   ]
  },
  {
   "cell_type": "code",
   "execution_count": null,
   "metadata": {},
   "outputs": [],
   "source": [
    "sub3 = sub3['재발방지대책 및 향후조치계획']\n",
    "sub4 = sub4['재발방지대책 및 향후조치계획']"
   ]
  },
  {
   "cell_type": "code",
   "execution_count": null,
   "metadata": {},
   "outputs": [],
   "source": [
    "df = pd.concat([sub1, sub2, sub3, sub4], axis=1)\n"
   ]
  },
  {
   "cell_type": "code",
   "execution_count": null,
   "metadata": {},
   "outputs": [],
   "source": [
    "df.columns = ['sub1', 'sub2', 'sub3', 'sub4']\n"
   ]
  },
  {
   "cell_type": "code",
   "execution_count": null,
   "metadata": {},
   "outputs": [],
   "source": [
    "df.columns"
   ]
  },
  {
   "cell_type": "code",
   "execution_count": null,
   "metadata": {},
   "outputs": [],
   "source": [
    "df = df[:964]"
   ]
  },
  {
   "cell_type": "code",
   "execution_count": null,
   "metadata": {},
   "outputs": [],
   "source": [
    "from sentence_transformers import SentenceTransformer\n",
    "\n",
    "# Embedding Vector 추출에 활용할 모델(jhgan/ko-sbert-sts) 불러오기\n",
    "model = SentenceTransformer('jhgan/ko-sbert-sts', use_auth_token=False)"
   ]
  },
  {
   "cell_type": "code",
   "execution_count": null,
   "metadata": {},
   "outputs": [],
   "source": [
    "import numpy as np\n",
    "from sklearn.metrics.pairwise import cosine_similarity\n",
    "from tqdm import tqdm\n",
    "\n",
    "# 예시: df는 sub1, sub2, sub3, sub4 컬럼을 포함하는 데이터프레임\n",
    "# model은 텍스트를 벡터로 인코딩하는 모델입니다.\n",
    "\n",
    "# 각 행별 대표 텍스트와 유사도 정보를 저장할 리스트 초기화\n",
    "representative_texts = []  # 각 행별 대표 텍스트 저장\n",
    "cosine_scores = []         # 각 행별 대표 텍스트와 다른 텍스트 간 유사도 기록\n",
    "\n",
    "# 모델을 통해 텍스트를 벡터로 인코딩하는 예시 함수가 있다고 가정합니다.\n",
    "# 예: model.encode(text)\n",
    "# model은 이미 초기화된 인코딩 모델이어야 합니다.\n",
    "\n",
    "# 각 행에 대해 sub1~sub5 컬럼의 텍스트를 비교\n",
    "for idx, row in tqdm(df.iterrows(), total=len(df)):\n",
    "    # sub1부터 sub5까지의 텍스트를 리스트로 추출합니다.\n",
    "    texts = [row[f\"sub{i}\"] for i in range(1, 5)]\n",
    "    \n",
    "    # 각 텍스트를 벡터화합니다.\n",
    "    vectors = np.stack([model.encode(text) for text in texts])\n",
    "    \n",
    "    # 텍스트들 간의 코사인 유사도 행렬 계산\n",
    "    similarity = cosine_similarity(vectors, vectors)\n",
    "    \n",
    "    # 각 텍스트에 대해 다른 텍스트들과의 평균 유사도를 계산합니다.\n",
    "    avg_similarity = similarity.mean(axis=1)\n",
    "    \n",
    "    # 평균 유사도가 가장 높은 텍스트의 인덱스를 선택합니다.\n",
    "    rep_idx = avg_similarity.argmax()\n",
    "    \n",
    "    # 대표 텍스트와 해당 텍스트의 유사도 벡터를 저장합니다.\n",
    "    representative_texts.append(texts[rep_idx])\n",
    "    cosine_scores.append(similarity[rep_idx].tolist())\n",
    "\n",
    "# 결과를 DataFrame의 새로운 컬럼에 추가합니다.\n",
    "df[\"대표재발방지대책\"] = representative_texts\n",
    "df[\"대표유사도\"] = cosine_scores\n",
    "\n",
    "# 결과 출력\n",
    "print(df.head())"
   ]
  },
  {
   "cell_type": "code",
   "execution_count": null,
   "metadata": {},
   "outputs": [],
   "source": [
    "df['대표재발방지대책']"
   ]
  },
  {
   "cell_type": "code",
   "execution_count": null,
   "metadata": {},
   "outputs": [],
   "source": [
    "\n",
    "\n",
    "# 문장 리스트를 입력하여 임베딩 생성\n",
    "pred_embeddings = model.encode(df['대표재발방지대책'])"
   ]
  },
  {
   "cell_type": "code",
   "execution_count": null,
   "metadata": {},
   "outputs": [],
   "source": [
    "submission = pd.read_csv(\"sample_submission.csv\", encoding = 'utf-8-sig')\n",
    "# 최종 결과 저장\n",
    "submission.iloc[:,1] = df['대표재발방지대책']\n",
    "submission.iloc[:,2:] = pred_embeddings\n",
    "submission.head()\n",
    "# 최종 결과를 CSV로 저장\n",
    "submission.to_csv('신기술V2.csv', index=False, encoding='utf-8-sig')"
   ]
  },
  {
   "cell_type": "code",
   "execution_count": null,
   "metadata": {},
   "outputs": [],
   "source": []
  }
 ],
 "metadata": {
  "language_info": {
   "name": "python"
  }
 },
 "nbformat": 4,
 "nbformat_minor": 2
}
