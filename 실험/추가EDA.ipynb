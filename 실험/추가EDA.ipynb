{
 "cells": [
  {
   "cell_type": "code",
   "execution_count": null,
   "metadata": {},
   "outputs": [],
   "source": [
    "import pandas as pd \n",
    "import numpy as np \n",
    "\n",
    "from sklearn.metrics.pairwise import cosine_similarity\n",
    "from tqdm.auto import tqdm"
   ]
  },
  {
   "cell_type": "code",
   "execution_count": null,
   "metadata": {},
   "outputs": [],
   "source": [
    "df = pd.read_csv(\"train.csv\")"
   ]
  },
  {
   "cell_type": "code",
   "execution_count": null,
   "metadata": {},
   "outputs": [],
   "source": [
    "# 토픽 모델링 예시(LDA)\n",
    "from sklearn.feature_extraction.text import TfidfVectorizer\n",
    "from sklearn.decomposition import LatentDirichletAllocation\n",
    "\n",
    "vectorizer = TfidfVectorizer(max_features=1000, stop_words='english')\n",
    "X_tfidf = vectorizer.fit_transform(df['재발방지대책 및 향후조치계획'])\n",
    "\n",
    "lda = LatentDirichletAllocation(n_components=5, random_state=42)\n",
    "lda.fit(X_tfidf)\n",
    "\n",
    "terms = vectorizer.get_feature_names_out()\n",
    "for idx, topic in enumerate(lda.components_):\n",
    "    print(f\"Topic #{idx+1}: \", [terms[i] for i in topic.argsort()[:-11:-1]])\n"
   ]
  },
  {
   "cell_type": "code",
   "execution_count": null,
   "metadata": {},
   "outputs": [],
   "source": [
    "import pandas as pd\n",
    "from sklearn.feature_extraction.text import CountVectorizer\n",
    "from sklearn.decomposition import LatentDirichletAllocation\n",
    "from konlpy.tag import Okt"
   ]
  },
  {
   "cell_type": "code",
   "execution_count": null,
   "metadata": {},
   "outputs": [],
   "source": [
    "okt = Okt()\n",
    "\n",
    "# 형태소 분석 및 토큰화 함수\n",
    "def tokenizer(text):\n",
    "    tokens = okt.nouns(text)  # 명사만 사용 (필요시 morphs로 변경 가능)\n",
    "    tokens = [word for word in tokens if len(word) > 1]  # 1글자 이하 제거\n",
    "    return tokens\n",
    "\n",
    "# CountVectorizer로 토큰화 수행\n",
    "vectorizer = CountVectorizer(max_features=1000, tokenizer=tokenizer)\n",
    "X = vectorizer.fit_transform(df['재발방지대책 및 향후조치계획'])\n",
    "\n",
    "# LDA 모델 학습\n",
    "lda = LatentDirichletAllocation(n_components=5, random_state=42)\n",
    "lda.fit(X)\n",
    "\n",
    "# 토픽별 상위 단어 출력\n",
    "terms = vectorizer.get_feature_names_out()\n",
    "for idx, topic in enumerate(lda.components_):\n",
    "    print(f\"토픽 #{idx+1}: \", [terms[i] for i in topic.argsort()[:-11:-1]])"
   ]
  },
  {
   "cell_type": "code",
   "execution_count": null,
   "metadata": {},
   "outputs": [],
   "source": [
    "from sentence_transformers import SentenceTransformer\n",
    "\n",
    "# Embedding Vector 추출에 활용할 모델(jhgan/ko-sbert-sts) 불러오기\n",
    "model = SentenceTransformer('jhgan/ko-sbert-sts', use_auth_token=False)\n",
    "embeddings = model.encode(df['재발방지대책 및 향후조치계획'].tolist())"
   ]
  },
  {
   "cell_type": "code",
   "execution_count": null,
   "metadata": {},
   "outputs": [],
   "source": [
    "cos_sim_matrix = cosine_similarity(embeddings)"
   ]
  },
  {
   "cell_type": "code",
   "execution_count": null,
   "metadata": {},
   "outputs": [],
   "source": [
    "from sklearn.cluster import AgglomerativeClustering\n",
    "from sklearn.metrics import silhouette_score\n",
    "import matplotlib.pyplot as plt\n",
    "\n",
    "silhouette_scores = []\n",
    "\n",
    "# 2~10개 클러스터까지 테스트하여 최적 클러스터 개수를 찾음\n",
    "for n_clusters in range(2, 11):\n",
    "    cluster_model = AgglomerativeClustering(\n",
    "        n_clusters=n_clusters, metric='cosine', linkage='average'\n",
    "    )\n",
    "    labels = cluster_model.fit_predict(embeddings)\n",
    "    score = silhouette_score(embeddings, labels, metric='cosine')\n",
    "    silhouette_scores.append(score)\n",
    "    print(f\"클러스터 개수={n_clusters}, 실루엣 점수={score:.4f}\")\n",
    "\n",
    "# 결과 그래프 출력\n",
    "plt.figure(figsize=(8,4))\n",
    "plt.plot(range(2,11), silhouette_scores, marker='o')\n",
    "plt.xlabel('Number of clusters')\n",
    "plt.ylabel('Silhouette Score')\n",
    "plt.title('Optimal Number of Clusters')\n",
    "plt.grid()\n",
    "plt.show()\n"
   ]
  },
  {
   "cell_type": "code",
   "execution_count": null,
   "metadata": {},
   "outputs": [],
   "source": [
    "from sklearn.cluster import AgglomerativeClustering\n",
    "from sklearn.manifold import TSNE\n",
    "import matplotlib.pyplot as plt\n",
    "import seaborn as sns\n",
    "import pandas as pd\n",
    "\n",
    "# 앞서 선택한 최적 클러스터 수로 설정 (여기선 예시로 5로 가정)\n",
    "optimal_clusters = 10\n",
    "\n",
    "# 클러스터링 다시 수행\n",
    "cluster_model = AgglomerativeClustering(\n",
    "    n_clusters=optimal_clusters, metric='cosine', linkage='average'\n",
    ")\n",
    "labels = cluster_model.fit_predict(embeddings)\n",
    "\n",
    "# t-SNE로 차원 축소 (2차원으로 표현)\n",
    "tsne_model = TSNE(n_components=2, random_state=42, perplexity=30, metric='cosine')\n",
    "tsne_embeddings = tsne_model.fit_transform(embeddings)\n",
    "\n",
    "# 시각화용 DataFrame 생성\n",
    "viz_df = pd.DataFrame({\n",
    "    'x': tsne_embeddings[:, 0],\n",
    "    'y': tsne_embeddings[:, 1],\n",
    "    'label': labels,\n",
    "    'text': df['재발방지대책 및 향후조치계획']\n",
    "})\n",
    "\n",
    "# 클러스터 결과 시각화\n",
    "plt.figure(figsize=(10, 7))\n",
    "sns.scatterplot(\n",
    "    x='x', y='y',\n",
    "    hue='label',\n",
    "    palette=sns.color_palette('tab10', optimal_clusters),\n",
    "    data=viz_df,\n",
    "    legend='full',\n",
    "    s=60,\n",
    "    alpha=0.8\n",
    ")\n",
    "\n",
    "plt.title(f't-SNE visualization of {optimal_clusters} clusters', fontsize=15)\n",
    "plt.xlabel('t-SNE Dimension 1')\n",
    "plt.ylabel('t-SNE Dimension 2')\n",
    "plt.legend(title='Cluster', bbox_to_anchor=(1.05, 1), loc='upper left')\n",
    "plt.grid(True)\n",
    "plt.show()\n"
   ]
  },
  {
   "cell_type": "code",
   "execution_count": null,
   "metadata": {},
   "outputs": [],
   "source": [
    "import umap.umap_ as umap\n",
    "import seaborn as sns\n",
    "\n",
    "reducer = umap.UMAP(n_neighbors=15, min_dist=0.3, metric='cosine', random_state=42)\n",
    "umap_embeddings = reducer.fit_transform(embeddings)\n",
    "\n",
    "# 시각화\n",
    "plt.figure(figsize=(10, 7))\n",
    "sns.scatterplot(x=umap_embeddings[:,0], y=umap_embeddings[:,1], hue=labels, palette='tab10')\n",
    "plt.title('UMAP Visualization')\n",
    "plt.show()\n"
   ]
  },
  {
   "cell_type": "code",
   "execution_count": null,
   "metadata": {},
   "outputs": [],
   "source": []
  }
 ],
 "metadata": {
  "language_info": {
   "name": "python"
  }
 },
 "nbformat": 4,
 "nbformat_minor": 2
}
