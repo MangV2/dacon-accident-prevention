{
 "cells": [
  {
   "cell_type": "code",
   "execution_count": null,
   "metadata": {},
   "outputs": [],
   "source": [
    "from sentence_transformers import SentenceTransformer\n",
    "import numpy as np"
   ]
  },
  {
   "cell_type": "code",
   "execution_count": null,
   "metadata": {},
   "outputs": [],
   "source": [
    "import sys\n",
    "sys.path.append(r\"C:\\Users\\minkyu\\Desktop\\K-TACC-main\\utils\")\n",
    "from BertAugmentation import BertAugmentation"
   ]
  },
  {
   "cell_type": "code",
   "execution_count": null,
   "metadata": {},
   "outputs": [],
   "source": [
    "model = SentenceTransformer('jhgan/ko-sbert-sts', use_auth_token=False)"
   ]
  },
  {
   "cell_type": "code",
   "execution_count": null,
   "metadata": {},
   "outputs": [],
   "source": [
    "def cosine_similarity(a, b):\n",
    "    dot_product = np.dot(a, b)\n",
    "    norm_a = np.linalg.norm(a)\n",
    "    norm_b = np.linalg.norm(b)\n",
    "    return dot_product / (norm_a * norm_b) if norm_a != 0 and norm_b != 0 else 0"
   ]
  },
  {
   "cell_type": "code",
   "execution_count": null,
   "metadata": {},
   "outputs": [],
   "source": [
    "BERT_aug = BertAugmentation()\n",
    "random_masking_replacement = BERT_aug.random_masking_replacement\n",
    "random_masking_insertion = BERT_aug.random_masking_insertion"
   ]
  },
  {
   "cell_type": "code",
   "execution_count": null,
   "metadata": {},
   "outputs": [],
   "source": [
    "sentence = \"고소작업 중 추락 위험이 있음에도 불구하고, 안전난간대, 안전고리 착용 등 안전장치가 미흡하였음.\"\n",
    "ratio = 0.20 # 단어 수 * ratio 로 [MASK] 토큰 수 결정"
   ]
  },
  {
   "cell_type": "code",
   "execution_count": null,
   "metadata": {},
   "outputs": [],
   "source": [
    "def aug_test(sentence, ratio):\n",
    "    rmr = random_masking_replacement(sentence, ratio)\n",
    "    rmi = random_masking_insertion(sentence, ratio)\n",
    "    rmr_embed = model.encode(rmr)\n",
    "    rmi_embed = model.encode(rmi)\n",
    "    setence_embed = model.encode(sentence) \n",
    "    print('원본 : ',sentence)\n",
    "    print('랜덤 대체 :', rmr,'코사인 유사도 :', cosine_similarity(setence_embed,rmr_embed))\n",
    "    print('랜덤 추가 :', rmi,'코사인 유사도 :', cosine_similarity(setence_embed,rmi_embed) )"
   ]
  },
  {
   "cell_type": "code",
   "execution_count": null,
   "metadata": {},
   "outputs": [],
   "source": [
    "sentence = \"3층 슬라브 작업시 이동중  미끄러짐\"\n",
    "aug_test(sentence,ratio)"
   ]
  },
  {
   "cell_type": "code",
   "execution_count": null,
   "metadata": {},
   "outputs": [],
   "source": [
    "sentence = '부주의'\n",
    "aug_test(sentence,ratio)"
   ]
  },
  {
   "cell_type": "code",
   "execution_count": null,
   "metadata": {},
   "outputs": [],
   "source": [
    "sentence = '고소작업 중 추락 위험이 있음에도 불구하고, 안전난간대, 안전고리 착용 등 안전장치가 미흡하였음.'\n",
    "aug_test(sentence,0.2)\n",
    "print()\n",
    "aug_test(sentence,0.3)\n",
    "print()\n",
    "aug_test(sentence,0.4)\n"
   ]
  },
  {
   "cell_type": "code",
   "execution_count": null,
   "metadata": {},
   "outputs": [],
   "source": [
    "sentence ='2인1조로 밀어서 운반 하던 중 상호 의사소통 미흡으로,   한방향으로만 힘이 들어가 손가락이 자재와 자재 사이에 끼임'\n",
    "aug_test(sentence,0.2)\n",
    "print()\n",
    "aug_test(sentence,0.3)\n",
    "print()\n",
    "aug_test(sentence,0.4)"
   ]
  },
  {
   "cell_type": "code",
   "execution_count": null,
   "metadata": {},
   "outputs": [],
   "source": [
    "sentence ='우레탄폼 사춤작업 준비 중 얼어있는 우레탄폼 케이스를 토치로 가열하다 케이스가 폭발하면서 파편에 맞아 우측 발가락 골절됨'\n",
    "aug_test(sentence,0.2)\n",
    "print()\n",
    "aug_test(sentence,0.3)\n",
    "print()\n",
    "aug_test(sentence,0.4)"
   ]
  },
  {
   "cell_type": "code",
   "execution_count": null,
   "metadata": {},
   "outputs": [],
   "source": [
    "sentence ='유로폼 정리작업으로 주변 정리가 미흡하여 작업자 부주의로 인한 사고'\n",
    "aug_test(sentence,0.2)\n",
    "print()\n",
    "aug_test(sentence,0.3)\n",
    "print()\n",
    "aug_test(sentence,0.4)"
   ]
  },
  {
   "cell_type": "code",
   "execution_count": null,
   "metadata": {},
   "outputs": [],
   "source": []
  }
 ],
 "metadata": {
  "language_info": {
   "name": "python"
  }
 },
 "nbformat": 4,
 "nbformat_minor": 2
}
