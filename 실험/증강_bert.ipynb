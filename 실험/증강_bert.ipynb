{
 "cells": [
  {
   "cell_type": "code",
   "execution_count": null,
   "metadata": {},
   "outputs": [],
   "source": [
    "from sentence_transformers import SentenceTransformer\n",
    "import numpy as np\n",
    "import sys\n",
    "import pandas as pd\n",
    "sys.path.append(r\"C:\\Users\\minkyu\\Desktop\\K-TACC-main\\utils\") # 깃헙에서 레포 다운 받은 path 지정 해줘야함 \n",
    "from BertAugmentation import BertAugmentation\n"
   ]
  },
  {
   "cell_type": "code",
   "execution_count": null,
   "metadata": {},
   "outputs": [],
   "source": [
    "BERT_aug = BertAugmentation()\n",
    "random_masking_insertion = BERT_aug.random_masking_insertion"
   ]
  },
  {
   "cell_type": "code",
   "execution_count": null,
   "metadata": {},
   "outputs": [],
   "source": [
    "df = pd.read_csv('train_df.csv')"
   ]
  },
  {
   "cell_type": "code",
   "execution_count": null,
   "metadata": {},
   "outputs": [],
   "source": [
    "filtered_df = df[df['공종(중분류)'] != '철근콘크리트공사']"
   ]
  },
  {
   "cell_type": "code",
   "execution_count": null,
   "metadata": {},
   "outputs": [],
   "source": [
    "from tqdm import tqdm\n",
    "tqdm.pandas()\n",
    "\n",
    "filtered_df['aug'] = filtered_df['사고원인'].progress_apply(\n",
    "    lambda sentence: random_masking_insertion(sentence, 0.2) if isinstance(sentence, str) else sentence\n",
    ")\n"
   ]
  },
  {
   "cell_type": "code",
   "execution_count": null,
   "metadata": {},
   "outputs": [],
   "source": [
    "filtered_df"
   ]
  },
  {
   "cell_type": "code",
   "execution_count": null,
   "metadata": {},
   "outputs": [],
   "source": [
    "BERT_aug = BertAugmentation()\n",
    "random_masking_replacement = BERT_aug.random_masking_replacement\n",
    "random_masking_insertion = BERT_aug.random_masking_insertion"
   ]
  },
  {
   "cell_type": "code",
   "execution_count": null,
   "metadata": {},
   "outputs": [],
   "source": [
    "import pandas as pd\n",
    "from tqdm import tqdm\n",
    "\n",
    "# filtered_df는 원본 DataFrame이라고 가정합니다.\n",
    "augmented_df_rmr = filtered_df.copy()\n",
    "augmented_df_rmi = filtered_df.copy()\n",
    "\n",
    "ratio = 0.2  # 증강 비율\n",
    "\n",
    "for idx, row in tqdm(filtered_df.iterrows(), total=len(filtered_df), desc=\"증강 진행\"):\n",
    "    sentence = row['사고원인']\n",
    "    \n",
    "    # 문자열이 아닐 경우 문자열로 변환 (예: NaN 또는 float인 경우)\n",
    "    if not isinstance(sentence, str):\n",
    "        sentence = str(sentence)\n",
    "    \n",
    "    # 두 가지 증강 방법 적용\n",
    "    augmented_sentence_rmr = random_masking_replacement(sentence, ratio)\n",
    "    augmented_sentence_rmi = random_masking_insertion(sentence, ratio)\n",
    "    \n",
    "    # 증강된 결과를 각 DataFrame에 대체\n",
    "    augmented_df_rmr.at[idx, '사고원인'] = augmented_sentence_rmr\n",
    "    augmented_df_rmi.at[idx, '사고원인'] = augmented_sentence_rmi"
   ]
  },
  {
   "cell_type": "code",
   "execution_count": null,
   "metadata": {},
   "outputs": [],
   "source": [
    "augmented_df_rmr['사고원인'].head()"
   ]
  },
  {
   "cell_type": "code",
   "execution_count": null,
   "metadata": {},
   "outputs": [],
   "source": [
    "augmented_df_rmi['사고원인'].head()"
   ]
  },
  {
   "cell_type": "code",
   "execution_count": null,
   "metadata": {},
   "outputs": [],
   "source": [
    "filtered_df = filtered_df.reset_index(drop=True)\n",
    "augmented_df_rmr = augmented_df_rmr.reset_index(drop=True)\n",
    "augmented_df_rmi = augmented_df_rmi.reset_index(drop=True)"
   ]
  },
  {
   "cell_type": "code",
   "execution_count": null,
   "metadata": {},
   "outputs": [],
   "source": [
    "augmented_df_rmr = augmented_df_rmr.drop(columns= ['aug','cosine_similarity','bert_similarity'])\n",
    "augmented_df_rmi = augmented_df_rmi.drop(columns= ['aug','cosine_similarity','bert_similarity'])"
   ]
  },
  {
   "cell_type": "code",
   "execution_count": null,
   "metadata": {},
   "outputs": [],
   "source": [
    "augmented_df_rmr.to_csv(\"augmented_df_rmr.csv\", index=False, encoding='utf-8-sig')\n",
    "augmented_df_rmi.to_csv(\"augmented_df_rmi.csv\", index=False, encoding='utf-8-sig')\n"
   ]
  },
  {
   "cell_type": "code",
   "execution_count": null,
   "metadata": {},
   "outputs": [],
   "source": [
    "import numpy as np\n",
    "import pandas as pd"
   ]
  },
  {
   "cell_type": "code",
   "execution_count": null,
   "metadata": {},
   "outputs": [],
   "source": [
    "train = pd.read_csv('train_df.csv')\n",
    "augmented_df_rmr = pd.read_csv(\"augmented_df_rmr.csv\")"
   ]
  },
  {
   "cell_type": "code",
   "execution_count": null,
   "metadata": {},
   "outputs": [],
   "source": [
    "len(train)"
   ]
  },
  {
   "cell_type": "code",
   "execution_count": null,
   "metadata": {},
   "outputs": [],
   "source": [
    "len(augmented_df_rmr)"
   ]
  },
  {
   "cell_type": "code",
   "execution_count": null,
   "metadata": {},
   "outputs": [],
   "source": [
    "combined_df = pd.concat([train, augmented_df_rmr], ignore_index=True)\n"
   ]
  },
  {
   "cell_type": "code",
   "execution_count": null,
   "metadata": {},
   "outputs": [],
   "source": [
    "combined_df2 = pd.concat([combined_df, augmented_df_rmr], ignore_index=True)\n"
   ]
  },
  {
   "cell_type": "code",
   "execution_count": null,
   "metadata": {},
   "outputs": [],
   "source": [
    "combined_df.to_csv(\"train_rmi.csv\", index=False, encoding='utf-8-sig')\n",
    "combined_df2.to_csv(\"train_rmi_rmr.csv\", index=False, encoding='utf-8-sig')"
   ]
  },
  {
   "cell_type": "code",
   "execution_count": null,
   "metadata": {},
   "outputs": [],
   "source": [
    "combined_df.to_csv(\"train+rmr.csv\", index=False, encoding='utf-8-sig')"
   ]
  },
  {
   "cell_type": "code",
   "execution_count": null,
   "metadata": {},
   "outputs": [],
   "source": []
  }
 ],
 "metadata": {
  "language_info": {
   "name": "python"
  }
 },
 "nbformat": 4,
 "nbformat_minor": 2
}
