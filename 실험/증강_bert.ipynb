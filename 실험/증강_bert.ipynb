{
 "cells": [
  {
   "cell_type": "code",
   "execution_count": null,
   "metadata": {},
   "outputs": [],
   "source": [
    "from sentence_transformers import SentenceTransformer\n",
    "import numpy as np\n",
    "import sys\n",
    "import pandas as pd\n",
    "sys.path.append(r\"C:\\Users\\minkyu\\Desktop\\K-TACC-main\\utils\") # 깃헙에서 레포 다운 받은 path 지정 해줘야함 \n",
    "from BertAugmentation import BertAugmentation\n"
   ]
  },
  {
   "cell_type": "code",
   "execution_count": null,
   "metadata": {},
   "outputs": [
    {
     "name": "stderr",
     "output_type": "stream",
     "text": [
      "Device set to use cuda:0\n"
     ]
    }
   ],
   "source": [
    "BERT_aug = BertAugmentation()\n",
    "random_masking_insertion = BERT_aug.random_masking_insertion"
   ]
  },
  {
   "cell_type": "code",
   "execution_count": 6,
   "metadata": {},
   "outputs": [],
   "source": [
    "df = pd.read_csv('train_df.csv')"
   ]
  },
  {
   "cell_type": "code",
   "execution_count": 10,
   "metadata": {},
   "outputs": [],
   "source": [
    "filtered_df = df[df['공종(중분류)'] != '철근콘크리트공사']"
   ]
  },
  {
   "cell_type": "code",
   "execution_count": 16,
   "metadata": {},
   "outputs": [
    {
     "name": "stderr",
     "output_type": "stream",
     "text": [
      "100%|██████████| 14716/14716 [07:16<00:00, 33.68it/s]\n",
      "C:\\Users\\minkyu\\AppData\\Local\\Temp\\ipykernel_10044\\2282848037.py:4: SettingWithCopyWarning: \n",
      "A value is trying to be set on a copy of a slice from a DataFrame.\n",
      "Try using .loc[row_indexer,col_indexer] = value instead\n",
      "\n",
      "See the caveats in the documentation: https://pandas.pydata.org/pandas-docs/stable/user_guide/indexing.html#returning-a-view-versus-a-copy\n",
      "  filtered_df['aug'] = filtered_df['사고원인'].progress_apply(\n"
     ]
    }
   ],
   "source": [
    "from tqdm import tqdm\n",
    "tqdm.pandas()\n",
    "\n",
    "filtered_df['aug'] = filtered_df['사고원인'].progress_apply(\n",
    "    lambda sentence: random_masking_insertion(sentence, 0.2) if isinstance(sentence, str) else sentence\n",
    ")\n"
   ]
  },
  {
   "cell_type": "code",
   "execution_count": null,
   "metadata": {},
   "outputs": [],
   "source": [
    "filtered_df"
   ]
  },
  {
   "cell_type": "code",
   "execution_count": 42,
   "metadata": {},
   "outputs": [
    {
     "name": "stderr",
     "output_type": "stream",
     "text": [
      "Device set to use cuda:0\n"
     ]
    }
   ],
   "source": [
    "BERT_aug = BertAugmentation()\n",
    "random_masking_replacement = BERT_aug.random_masking_replacement\n",
    "random_masking_insertion = BERT_aug.random_masking_insertion"
   ]
  },
  {
   "cell_type": "code",
   "execution_count": 47,
   "metadata": {},
   "outputs": [
    {
     "name": "stderr",
     "output_type": "stream",
     "text": [
      "증강 진행:   0%|          | 0/14716 [00:00<?, ?it/s]"
     ]
    },
    {
     "name": "stderr",
     "output_type": "stream",
     "text": [
      "증강 진행: 100%|██████████| 14716/14716 [17:23<00:00, 14.11it/s]\n"
     ]
    }
   ],
   "source": [
    "import pandas as pd\n",
    "from tqdm import tqdm\n",
    "\n",
    "# filtered_df는 원본 DataFrame이라고 가정합니다.\n",
    "augmented_df_rmr = filtered_df.copy()\n",
    "augmented_df_rmi = filtered_df.copy()\n",
    "\n",
    "ratio = 0.2  # 증강 비율\n",
    "\n",
    "for idx, row in tqdm(filtered_df.iterrows(), total=len(filtered_df), desc=\"증강 진행\"):\n",
    "    sentence = row['사고원인']\n",
    "    \n",
    "    # 문자열이 아닐 경우 문자열로 변환 (예: NaN 또는 float인 경우)\n",
    "    if not isinstance(sentence, str):\n",
    "        sentence = str(sentence)\n",
    "    \n",
    "    # 두 가지 증강 방법 적용\n",
    "    augmented_sentence_rmr = random_masking_replacement(sentence, ratio)\n",
    "    augmented_sentence_rmi = random_masking_insertion(sentence, ratio)\n",
    "    \n",
    "    # 증강된 결과를 각 DataFrame에 대체\n",
    "    augmented_df_rmr.at[idx, '사고원인'] = augmented_sentence_rmr\n",
    "    augmented_df_rmi.at[idx, '사고원인'] = augmented_sentence_rmi"
   ]
  },
  {
   "cell_type": "code",
   "execution_count": 54,
   "metadata": {},
   "outputs": [
    {
     "data": {
      "text/plain": [
       "0    미끄럼 위험이 있는 사다리 답단에 미끄럼방지 장치 설치, 전도 방지조치 등 사다리 ...\n",
       "1      로프를 이용 한 후 불량으로 묶어둔 배관 서포트가 지면으로 30Cm 가량 협착 발생.\n",
       "6                                토목공사 경계석설치 작업중 어깨인대손상\n",
       "7                                           자재 이동중 넘어짐\n",
       "8                         모래통에 모래를 담고, 이동중 넘어져 왼쪽으로 다침\n",
       "Name: 사고원인, dtype: object"
      ]
     },
     "execution_count": 54,
     "metadata": {},
     "output_type": "execute_result"
    }
   ],
   "source": [
    "augmented_df_rmr['사고원인'].head()"
   ]
  },
  {
   "cell_type": "code",
   "execution_count": 51,
   "metadata": {},
   "outputs": [
    {
     "data": {
      "text/plain": [
       "0    미끄럼 위험이 항상 있는 사다리 답단에는 미끄럼방지 테이프 설치 등 장애물 전도 방...\n",
       "1    로프를 잘못 이용만 한 후 양중작업상태 불량으로 묶어 둔 배관 서포트가 지면으로 3...\n",
       "6                             최근 토목공사 경계석설치 작업중 어깨인대손상\n",
       "7                                          자재가 이동중 넘어짐\n",
       "8              모래통에 모래를 가득 담고 짊어지고 이동중 넘어져 왼쪽 팔과 팔을 다침\n",
       "Name: 사고원인, dtype: object"
      ]
     },
     "execution_count": 51,
     "metadata": {},
     "output_type": "execute_result"
    }
   ],
   "source": [
    "augmented_df_rmi['사고원인'].head()"
   ]
  },
  {
   "cell_type": "code",
   "execution_count": 55,
   "metadata": {},
   "outputs": [],
   "source": [
    "filtered_df = filtered_df.reset_index(drop=True)\n",
    "augmented_df_rmr = augmented_df_rmr.reset_index(drop=True)\n",
    "augmented_df_rmi = augmented_df_rmi.reset_index(drop=True)"
   ]
  },
  {
   "cell_type": "code",
   "execution_count": null,
   "metadata": {},
   "outputs": [],
   "source": [
    "augmented_df_rmr = augmented_df_rmr.drop(columns= ['aug','cosine_similarity','bert_similarity'])\n",
    "augmented_df_rmi = augmented_df_rmi.drop(columns= ['aug','cosine_similarity','bert_similarity'])"
   ]
  },
  {
   "cell_type": "code",
   "execution_count": 67,
   "metadata": {},
   "outputs": [],
   "source": [
    "augmented_df_rmr.to_csv(\"augmented_df_rmr.csv\", index=False, encoding='utf-8-sig')\n",
    "augmented_df_rmi.to_csv(\"augmented_df_rmi.csv\", index=False, encoding='utf-8-sig')\n"
   ]
  },
  {
   "cell_type": "code",
   "execution_count": 2,
   "metadata": {},
   "outputs": [],
   "source": [
    "import numpy as np\n",
    "import pandas as pd"
   ]
  },
  {
   "cell_type": "code",
   "execution_count": 9,
   "metadata": {},
   "outputs": [],
   "source": [
    "train = pd.read_csv('train_df.csv')\n",
    "augmented_df_rmr = pd.read_csv(\"augmented_df_rmr.csv\")"
   ]
  },
  {
   "cell_type": "code",
   "execution_count": 7,
   "metadata": {},
   "outputs": [
    {
     "data": {
      "text/plain": [
       "21069"
      ]
     },
     "execution_count": 7,
     "metadata": {},
     "output_type": "execute_result"
    }
   ],
   "source": [
    "len(train)"
   ]
  },
  {
   "cell_type": "code",
   "execution_count": 10,
   "metadata": {},
   "outputs": [
    {
     "data": {
      "text/plain": [
       "14716"
      ]
     },
     "execution_count": 10,
     "metadata": {},
     "output_type": "execute_result"
    }
   ],
   "source": [
    "len(augmented_df_rmr)"
   ]
  },
  {
   "cell_type": "code",
   "execution_count": 11,
   "metadata": {},
   "outputs": [],
   "source": [
    "combined_df = pd.concat([train, augmented_df_rmr], ignore_index=True)\n"
   ]
  },
  {
   "cell_type": "code",
   "execution_count": 76,
   "metadata": {},
   "outputs": [],
   "source": [
    "combined_df2 = pd.concat([combined_df, augmented_df_rmr], ignore_index=True)\n"
   ]
  },
  {
   "cell_type": "code",
   "execution_count": 81,
   "metadata": {},
   "outputs": [],
   "source": [
    "combined_df.to_csv(\"train_rmi.csv\", index=False, encoding='utf-8-sig')\n",
    "combined_df2.to_csv(\"train_rmi_rmr.csv\", index=False, encoding='utf-8-sig')"
   ]
  },
  {
   "cell_type": "code",
   "execution_count": 13,
   "metadata": {},
   "outputs": [],
   "source": [
    "combined_df.to_csv(\"train+rmr.csv\", index=False, encoding='utf-8-sig')"
   ]
  },
  {
   "cell_type": "code",
   "execution_count": null,
   "metadata": {},
   "outputs": [],
   "source": []
  }
 ],
 "metadata": {
  "kernelspec": {
   "display_name": "sd2",
   "language": "python",
   "name": "python3"
  },
  "language_info": {
   "codemirror_mode": {
    "name": "ipython",
    "version": 3
   },
   "file_extension": ".py",
   "mimetype": "text/x-python",
   "name": "python",
   "nbconvert_exporter": "python",
   "pygments_lexer": "ipython3",
   "version": "3.10.16"
  }
 },
 "nbformat": 4,
 "nbformat_minor": 2
}
