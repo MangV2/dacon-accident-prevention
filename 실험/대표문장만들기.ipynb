{
 "cells": [
  {
   "cell_type": "code",
   "execution_count": 1,
   "metadata": {},
   "outputs": [
    {
     "name": "stderr",
     "output_type": "stream",
     "text": [
      "c:\\Users\\minkyu\\AppData\\Local\\anaconda3\\envs\\sd2\\lib\\site-packages\\tqdm\\auto.py:21: TqdmWarning: IProgress not found. Please update jupyter and ipywidgets. See https://ipywidgets.readthedocs.io/en/stable/user_install.html\n",
      "  from .autonotebook import tqdm as notebook_tqdm\n"
     ]
    }
   ],
   "source": [
    "import pandas as pd \n",
    "import numpy as np \n",
    "\n",
    "from sklearn.metrics.pairwise import cosine_similarity\n",
    "from tqdm.auto import tqdm"
   ]
  },
  {
   "cell_type": "code",
   "execution_count": 2,
   "metadata": {},
   "outputs": [
    {
     "name": "stderr",
     "output_type": "stream",
     "text": [
      "c:\\Users\\minkyu\\AppData\\Local\\anaconda3\\envs\\sd2\\lib\\site-packages\\sentence_transformers\\SentenceTransformer.py:195: FutureWarning: The `use_auth_token` argument is deprecated and will be removed in v4 of SentenceTransformers.\n",
      "  warnings.warn(\n"
     ]
    }
   ],
   "source": [
    "from sentence_transformers import SentenceTransformer\n",
    "\n",
    "# Embedding Vector 추출에 활용할 모델(jhgan/ko-sbert-sts) 불러오기\n",
    "model = SentenceTransformer('jhgan/ko-sbert-sts', use_auth_token=False)"
   ]
  },
  {
   "cell_type": "code",
   "execution_count": 17,
   "metadata": {},
   "outputs": [],
   "source": [
    "df = pd.read_csv('output2.csv')"
   ]
  },
  {
   "cell_type": "code",
   "execution_count": 19,
   "metadata": {},
   "outputs": [],
   "source": [
    "df['공사종류(대분류)'] = df['공사종류'].str.split(' / ').str[0]\n",
    "df['공사종류(중분류)'] = df['공사종류'].str.split(' / ').str[1]\n",
    "df['공종(대분류)'] = df['공종'].str.split(' > ').str[0]\n",
    "df['공종(중분류)'] = df['공종'].str.split(' > ').str[1]\n",
    "df['사고객체(대분류)'] = df['사고객체'].str.split(' > ').str[0]\n",
    "df['사고객체(중분류)'] = df['사고객체'].str.split(' > ').str[1]"
   ]
  },
  {
   "cell_type": "code",
   "execution_count": null,
   "metadata": {},
   "outputs": [],
   "source": [
    "df"
   ]
  },
  {
   "cell_type": "code",
   "execution_count": 21,
   "metadata": {},
   "outputs": [
    {
     "data": {
      "text/plain": [
       "공사종류(중분류)\n",
       "건축물          700\n",
       "상하수도          62\n",
       "도로            51\n",
       "철도            25\n",
       "기타            24\n",
       "교량            20\n",
       "터널            14\n",
       "하천            14\n",
       "환경시설          14\n",
       "발전시설          12\n",
       "옹벽 및 절토사면     11\n",
       "항만             6\n",
       "산업생산시설         4\n",
       "댐              3\n",
       "공원             2\n",
       "생태공원           2\n",
       "Name: count, dtype: int64"
      ]
     },
     "execution_count": 21,
     "metadata": {},
     "output_type": "execute_result"
    }
   ],
   "source": [
    "df['공사종류(중분류)'].value_counts()"
   ]
  },
  {
   "cell_type": "code",
   "execution_count": 22,
   "metadata": {},
   "outputs": [
    {
     "data": {
      "text/plain": [
       "공종(중분류)\n",
       "철근콘크리트공사        290\n",
       "가설공사             86\n",
       "기타               53\n",
       "토공사              44\n",
       "해체 및 철거공사        40\n",
       "기계설비공사           37\n",
       "철골공사             36\n",
       "관공사              31\n",
       "수장공사             29\n",
       "타일 및 돌공사         28\n",
       "건축물 부대공사         26\n",
       "미장공사             24\n",
       "금속공사             23\n",
       "조적공사             20\n",
       "도로 및 포장공사        18\n",
       "도장공사             17\n",
       "철도 및 궤도공사        16\n",
       "터널공사             16\n",
       "전기설비공사           15\n",
       "교량공사             15\n",
       "건축 토공사           12\n",
       "목공사              11\n",
       "방수공사             10\n",
       "관공사 부대공사         10\n",
       "하천공사             10\n",
       "창호 및 유리공사         8\n",
       "지붕 및 홈통공사         7\n",
       "말뚝공사              6\n",
       "산업설비공사            5\n",
       "항만공사              4\n",
       "댐 및 제방공사          3\n",
       "강구조물공사            3\n",
       "프리캐스트 콘크리트공사      2\n",
       "지반개량공사            2\n",
       "지정공사              2\n",
       "지반조사              2\n",
       "조경공사              2\n",
       "특수 건축물공사          1\n",
       "Name: count, dtype: int64"
      ]
     },
     "execution_count": 22,
     "metadata": {},
     "output_type": "execute_result"
    }
   ],
   "source": [
    "df['공종(중분류)'].value_counts()"
   ]
  },
  {
   "cell_type": "code",
   "execution_count": 23,
   "metadata": {},
   "outputs": [
    {
     "data": {
      "text/plain": [
       "인적사고\n",
       "물체에 맞음                   136\n",
       "끼임                       128\n",
       "넘어짐(미끄러짐)                104\n",
       "부딪힘                       96\n",
       "떨어짐(2미터 미만)               82\n",
       "절단, 베임                    76\n",
       "넘어짐(물체에 걸림)               73\n",
       "넘어짐(기타)                   61\n",
       "기타                        46\n",
       "떨어짐(2미터 이상 ~ 3미터 미만)      33\n",
       "떨어짐(3미터 이상 ~ 5미터 미만)      27\n",
       "찔림                        16\n",
       "질병                        16\n",
       "분류불능                      15\n",
       "깔림                        13\n",
       "떨어짐(5미터 이상 ~ 10미터 미만)     10\n",
       "없음                         9\n",
       "떨어짐(10미터 이상)               9\n",
       "교통사고                       8\n",
       "화상                         4\n",
       "떨어짐(분류불능)                  1\n",
       "질식                         1\n",
       "Name: count, dtype: int64"
      ]
     },
     "execution_count": 23,
     "metadata": {},
     "output_type": "execute_result"
    }
   ],
   "source": [
    "df['인적사고'].value_counts()"
   ]
  },
  {
   "cell_type": "code",
   "execution_count": 5,
   "metadata": {},
   "outputs": [],
   "source": [
    "grouped = df.groupby(\"인적사고\")"
   ]
  },
  {
   "cell_type": "code",
   "execution_count": 7,
   "metadata": {},
   "outputs": [
    {
     "name": "stderr",
     "output_type": "stream",
     "text": [
      "100%|██████████| 22/22 [00:09<00:00,  2.30it/s]\n"
     ]
    }
   ],
   "source": [
    "res = {}\n",
    "cosine_res = []\n",
    "for name, group in tqdm(grouped):\n",
    "    plan = group[\"재발방지대책\"].astype(str)\n",
    "    plan = group[\"재발방지대책\"].dropna()\n",
    "    vectors = np.stack(plan.apply(model.encode).to_numpy())\n",
    "    similarity = cosine_similarity(vectors, vectors)    \n",
    "    cosine_res += similarity[similarity.mean(axis=1).argmax()].tolist()\n",
    "    res[name] = plan.iloc[similarity.mean(axis=1).argmax()]"
   ]
  },
  {
   "cell_type": "code",
   "execution_count": 8,
   "metadata": {},
   "outputs": [
    {
     "data": {
      "text/plain": [
       "{'교통사고': '해당 사고 사례 현장 관계자 전파각 현장 작업자에게 사고 사례 전파 안전교육 실시현장 작업 시 위험성 사전 파악 후 작업 지시위험요인 발견 시 관리자에게  즉시 요청 위험요인 제거 및 안전확보 후 안전작업 실시 교육',\n",
       " '기타': '작업전 일일위험성 평가 회의TBM통한 근로자 안전교육 실시 및 거푸집지지대 하부 고정방법 개선',\n",
       " '깔림': '작업 전 동일 사고사례 전파 및 교육 점검 확인작업 전중후 충분한 작업공간 확보 위험여부 확인',\n",
       " '끼임': 'TBM시 위험요인 확인 및 안전대책교육 작업지휘자의 작업지시 및 확인 기계기구 등 작업시작 전 사용법 확인 현장 패트롤 강화',\n",
       " '넘어짐(기타)': '현장 주변 안전 유무 확인과 작업 전 안전 교육 실시',\n",
       " '넘어짐(물체에 걸림)': '작업장 정리정돈 철저 및 작업통로 확보 안전작업 수칙 미준수시 추가 교육 실시를 통한 안전의식 고취 TBM 및 안전교육 등을 통한 무리한 작업 금지 교육 실시 하도급사 작업책임자 원도급사 현장관리자 건설사업관리기술인이 현장확인을 통한 사고위험 예방',\n",
       " '넘어짐(미끄러짐)': '근로자 전도 사고 예방 특별교육 실시 및 작업장 바닥 정리 작업 실시 TBM시 전일 사고 여부 점검 철저',\n",
       " '떨어짐(10미터 이상)': '작업전 안전교육 필수 실시 및 안전보호구 지급 작업시작시 안전보호구 착용 확인 필 작업중 안전관리',\n",
       " '떨어짐(2미터 미만)': ' 현장조치 결과  현장정리 철저 공사현장 수장고 내부 습도조절을 위한 송풍기 설치 사다리 전도방 지장치 체결 철저\\r\\n 권고 및 향후 조치 안전사고 관련 작업자 특별교육 실시 일일 안전교육철저 재해예방기술지도업체 낙하사고 교육 및 점검',\n",
       " '떨어짐(2미터 이상 ~ 3미터 미만)': '작업시작전 작업자 안전관리교육 매일 실시 및 사고 재발방지를 위한 관리감독 철저',\n",
       " '떨어짐(3미터 이상 ~ 5미터 미만)': '관리감독자 교육 실시 및 근로자 특별 안전교육 실시 안전시설물 점검 및 설치 강화',\n",
       " '떨어짐(5미터 이상 ~ 10미터 미만)': '작업전 공종별 안전교육실시 및 근로자 개인보호구 착용여부확인 안전시설물 점검 등의 안전점검 실시후 작업실시 및 관리감독 철저',\n",
       " '떨어짐(분류불능)': '타설 중 물기 새어나가지 않게 파라펫 설치 낙하물방지망 추가 설치 향후 예정',\n",
       " '물체에 맞음': '작업 전 차량계건설기계 작업계획서 작성 및 그에 따린 안전교육실시 장비작업반경 주변 근로자통제를 통해 재발방지대책 실시',\n",
       " '부딪힘': '작업전 안전사고 사례에 대한 안전교육 실시 및 작업중 관리감독 철저',\n",
       " '분류불능': '작업 전 작업자의 건강상태 확인 및 반복작업 시 스트레칭 관련 교육 실시',\n",
       " '없음': '앞지브 리밋결함으로 추정되는 기계적 결함이나 월일일 일간 타워크레인 해체가 실시되어 해체시 작업자 및 장비의 안전관리를 철저히 하겠음\\r\\n 발주청에 시간이내 사고보고서 제출\\r\\n 시공사의 csi기록 관리',\n",
       " '절단, 베임': '안전교육 철저 및 작업 중 지도점검 철저',\n",
       " '질병': '근로자 건강상태 수시확인 및 안전교육 실시 확인',\n",
       " '질식': '작업자 교육 실시 및 안전관리 철저 예정',\n",
       " '찔림': '튀어나온 철근 식별표시 부착 및 작업구간 구획 설정 작업전 특별교육 실시  현장작업 관리자 상주감독 강화 아차사고 관련 별도 TBM 전파교육 실시',\n",
       " '화상': '작업 전 근로자 재해사례 전파 최초 작업 전 및 주기적 공도구 점검 실시 작업 중 관리감독 및 화재감시자 점검 철저'}"
      ]
     },
     "execution_count": 8,
     "metadata": {},
     "output_type": "execute_result"
    }
   ],
   "source": [
    "res"
   ]
  },
  {
   "cell_type": "code",
   "execution_count": 9,
   "metadata": {},
   "outputs": [
    {
     "name": "stdout",
     "output_type": "stream",
     "text": [
      "Range 0.0 - 0.1: 0개\n",
      "Range 0.1 - 0.2: 2개\n",
      "Range 0.2 - 0.3: 26개\n",
      "Range 0.3 - 0.4: 72개\n",
      "Range 0.4 - 0.5: 133개\n",
      "Range 0.5 - 0.6: 240개\n",
      "Range 0.6 - 0.7: 273개\n",
      "Range 0.7 - 0.8: 125개\n",
      "Range 0.8 - 0.9: 12개\n",
      "Range 0.9 - 1.0: 15개\n"
     ]
    }
   ],
   "source": [
    "arr = cosine_res\n",
    "\n",
    "# 0.1 단위로 구간을 지정\n",
    "bins = np.arange(0, 1.1, 0.1)  # 0.0 ~ 1.0을 0.1 간격으로 나눔\n",
    "\n",
    "# 히스토그램 계산\n",
    "hist, bin_edges = np.histogram(arr, bins=bins)\n",
    "\n",
    "# 결과 출력\n",
    "for i in range(len(hist)):\n",
    "    print(f\"Range {bin_edges[i]:.1f} - {bin_edges[i+1]:.1f}: {hist[i]}개\")"
   ]
  },
  {
   "cell_type": "code",
   "execution_count": 10,
   "metadata": {},
   "outputs": [
    {
     "name": "stderr",
     "output_type": "stream",
     "text": [
      "100%|██████████| 22/22 [00:09<00:00,  2.31it/s]\n"
     ]
    }
   ],
   "source": [
    "res = {}\n",
    "cosine_res = []\n",
    "for name, group in tqdm(grouped):\n",
    "    plan = group[\"향후조치계획\"].astype(str)\n",
    "    plan = group[\"향후조치계획\"].dropna()\n",
    "    vectors = np.stack(plan.apply(model.encode).to_numpy())\n",
    "    similarity = cosine_similarity(vectors, vectors)    \n",
    "    cosine_res += similarity[similarity.mean(axis=1).argmax()].tolist()\n",
    "    res[name] = plan.iloc[similarity.mean(axis=1).argmax()]"
   ]
  },
  {
   "cell_type": "code",
   "execution_count": 11,
   "metadata": {},
   "outputs": [
    {
     "name": "stdout",
     "output_type": "stream",
     "text": [
      "Range 0.0 - 0.1: 5개\n",
      "Range 0.1 - 0.2: 14개\n",
      "Range 0.2 - 0.3: 30개\n",
      "Range 0.3 - 0.4: 70개\n",
      "Range 0.4 - 0.5: 140개\n",
      "Range 0.5 - 0.6: 194개\n",
      "Range 0.6 - 0.7: 243개\n",
      "Range 0.7 - 0.8: 158개\n",
      "Range 0.8 - 0.9: 30개\n",
      "Range 0.9 - 1.0: 17개\n"
     ]
    }
   ],
   "source": [
    "arr = cosine_res\n",
    "\n",
    "# 0.1 단위로 구간을 지정\n",
    "bins = np.arange(0, 1.1, 0.1)  # 0.0 ~ 1.0을 0.1 간격으로 나눔\n",
    "\n",
    "# 히스토그램 계산\n",
    "hist, bin_edges = np.histogram(arr, bins=bins)\n",
    "\n",
    "# 결과 출력\n",
    "for i in range(len(hist)):\n",
    "    print(f\"Range {bin_edges[i]:.1f} - {bin_edges[i+1]:.1f}: {hist[i]}개\")"
   ]
  },
  {
   "cell_type": "code",
   "execution_count": 12,
   "metadata": {},
   "outputs": [
    {
     "data": {
      "text/plain": [
       "{'교통사고': '감리단 및 시공사의 안전관리 철저 지시 및 현장 안전관리 시설물 점검 및 보완',\n",
       " '기타': '현장책임자에게 관리 감독 철저 및 유사사고 재발방지를 위해 작업환경 체크 및 작업자 안전 교육 철저 요청',\n",
       " '깔림': '사고사례 전파 및 안전교육 실시 계도',\n",
       " '끼임': '작업전 안전교육 철저 실시 및 관리책임자 확인',\n",
       " '넘어짐(기타)': '현장 주변 안전 점검과 작업전 안전교육 실시하겠음',\n",
       " '넘어짐(물체에 걸림)': '현장 정리 철저 및 작업자 안전교육 실시',\n",
       " '넘어짐(미끄러짐)': '작업자 안전교육 및 현장 수시점검 등',\n",
       " '떨어짐(10미터 이상)': '난간대 시공 불량 전수조사 및 근로자 안전교육 확인 안전사고 집중 안전점검 실시',\n",
       " '떨어짐(2미터 미만)': '현장 안전관리 철저 및 사전 교육 실시',\n",
       " '떨어짐(2미터 이상 ~ 3미터 미만)': '현장 안전관리 철저 및 사전 교육 실시',\n",
       " '떨어짐(3미터 이상 ~ 5미터 미만)': '시공사감리자 행정지도 및 수시점검 실시\\r\\n작업지시자 상시배치 및 보호장비 착용 철저 지시',\n",
       " '떨어짐(5미터 이상 ~ 10미터 미만)': '작업전 공종별 안전교육 실시 및 근로자 개인 보호구 착용여부확인 안전시설물 점검 등의 안전점검 실시후 작업실시 및 관리감독 철저',\n",
       " '떨어짐(분류불능)': '현장책임자에게 관리 감독 철저 및 유사사고 재발방지 위해 TBM시간 활용한 안전교육 철저 현장조치 철저',\n",
       " '물체에 맞음': '작업자 교육 실시 및 유사사고 예방 철저',\n",
       " '부딪힘': '작업전 안전교육 실시 여부 확인 주기적인 안전관리실태 점검 및 지도',\n",
       " '분류불능': '지속적인 작업자 안전교육 실시 및 작업 전중후 스트레칭 관련 교육 요청',\n",
       " '없음': '사전 현장조사 및 안전관리 철저',\n",
       " '절단, 베임': '시공자 측으로 안전교육 철저 및 작업 중 지도점검 철저 요청 현장 수시점검 추진',\n",
       " '질병': '사고자 질병상태 확인 및 근로자 작업전 체조 철저',\n",
       " '질식': '공사중지 및 재발방지대책 제출 요청 산재처리 요청',\n",
       " '찔림': '현장 전 근로자 대상 안전교육 실시로 안전의식 고취 위험성평가 회의 시 재발방지 대책 마련 및 전파 작업지휘자 현장 상주하여 발안전한 행동 관리 철저',\n",
       " '화상': '사고재발방지대책 수립 및 작업자 교육 강화'}"
      ]
     },
     "execution_count": 12,
     "metadata": {},
     "output_type": "execute_result"
    }
   ],
   "source": [
    "res"
   ]
  },
  {
   "cell_type": "code",
   "execution_count": null,
   "metadata": {},
   "outputs": [],
   "source": []
  }
 ],
 "metadata": {
  "kernelspec": {
   "display_name": "sd2",
   "language": "python",
   "name": "python3"
  },
  "language_info": {
   "codemirror_mode": {
    "name": "ipython",
    "version": 3
   },
   "file_extension": ".py",
   "mimetype": "text/x-python",
   "name": "python",
   "nbconvert_exporter": "python",
   "pygments_lexer": "ipython3",
   "version": "3.10.16"
  }
 },
 "nbformat": 4,
 "nbformat_minor": 2
}
