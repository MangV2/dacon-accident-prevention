{
 "cells": [
  {
   "cell_type": "code",
   "execution_count": null,
   "metadata": {},
   "outputs": [],
   "source": [
    "import pandas as pd"
   ]
  },
  {
   "cell_type": "code",
   "execution_count": null,
   "metadata": {},
   "outputs": [],
   "source": [
    "path = 'C:/Users/minkyu/Desktop/drive-download-20250315T014624Z-001/'\n",
    "df = pd.read_csv(path + \"augmented_train_v1.csv\" , encoding='utf-8-sig')\n",
    "df2 = pd.read_csv(path + \"augmented_train_v2.csv\" , encoding='utf-8-sig')"
   ]
  },
  {
   "cell_type": "code",
   "execution_count": null,
   "metadata": {},
   "outputs": [],
   "source": [
    "filtered_df = df[df['ID'].str.endswith('aug_1')]\n",
    "filtered_df2 = df2[df2['ID'].str.endswith('aug_1')]\n"
   ]
  },
  {
   "cell_type": "code",
   "execution_count": null,
   "metadata": {},
   "outputs": [],
   "source": [
    "filtered_df = df[df['ID'].str.endswith('aug_1')].reset_index(drop=True)\n",
    "filtered_df2 = df2[df2['ID'].str.endswith('aug_1')].reset_index(drop=True)\n"
   ]
  },
  {
   "cell_type": "code",
   "execution_count": null,
   "metadata": {},
   "outputs": [],
   "source": [
    "filtered_df.to_csv(\"llm_aug_V1.csv\", index=False, encoding='utf-8-sig')\n",
    "filtered_df2.to_csv(\"llm_aug_V2.csv\", index=False, encoding='utf-8-sig')\n",
    "\n"
   ]
  },
  {
   "cell_type": "code",
   "execution_count": null,
   "metadata": {},
   "outputs": [],
   "source": [
    "filtered_df2"
   ]
  },
  {
   "cell_type": "code",
   "execution_count": null,
   "metadata": {},
   "outputs": [],
   "source": []
  }
 ],
 "metadata": {
  "language_info": {
   "name": "python"
  }
 },
 "nbformat": 4,
 "nbformat_minor": 2
}
