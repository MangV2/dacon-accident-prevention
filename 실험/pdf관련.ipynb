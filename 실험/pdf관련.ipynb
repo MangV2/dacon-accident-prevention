{
 "cells": [
  {
   "cell_type": "code",
   "execution_count": null,
   "metadata": {},
   "outputs": [],
   "source": [
    "import os\n",
    "import re\n",
    "from tqdm import tqdm\n",
    "from langchain_community.document_loaders import PyPDFium2Loader\n",
    "from langchain_experimental.text_splitter import SemanticChunker\n",
    "from langchain.embeddings import HuggingFaceEmbeddings\n",
    "from langchain.vectorstores import FAISS\n",
    "\n"
   ]
  },
  {
   "cell_type": "code",
   "execution_count": null,
   "metadata": {},
   "outputs": [],
   "source": [
    "path = 'C:/Users/minkyu/Desktop/open/건설안전지침/'\n",
    "pdf_file =  path + \"F.C.M 교량공사 안전보건작업 지침.pdf\"\n",
    "loader = PyPDFium2Loader(pdf_file)\n",
    "documents = loader.load()"
   ]
  },
  {
   "cell_type": "code",
   "execution_count": null,
   "metadata": {},
   "outputs": [],
   "source": [
    "documents"
   ]
  },
  {
   "cell_type": "code",
   "execution_count": null,
   "metadata": {},
   "outputs": [],
   "source": [
    "from langchain_text_splitters import RecursiveCharacterTextSplitter\n",
    "import re\n",
    "\n",
    "# document 객체들의 내용을 하나의 문자열로 합칩니다.\n",
    "full_text = \" \".join([doc.page_content for doc in documents])\n",
    "\n",
    "# 청크 분할을 위한 설정: chunk_size와 chunk_overlap은 필요에 맞게 조정하세요.\n",
    "text_splitter = RecursiveCharacterTextSplitter(\n",
    "    chunk_size=1000,      # 각 청크의 최대 문자 수\n",
    "    chunk_overlap=100,    # 청크 간의 중복 문자 수\n",
    "    length_function=len   # 문자 길이를 기준으로 분할 (기본값은 len)\n",
    ")\n",
    "\n",
    "pattern = re.compile(\n",
    "    r'(?i)KOSHA GUIDE\\s*[A-Z]+\\s*-\\s*\\d+\\s*-\\s*\\d+\\s*-\\s*\\d+\\s*-'\n",
    ")\n",
    "\n",
    "# full_text에서 패턴에 매칭되는 부분을 빈 문자열로 대체\n",
    "clean_text = re.sub(pattern, '', full_text)\n",
    "# 합쳐진 텍스트를 청크로 분할합니다.\n",
    "chunks = text_splitter.split_text(clean_text)\n",
    "\n",
    "# 이제 'chunks' 변수는 분할된 텍스트 청크들의 리스트입니다.\n",
    "print(chunks)\n"
   ]
  },
  {
   "cell_type": "code",
   "execution_count": null,
   "metadata": {},
   "outputs": [],
   "source": [
    "import textwrap\n",
    "\n",
    "# 텍스트를 80자 폭으로 줄바꿈하여 출력\n",
    "wrapped_text = textwrap.fill(chunks[8], width=80)\n",
    "print(wrapped_text)\n"
   ]
  }
 ],
 "metadata": {
  "language_info": {
   "name": "python"
  }
 },
 "nbformat": 4,
 "nbformat_minor": 2
}
