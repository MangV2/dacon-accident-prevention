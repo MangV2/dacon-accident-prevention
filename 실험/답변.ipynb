{
 "cells": [
  {
   "cell_type": "code",
   "execution_count": 1,
   "metadata": {},
   "outputs": [
    {
     "name": "stderr",
     "output_type": "stream",
     "text": [
      "c:\\Users\\minkyu\\AppData\\Local\\anaconda3\\envs\\sd2\\lib\\site-packages\\tqdm\\auto.py:21: TqdmWarning: IProgress not found. Please update jupyter and ipywidgets. See https://ipywidgets.readthedocs.io/en/stable/user_install.html\n",
      "  from .autonotebook import tqdm as notebook_tqdm\n"
     ]
    }
   ],
   "source": [
    "import pandas as pd \n",
    "import numpy as np \n",
    "\n",
    "from sklearn.metrics.pairwise import cosine_similarity\n",
    "from tqdm.auto import tqdm"
   ]
  },
  {
   "cell_type": "code",
   "execution_count": 10,
   "metadata": {},
   "outputs": [],
   "source": [
    "text_value = \"작업전 안전교육 실시와 안전점검 실시를 통한 재발 방지 대책 및 향후 조치 계획\"\n",
    "\n",
    "# 인덱스 0부터 963까지 총 964행을 가진 DataFrame 생성\n",
    "df = pd.DataFrame({\"a\": [text_value] * 964})"
   ]
  },
  {
   "cell_type": "code",
   "execution_count": 13,
   "metadata": {},
   "outputs": [
    {
     "data": {
      "text/html": [
       "<div>\n",
       "<style scoped>\n",
       "    .dataframe tbody tr th:only-of-type {\n",
       "        vertical-align: middle;\n",
       "    }\n",
       "\n",
       "    .dataframe tbody tr th {\n",
       "        vertical-align: top;\n",
       "    }\n",
       "\n",
       "    .dataframe thead th {\n",
       "        text-align: right;\n",
       "    }\n",
       "</style>\n",
       "<table border=\"1\" class=\"dataframe\">\n",
       "  <thead>\n",
       "    <tr style=\"text-align: right;\">\n",
       "      <th></th>\n",
       "      <th>a</th>\n",
       "    </tr>\n",
       "  </thead>\n",
       "  <tbody>\n",
       "    <tr>\n",
       "      <th>0</th>\n",
       "      <td>작업전 안전교육 실시와 안전점검 실시를 통한 재발 방지 대책 및 향후 조치 계획</td>\n",
       "    </tr>\n",
       "    <tr>\n",
       "      <th>1</th>\n",
       "      <td>작업전 안전교육 실시와 안전점검 실시를 통한 재발 방지 대책 및 향후 조치 계획</td>\n",
       "    </tr>\n",
       "    <tr>\n",
       "      <th>2</th>\n",
       "      <td>작업전 안전교육 실시와 안전점검 실시를 통한 재발 방지 대책 및 향후 조치 계획</td>\n",
       "    </tr>\n",
       "    <tr>\n",
       "      <th>3</th>\n",
       "      <td>작업전 안전교육 실시와 안전점검 실시를 통한 재발 방지 대책 및 향후 조치 계획</td>\n",
       "    </tr>\n",
       "    <tr>\n",
       "      <th>4</th>\n",
       "      <td>작업전 안전교육 실시와 안전점검 실시를 통한 재발 방지 대책 및 향후 조치 계획</td>\n",
       "    </tr>\n",
       "    <tr>\n",
       "      <th>...</th>\n",
       "      <td>...</td>\n",
       "    </tr>\n",
       "    <tr>\n",
       "      <th>959</th>\n",
       "      <td>작업전 안전교육 실시와 안전점검 실시를 통한 재발 방지 대책 및 향후 조치 계획</td>\n",
       "    </tr>\n",
       "    <tr>\n",
       "      <th>960</th>\n",
       "      <td>작업전 안전교육 실시와 안전점검 실시를 통한 재발 방지 대책 및 향후 조치 계획</td>\n",
       "    </tr>\n",
       "    <tr>\n",
       "      <th>961</th>\n",
       "      <td>작업전 안전교육 실시와 안전점검 실시를 통한 재발 방지 대책 및 향후 조치 계획</td>\n",
       "    </tr>\n",
       "    <tr>\n",
       "      <th>962</th>\n",
       "      <td>작업전 안전교육 실시와 안전점검 실시를 통한 재발 방지 대책 및 향후 조치 계획</td>\n",
       "    </tr>\n",
       "    <tr>\n",
       "      <th>963</th>\n",
       "      <td>작업전 안전교육 실시와 안전점검 실시를 통한 재발 방지 대책 및 향후 조치 계획</td>\n",
       "    </tr>\n",
       "  </tbody>\n",
       "</table>\n",
       "<p>964 rows × 1 columns</p>\n",
       "</div>"
      ],
      "text/plain": [
       "                                                a\n",
       "0    작업전 안전교육 실시와 안전점검 실시를 통한 재발 방지 대책 및 향후 조치 계획\n",
       "1    작업전 안전교육 실시와 안전점검 실시를 통한 재발 방지 대책 및 향후 조치 계획\n",
       "2    작업전 안전교육 실시와 안전점검 실시를 통한 재발 방지 대책 및 향후 조치 계획\n",
       "3    작업전 안전교육 실시와 안전점검 실시를 통한 재발 방지 대책 및 향후 조치 계획\n",
       "4    작업전 안전교육 실시와 안전점검 실시를 통한 재발 방지 대책 및 향후 조치 계획\n",
       "..                                            ...\n",
       "959  작업전 안전교육 실시와 안전점검 실시를 통한 재발 방지 대책 및 향후 조치 계획\n",
       "960  작업전 안전교육 실시와 안전점검 실시를 통한 재발 방지 대책 및 향후 조치 계획\n",
       "961  작업전 안전교육 실시와 안전점검 실시를 통한 재발 방지 대책 및 향후 조치 계획\n",
       "962  작업전 안전교육 실시와 안전점검 실시를 통한 재발 방지 대책 및 향후 조치 계획\n",
       "963  작업전 안전교육 실시와 안전점검 실시를 통한 재발 방지 대책 및 향후 조치 계획\n",
       "\n",
       "[964 rows x 1 columns]"
      ]
     },
     "execution_count": 13,
     "metadata": {},
     "output_type": "execute_result"
    }
   ],
   "source": [
    "df"
   ]
  },
  {
   "cell_type": "code",
   "execution_count": 4,
   "metadata": {},
   "outputs": [
    {
     "name": "stderr",
     "output_type": "stream",
     "text": [
      "c:\\Users\\minkyu\\AppData\\Local\\anaconda3\\envs\\sd2\\lib\\site-packages\\sentence_transformers\\SentenceTransformer.py:195: FutureWarning: The `use_auth_token` argument is deprecated and will be removed in v4 of SentenceTransformers.\n",
      "  warnings.warn(\n"
     ]
    }
   ],
   "source": [
    "from sentence_transformers import SentenceTransformer\n",
    "\n",
    "# Embedding Vector 추출에 활용할 모델(jhgan/ko-sbert-sts) 불러오기\n",
    "model = SentenceTransformer('jhgan/ko-sbert-sts', use_auth_token=False)"
   ]
  },
  {
   "cell_type": "code",
   "execution_count": 14,
   "metadata": {},
   "outputs": [],
   "source": [
    "# 문장 리스트를 입력하여 임베딩 생성\n",
    "pred_embeddings = model.encode(df['a'])"
   ]
  },
  {
   "cell_type": "code",
   "execution_count": 15,
   "metadata": {},
   "outputs": [],
   "source": [
    "submission = pd.read_csv(\"sample_submission.csv\", encoding = 'utf-8-sig')\n",
    "# 최종 결과 저장\n",
    "submission.iloc[:,1] = df['a']\n",
    "submission.iloc[:,2:] = pred_embeddings\n",
    "submission.head()\n",
    "# 최종 결과를 CSV로 저장\n",
    "submission.to_csv('확인용V2.csv', index=False, encoding='utf-8-sig')"
   ]
  },
  {
   "cell_type": "code",
   "execution_count": null,
   "metadata": {},
   "outputs": [],
   "source": []
  }
 ],
 "metadata": {
  "kernelspec": {
   "display_name": "sd2",
   "language": "python",
   "name": "python3"
  },
  "language_info": {
   "codemirror_mode": {
    "name": "ipython",
    "version": 3
   },
   "file_extension": ".py",
   "mimetype": "text/x-python",
   "name": "python",
   "nbconvert_exporter": "python",
   "pygments_lexer": "ipython3",
   "version": "3.10.16"
  }
 },
 "nbformat": 4,
 "nbformat_minor": 2
}
