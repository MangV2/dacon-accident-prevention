{
 "cells": [
  {
   "cell_type": "code",
   "execution_count": null,
   "metadata": {},
   "outputs": [],
   "source": [
    "from sentence_transformers import SentenceTransformer\n",
    "model = SentenceTransformer('jhgan/ko-sbert-sts', use_auth_token=False)"
   ]
  },
  {
   "cell_type": "code",
   "execution_count": null,
   "metadata": {},
   "outputs": [],
   "source": [
    "import numpy as np\n",
    "import pandas as pd\n",
    "# 코사인 유사도 함수\n",
    "def cosine_similarity(a, b):\n",
    "    dot_product = np.dot(a, b)\n",
    "    norm_a = np.linalg.norm(a)\n",
    "    norm_b = np.linalg.norm(b)\n",
    "    return dot_product / (norm_a * norm_b) if norm_a != 0 and norm_b != 0 else 0\n",
    "\n",
    "# 자카드 유사도 함수\n",
    "def jaccard_similarity(text1, text2):\n",
    "    set1, set2 = set(text1.split()), set(text2.split())  # 단어 집합 생성\n",
    "    intersection = len(set1.intersection(set2))  # 교집합 크기\n",
    "    union = len(set1.union(set2))  # 합집합 크기\n",
    "    return intersection / union if union != 0 else 0\n",
    "\n",
    "# 점수 계산 함수\n",
    "def calculate_scores(df):\n",
    "    cosine_scores = []\n",
    "    jaccard_scores = []\n",
    "\n",
    "    for i in range(len(df)):\n",
    "        sentence1 = df[\"predicted_answer\"].iloc[i]\n",
    "        sentence2 = df[\"actual_answer\"].iloc[i]\n",
    "\n",
    "        # 문장 임베딩\n",
    "        embedding1 = model.encode(sentence1, convert_to_numpy=True)\n",
    "        embedding2 = model.encode(sentence2, convert_to_numpy=True)\n",
    "\n",
    "        # 유사도 계산\n",
    "        cosine_sim = cosine_similarity(embedding1, embedding2)\n",
    "        jaccard_sim = jaccard_similarity(sentence1, sentence2)\n",
    "\n",
    "        # 리스트에 저장\n",
    "        cosine_scores.append(cosine_sim)\n",
    "        jaccard_scores.append(jaccard_sim)\n",
    "\n",
    "    # 새로운 컬럼 추가\n",
    "    df[\"cosine_similarity\"] = cosine_scores\n",
    "    df[\"jaccard_similarity\"] = jaccard_scores\n",
    "\n",
    "    # 전체 평균 계산\n",
    "    avg_cosine = np.mean(cosine_scores)\n",
    "    avg_jaccard = np.mean(jaccard_scores)\n",
    "    result = avg_cosine*0.7 + avg_jaccard*0.3\n",
    "\n",
    "    print(f\"전체 평균 코사인 유사도: {avg_cosine:.4f}\")\n",
    "    print(f\"전체 평균 자카드 유사도: {avg_jaccard:.4f}\")\n",
    "    print(f\"전체 평균  유사도: {result:.4f}\")\n",
    "\n",
    "    return df\n",
    "\n",
    "\n",
    "# 데이터프레임에 유사도 추가\n",
    "#result_df = calculate_scores(result_df)\n",
    "\n"
   ]
  },
  {
   "cell_type": "code",
   "execution_count": null,
   "metadata": {},
   "outputs": [],
   "source": [
    "import pandas as pd\n",
    "\n",
    "# CSV 파일 읽기\n",
    "df1 = pd.read_csv(\"C:/Users/minkyu/Desktop/test/rule_base_v2.csv\")\n",
    "df2 = pd.read_csv(\"C:/Users/minkyu/Desktop/test/output.csv\")\n",
    "pattern = r'[^A-Za-z\\uAC00-\\uD7A3\\s]'\n",
    "\n",
    "# df2의 각 컬럼에 대해 특수문자 제거 및 문자열 변환 적용\n",
    "df2['재발방지대책'] = df2['재발방지대책'].fillna('').astype(str).str.replace(pattern, '', regex=True)\n",
    "df2['향후조치계획'] = df2['향후조치계획'].fillna('').astype(str).str.replace(pattern, '', regex=True)\n",
    "\n",
    "# df1의 비교할 컬럼도 문자열로 변환\n",
    "df1['재발방지대책 및 향후조치계획'] = df1['재발방지대책 및 향후조치계획'].fillna('').astype(str)\n",
    "\n",
    "# 첫번째 비교: predicted_answer vs. actual_answer(재발방지대책)\n",
    "compare_df1 = pd.DataFrame({\n",
    "    \"predicted_answer\": df1['재발방지대책 및 향후조치계획'],\n",
    "    \"actual_answer\": df2['재발방지대책']\n",
    "})\n",
    "\n",
    "# 두번째 비교: predicted_answer vs. actual_answer(향후조치계획)\n",
    "compare_df2 = pd.DataFrame({\n",
    "    \"predicted_answer\": df1['재발방지대책 및 향후조치계획'],\n",
    "    \"actual_answer\": df2['향후조치계획']\n",
    "})\n",
    "\n",
    "# calculate_scores 함수를 이용해 유사도 계산 (두 DataFrame 모두에 적용)\n",
    "print(\"답지 재발방지대책 기준\")\n",
    "compare_df1 = calculate_scores(compare_df1)\n",
    "print(\"-\"*20)\n",
    "print(\"답지 향후조치계획 기준\")\n",
    "compare_df2 = calculate_scores(compare_df2)\n"
   ]
  },
  {
   "cell_type": "code",
   "execution_count": null,
   "metadata": {},
   "outputs": [],
   "source": []
  },
  {
   "cell_type": "code",
   "execution_count": null,
   "metadata": {},
   "outputs": [],
   "source": [
    "df2.to_csv(\"output2.csv\",encoding='utf-8-sig')"
   ]
  },
  {
   "cell_type": "code",
   "execution_count": null,
   "metadata": {},
   "outputs": [],
   "source": [
    "답지 재발방지대책 기준\n",
    "전체 평균 코사인 유사도: 0.5409\n",
    "전체 평균 자카드 유사도: 0.0499\n",
    "전체 평균  유사도: 0.3936\n",
    "--------------------\n",
    "답지 향후조치계획 기준\n",
    "전체 평균 코사인 유사도: 0.5461\n",
    "전체 평균 자카드 유사도: 0.0464\n",
    "전체 평균  유사도: 0.3962"
   ]
  }
 ],
 "metadata": {
  "language_info": {
   "name": "python"
  }
 },
 "nbformat": 4,
 "nbformat_minor": 0
}
