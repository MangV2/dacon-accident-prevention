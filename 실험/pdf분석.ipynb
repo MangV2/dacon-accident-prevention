{
 "cells": [
  {
   "cell_type": "code",
   "execution_count": null,
   "metadata": {},
   "outputs": [],
   "source": [
    "\n",
    "from glob import glob\n",
    "from IPython.display import Markdown, display\n",
    "import os\n",
    "\n",
    "page_num = 1\n",
    "page_dir = \"건설안전지침_md/F.C.M 교량공사 안전보건작업 지침\"\n",
    "\n",
    "while True:\n",
    "    page = os.path.join(page_dir, f\"page_{page_num}.md\")\n",
    "    if not os.path.exists(page):\n",
    "        break\n",
    "    \n",
    "    with open(page, \"r\", encoding=\"utf-8\") as f:\n",
    "        display(Markdown(f.read()))\n",
    "        \n",
    "    page_num += 1"
   ]
  },
  {
   "cell_type": "code",
   "execution_count": null,
   "metadata": {},
   "outputs": [],
   "source": []
  }
 ],
 "metadata": {
  "language_info": {
   "name": "python"
  }
 },
 "nbformat": 4,
 "nbformat_minor": 2
}
