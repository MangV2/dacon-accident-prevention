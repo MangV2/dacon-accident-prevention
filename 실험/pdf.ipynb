{
 "cells": [
  {
   "cell_type": "code",
   "execution_count": null,
   "metadata": {},
   "outputs": [],
   "source": [
    "from langchain_community.document_loaders import PyPDFium2Loader"
   ]
  },
  {
   "cell_type": "code",
   "execution_count": null,
   "metadata": {},
   "outputs": [],
   "source": [
    "file_path = 'C:/Users/minkyu/Desktop/open/건설안전지침/'"
   ]
  },
  {
   "cell_type": "code",
   "execution_count": null,
   "metadata": {},
   "outputs": [],
   "source": [
    "import re\n",
    "\n",
    "def preprocessing_pdf(text):\n",
    "    \"\"\"특정 페이지 전체 및 불필요한 텍스트 제거\"\"\"\n",
    "\n",
    "    # 특정 텍스트 제거\n",
    "    text = re.sub(r'KOSHA GUIDE', '', text)  # KOSHA GUIDE 삭제\n",
    "    text = re.sub(r'^C - .+$', '', text, flags=re.MULTILINE)  # C - 로 시작하는 줄 삭제 (문자열 끝까지)\n",
    "    text = re.sub(r'^<그림\\s*\\d+\\s*>$', '', text, flags=re.MULTILINE)\n",
    "    text = re.sub(r'^\\s*-\\s*\\d+\\s*-\\s*$', '', text, flags=re.MULTILINE)  # - 숫자 - 패턴 삭제\n",
    "\n",
    "    return text.strip()  # 앞뒤 공백 제거\n",
    "\n",
    "\n",
    "\n",
    "\n",
    "\n",
    "from langchain_community.document_loaders import PyPDFium2Loader\n",
    "\n",
    "loader = PyPDFium2Loader(file_path + \"I.L.M 교량공사 안전보건작업 지침.pdf\")\n",
    "documents = loader.load()\n",
    "\n",
    "#### page_content만 추출\n",
    "page_contents = [preprocessing_pdf(doc.page_content) for doc in documents]\n"
   ]
  },
  {
   "cell_type": "code",
   "execution_count": null,
   "metadata": {},
   "outputs": [],
   "source": [
    "from langchain_experimental.text_splitter import SemanticChunker\n",
    "from langchain.embeddings import HuggingFaceEmbeddings\n",
    "\n",
    "embeddings = HuggingFaceEmbeddings(model_name=\"BAAI/bge-m3\")\n",
    "text_splitter = SemanticChunker(embeddings)"
   ]
  },
  {
   "cell_type": "code",
   "execution_count": null,
   "metadata": {},
   "outputs": [],
   "source": [
    "combined_text = \"\\n\".join(page_contents)\n",
    "chunks = text_splitter.split_text(combined_text)"
   ]
  },
  {
   "cell_type": "code",
   "execution_count": null,
   "metadata": {},
   "outputs": [],
   "source": [
    "import textwrap\n",
    "# 원하는 너비(예: 80 문자)로 텍스트 감싸기\n",
    "wrapped_text = textwrap.fill(chunks[3], width=80)\n",
    "print(wrapped_text)"
   ]
  },
  {
   "cell_type": "code",
   "execution_count": null,
   "metadata": {},
   "outputs": [],
   "source": []
  }
 ],
 "metadata": {
  "language_info": {
   "name": "python"
  }
 },
 "nbformat": 4,
 "nbformat_minor": 2
}
