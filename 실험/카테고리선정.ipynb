{
 "cells": [
  {
   "cell_type": "code",
   "execution_count": null,
   "metadata": {},
   "outputs": [],
   "source": [
    "import numpy as np\n",
    "from sentence_transformers import SentenceTransformer\n",
    "import pandas as pd\n",
    "\n",
    "# Embedding Vector 추출에 활용할 모델(jhgan/ko-sbert-sts) 불러오기\n",
    "model = SentenceTransformer('jhgan/ko-sbert-sts', use_auth_token=False)"
   ]
  },
  {
   "cell_type": "code",
   "execution_count": null,
   "metadata": {},
   "outputs": [],
   "source": [
    "import pandas as pd\n",
    "df = pd.read_csv('train_df.csv', encoding = 'utf-8-sig')\n"
   ]
  },
  {
   "cell_type": "code",
   "execution_count": null,
   "metadata": {},
   "outputs": [],
   "source": [
    "df['공사종류(대분류)'] = df['공사종류'].str.split(' / ').str[0]\n",
    "df['공사종류(중분류)'] = df['공사종류'].str.split(' / ').str[1]\n",
    "df['공종(대분류)'] = df['공종'].str.split(' > ').str[0]\n",
    "df['공종(중분류)'] = df['공종'].str.split(' > ').str[1]\n",
    "df['사고객체(대분류)'] = df['사고객체'].str.split(' > ').str[0]\n",
    "df['사고객체(중분류)'] = df['사고객체'].str.split(' > ').str[1]"
   ]
  },
  {
   "cell_type": "code",
   "execution_count": null,
   "metadata": {},
   "outputs": [],
   "source": [
    "df.value_counts('공종(중분류)')"
   ]
  },
  {
   "cell_type": "code",
   "execution_count": null,
   "metadata": {},
   "outputs": [],
   "source": [
    "from sentence_transformers import SentenceTransformer\n",
    "from sklearn.metrics.pairwise import cosine_similarity\n",
    "\n",
    "grouped = df.groupby(\"사고객체(대분류)\")\n",
    "# 결과 저장을 위한 딕셔너리\n",
    "avg_similarities = {}\n",
    "\n",
    "# 각 그룹에 대해 평균 코사인 유사도 계산\n",
    "for category, group in grouped:\n",
    "    sentences = group['재발방지대책 및 향후조치계획'].tolist()\n",
    "    \n",
    "    # 그룹 내 문장이 2개 미만이면 계산할 수 없으므로 0 또는 np.nan 처리\n",
    "    if len(sentences) < 2:\n",
    "        avg_similarities[category] = np.nan\n",
    "        continue\n",
    "    \n",
    "    embeddings = model.encode(sentences, convert_to_tensor=False)\n",
    "    \n",
    "    sim_matrix = cosine_similarity(embeddings)\n",
    "    \n",
    "    # 대각선은 자기 자신과의 유사도로 제외 (k=1부터 시작)\n",
    "    n = sim_matrix.shape[0]\n",
    "    upper_tri_indices = np.triu_indices(n, k=1)\n",
    "    pairwise_sims = sim_matrix[upper_tri_indices]\n",
    "    \n",
    "    avg_similarity = np.mean(pairwise_sims)\n",
    "    avg_similarities[category] = avg_similarity\n",
    "\n",
    "# 결과 DataFrame 생성\n",
    "result_df = pd.DataFrame(list(avg_similarities.items()), columns=['공종(중분류)', '평균유사도'])\n",
    "print(result_df)"
   ]
  },
  {
   "cell_type": "code",
   "execution_count": null,
   "metadata": {},
   "outputs": [],
   "source": [
    "overall_avg = np.nanmean(list(avg_similarities.values()))\n",
    "print(\"전체 평균 유사도:\", overall_avg)"
   ]
  },
  {
   "cell_type": "code",
   "execution_count": null,
   "metadata": {},
   "outputs": [],
   "source": [
    "from sentence_transformers import SentenceTransformer\n",
    "from sklearn.metrics.pairwise import cosine_similarity\n",
    "\n",
    "grouped = df.groupby(\"공사종류(대분류)\")\n",
    "# 결과 저장을 위한 딕셔너리\n",
    "avg_similarities = {}\n",
    "\n",
    "# 각 그룹에 대해 평균 코사인 유사도 계산\n",
    "for category, group in grouped:\n",
    "    sentences = group['재발방지대책 및 향후조치계획'].tolist()\n",
    "    \n",
    "    # 그룹 내 문장이 2개 미만이면 계산할 수 없으므로 0 또는 np.nan 처리\n",
    "    if len(sentences) < 2:\n",
    "        avg_similarities[category] = np.nan\n",
    "        continue\n",
    "    \n",
    "    embeddings = model.encode(sentences, convert_to_tensor=False)\n",
    "    \n",
    "    sim_matrix = cosine_similarity(embeddings)\n",
    "    \n",
    "    # 대각선은 자기 자신과의 유사도로 제외 (k=1부터 시작)\n",
    "    n = sim_matrix.shape[0]\n",
    "    upper_tri_indices = np.triu_indices(n, k=1)\n",
    "    pairwise_sims = sim_matrix[upper_tri_indices]\n",
    "    \n",
    "    avg_similarity = np.mean(pairwise_sims)\n",
    "    avg_similarities[category] = avg_similarity\n",
    "\n",
    "# 결과 DataFrame 생성\n",
    "result_df = pd.DataFrame(list(avg_similarities.items()), columns=['공사종류(대분류)', '평균유사도'])\n",
    "print(result_df)"
   ]
  },
  {
   "cell_type": "code",
   "execution_count": null,
   "metadata": {},
   "outputs": [],
   "source": [
    "overall_avg = np.nanmean(list(avg_similarities.values()))\n",
    "print(\"전체 평균 유사도:\", overall_avg)"
   ]
  },
  {
   "cell_type": "code",
   "execution_count": null,
   "metadata": {},
   "outputs": [],
   "source": []
  }
 ],
 "metadata": {
  "language_info": {
   "name": "python"
  }
 },
 "nbformat": 4,
 "nbformat_minor": 2
}
