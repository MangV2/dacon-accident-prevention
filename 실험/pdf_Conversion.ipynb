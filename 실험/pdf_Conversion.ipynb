{
 "cells": [
  {
   "cell_type": "code",
   "execution_count": null,
   "metadata": {},
   "outputs": [],
   "source": [
    "file_path = 'C:/Users/minkyu/Desktop/open/건설안전지침/'"
   ]
  },
  {
   "cell_type": "code",
   "execution_count": null,
   "metadata": {},
   "outputs": [],
   "source": [
    "import pymupdf4llm\n",
    "llama_reader = pymupdf4llm.LlamaMarkdownReader()\n"
   ]
  },
  {
   "cell_type": "code",
   "execution_count": null,
   "metadata": {},
   "outputs": [],
   "source": [
    "import re\n",
    "import textwrap\n",
    "\n",
    "\n",
    "def remove_special_chars_and_extra_spaces(text):\n",
    "    \"\"\"\n",
    "    연속적으로 사용되는 특수문자(예: --- 또는 ~~~)를 제거하고,\n",
    "    1칸 이상의 연속된 띄어쓰기를 단일 공백으로 변경한다.\n",
    "    \"\"\"\n",
    "    # '-' 또는 '~' 문자가 3회 이상 연속될 경우 제거\n",
    "    text = re.sub(r'([-~]){3,}', '', text)\n",
    "    # 2칸 이상의 공백을 단일 공백으로 변경\n",
    "    text = re.sub(r'\\s{2,}', ' ', text)\n",
    "    return text\n",
    "\n",
    "def remove_markdown_artifacts(text):\n",
    "    \"\"\"불필요한 markdown 문법(예: 헤더, 리스트 기호 등)을 제거\"\"\"\n",
    "    # 예시: '#' 로 시작하는 헤더 제거\n",
    "    text = re.sub(r'^#+\\s*', '', text, flags=re.MULTILINE)\n",
    "    # 예시: 리스트 기호('-','*') 제거\n",
    "    text = re.sub(r'^[\\-\\*]\\s+', '', text, flags=re.MULTILINE)\n",
    "    return text\n",
    "\n",
    "def reflow_text(text, width=80):\n",
    "    \"\"\"문단별로 텍스트를 리플로우하여 일정 너비로 맞춤\"\"\"\n",
    "    paragraphs = text.split('\\n')\n",
    "    new_paragraphs = [textwrap.fill(p, width=width) for p in paragraphs if p.strip() != \"\"]\n",
    "    return '\\n\\n'.join(new_paragraphs)\n",
    "\n",
    "def clean_extracted_markdown(text, width=80):\n",
    "    # 2. 특수문자 및 공백 정리\n",
    "    text = remove_special_chars_and_extra_spaces(text)\n",
    "    # 3. 마크다운 아티팩트 제거\n",
    "    text = remove_markdown_artifacts(text)\n",
    "    # 4. 리플로우로 가독성 향상\n",
    "    text = reflow_text(text, width=width)\n",
    "    return text\n",
    "\n",
    "# 사용 예제:\n",
    "# md_text = pymupdf4llm.to_markdown(file_path + \"갱폼(Gang form) 제작 및 사용안전 지침.pdf\")\n",
    "# cleaned_text = clean_extracted_markdown(md_text)\n",
    "# print(cleaned_text)\n"
   ]
  },
  {
   "cell_type": "code",
   "execution_count": null,
   "metadata": {},
   "outputs": [],
   "source": [
    "md_text = pymupdf4llm.to_markdown(file_path+ \"시스템 비계 안전작업 지침.pdf\")"
   ]
  },
  {
   "cell_type": "code",
   "execution_count": null,
   "metadata": {},
   "outputs": [],
   "source": [
    "cleaned_text = clean_extracted_markdown(md_text)\n",
    "print(cleaned_text)"
   ]
  },
  {
   "cell_type": "code",
   "execution_count": null,
   "metadata": {},
   "outputs": [],
   "source": [
    "from langchain_experimental.text_splitter import SemanticChunker\n",
    "from langchain.embeddings import HuggingFaceEmbeddings\n",
    "\n",
    "embeddings = HuggingFaceEmbeddings(model_name=\"BAAI/bge-m3\")\n",
    "text_splitter = SemanticChunker(embeddings)"
   ]
  },
  {
   "cell_type": "code",
   "execution_count": null,
   "metadata": {},
   "outputs": [],
   "source": [
    "chunks = text_splitter.split_text(cleaned_text)"
   ]
  },
  {
   "cell_type": "code",
   "execution_count": null,
   "metadata": {},
   "outputs": [],
   "source": [
    "import textwrap\n",
    "\n",
    "# 예를 들어, width를 80으로 설정하여 감싸기\n",
    "wrapped_text = textwrap.fill(chunks[1], width=80)\n",
    "print(wrapped_text)"
   ]
  },
  {
   "cell_type": "code",
   "execution_count": null,
   "metadata": {},
   "outputs": [],
   "source": []
  },
  {
   "cell_type": "code",
   "execution_count": null,
   "metadata": {},
   "outputs": [],
   "source": [
    "import os\n",
    "import re\n",
    "import textwrap\n",
    "import pymupdf4llm\n",
    "from langchain_experimental.text_splitter import SemanticChunker\n",
    "from langchain.embeddings import HuggingFaceEmbeddings\n",
    "from langchain.docstore.document import Document\n",
    "from langchain.vectorstores import FAISS\n",
    "\n",
    "# 전처리 함수들\n",
    "def remove_newlines_except_after_period(text):\n",
    "    \"\"\"마침표 다음의 줄바꿈을 제외한 모든 줄바꿈을 제거\"\"\"\n",
    "    return re.sub(r'(?<!\\.)(\\n|\\r\\n)', ' ', text)\n",
    "\n",
    "def remove_special_chars_and_extra_spaces(text):\n",
    "    \"\"\"\n",
    "    연속적으로 사용되는 특수문자(예: --- 또는 ~~~)를 제거하고,\n",
    "    1칸 이상의 연속된 띄어쓰기를 단일 공백으로 변경한다.\n",
    "    \"\"\"\n",
    "    text = re.sub(r'([-~]){3,}', '', text)\n",
    "    text = re.sub(r'\\s{2,}', ' ', text)\n",
    "    return text\n",
    "\n",
    "def remove_markdown_artifacts(text):\n",
    "    \"\"\"불필요한 markdown 문법(예: 헤더, 리스트 기호 등)을 제거\"\"\"\n",
    "    text = re.sub(r'^#+\\s*', '', text, flags=re.MULTILINE)\n",
    "    text = re.sub(r'^[\\-\\*]\\s+', '', text, flags=re.MULTILINE)\n",
    "    return text\n",
    "\n",
    "def reflow_text(text, width=80):\n",
    "    \"\"\"문단별로 텍스트를 리플로우하여 일정 너비로 맞춤\"\"\"\n",
    "    paragraphs = text.split('\\n')\n",
    "    new_paragraphs = [textwrap.fill(p, width=width) for p in paragraphs if p.strip() != \"\"]\n",
    "    return '\\n\\n'.join(new_paragraphs)\n",
    "\n",
    "def clean_extracted_markdown(text, width=80):\n",
    "    # 1. 줄바꿈 정리\n",
    "    text = remove_newlines_except_after_period(text)\n",
    "    # 2. 특수문자 및 공백 정리\n",
    "    text = remove_special_chars_and_extra_spaces(text)\n",
    "    # 3. 마크다운 아티팩트 제거\n",
    "    text = remove_markdown_artifacts(text)\n",
    "    # 4. 리플로우로 가독성 향상\n",
    "    text = reflow_text(text, width=width)\n",
    "    return text\n",
    "\n",
    "# PDF 파일이 있는 폴더 경로\n",
    "file_path = 'C:/Users/minkyu/Desktop/open/건설안전지침/'\n",
    "\n",
    "# Hugging Face 임베딩 및 SemanticChunker 초기화\n",
    "embeddings = HuggingFaceEmbeddings(model_name=\"BAAI/bge-m3\")\n",
    "text_splitter = SemanticChunker(embeddings)\n",
    "\n",
    "# 벡터 스토어에 추가할 문서(Document)들을 저장할 리스트\n",
    "documents = []\n",
    "\n",
    "# 폴더 내의 모든 PDF 파일에 대해 처리\n",
    "for filename in os.listdir(file_path):\n",
    "    if filename.lower().endswith('.pdf'):\n",
    "        full_path = os.path.join(file_path, filename)\n",
    "        # PDF를 Markdown 형태의 텍스트로 변환 (pymupdf4llm 사용)\n",
    "        md_text = pymupdf4llm.to_markdown(full_path)\n",
    "        # 전처리: 불필요한 줄바꿈, 특수문자, markdown 아티팩트 제거 및 리플로우\n",
    "        cleaned_text = clean_extracted_markdown(md_text)\n",
    "        # 의미론적 청킹: 텍스트를 의미 단위의 청크로 분할\n",
    "        chunks = text_splitter.split_text(cleaned_text)\n",
    "        \n",
    "        # 각 청크를 Document 객체로 변환하여 메타데이터(원본 파일명) 추가\n",
    "        for chunk in chunks:\n",
    "            documents.append(Document(page_content=chunk, metadata={\"source\": filename}))\n",
    "\n",
    "# FAISS 벡터 스토어 생성: 문서들을 임베딩하고 인덱싱\n",
    "vector_store = FAISS.from_documents(documents, embeddings)\n",
    "\n",
    "# 이제 vector_store를 활용해 RAG 시스템에 질의 응답을 진행할 수 있습니다.\n",
    "print(f\"{len(documents)}개의 문서 청크가 벡터 스토어에 저장되었습니다.\")\n"
   ]
  },
  {
   "cell_type": "code",
   "execution_count": null,
   "metadata": {},
   "outputs": [],
   "source": [
    "vector_store.save_local(\"faiss_index\")"
   ]
  },
  {
   "cell_type": "code",
   "execution_count": null,
   "metadata": {},
   "outputs": [],
   "source": [
    "# 저장된 벡터 스토어 불러오기\n",
    "vector_store.save_local(\"faiss_index\")\n",
    "\n",
    "# 불러오기 (같은 임베딩 객체를 사용)\n",
    "from langchain.vectorstores import FAISS\n",
    "embeddings = HuggingFaceEmbeddings(model_name=\"BAAI/bge-m3\")\n",
    "new_vector_store = FAISS.load_local(\"faiss_index\", embeddings)"
   ]
  }
 ],
 "metadata": {
  "language_info": {
   "name": "python"
  }
 },
 "nbformat": 4,
 "nbformat_minor": 2
}
