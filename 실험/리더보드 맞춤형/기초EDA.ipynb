{
 "cells": [
  {
   "cell_type": "code",
   "execution_count": 6,
   "metadata": {},
   "outputs": [],
   "source": [
    "import pandas as pd\n",
    "import numpy as np"
   ]
  },
  {
   "cell_type": "code",
   "execution_count": 3,
   "metadata": {},
   "outputs": [],
   "source": [
    "train = pd.read_csv('train2.csv')\n",
    "test = pd.read_csv('test2.csv')"
   ]
  },
  {
   "cell_type": "code",
   "execution_count": 7,
   "metadata": {},
   "outputs": [],
   "source": [
    "def preprocess(df):\n",
    "    df.replace('-', np.nan, inplace=True)\n",
    "    df['공사종류(대분류)'] = df['공사종류'].str.split(' / ').str[0]\n",
    "    df['공사종류(중분류)'] = df['공사종류'].str.split(' / ').str[1]\n",
    "    df['공종(대분류)'] = df['공종'].str.split(' > ').str[0]\n",
    "    df['공종(중분류)'] = df['공종'].str.split(' > ').str[1]\n",
    "    df['사고객체(대분류)'] = df['사고객체'].str.split(' > ').str[0]\n",
    "    df['사고객체(중분류)'] = df['사고객체'].str.split(' > ').str[1]\n",
    "    df['사고인지 시간'] = df['사고인지 시간'].str.split('-').str[0].str.strip()\n",
    "\n",
    "    return df\n",
    "\n",
    "\n",
    "train = preprocess(train)\n",
    "test = preprocess(test)\n"
   ]
  },
  {
   "cell_type": "code",
   "execution_count": 10,
   "metadata": {},
   "outputs": [
    {
     "data": {
      "text/plain": [
       "공종(중분류)\n",
       "철근콘크리트공사        7059\n",
       "가설공사            2520\n",
       "기타              2066\n",
       "해체 및 철거공사       1037\n",
       "기계설비공사           939\n",
       "토공사              907\n",
       "철골공사             781\n",
       "건축물 부대공사         646\n",
       "수장공사             593\n",
       "관공사              552\n",
       "건축 토공사           551\n",
       "미장공사             536\n",
       "전기설비공사           507\n",
       "타일 및 돌공사         449\n",
       "도로 및 포장공사        402\n",
       "교량공사             344\n",
       "조적공사             330\n",
       "도장공사             296\n",
       "터널공사             288\n",
       "산업설비공사           285\n",
       "목공사              275\n",
       "금속공사             265\n",
       "창호 및 유리공사        242\n",
       "하천공사             226\n",
       "방수공사             211\n",
       "관공사 부대공사         197\n",
       "항만공사             164\n",
       "지붕 및 홈통공사        160\n",
       "말뚝공사             118\n",
       "철도 및 궤도공사        115\n",
       "지정공사              95\n",
       "조경공사              64\n",
       "지반개량공사            50\n",
       "강구조물공사            45\n",
       "지반조사              37\n",
       "프리캐스트 콘크리트공사      21\n",
       "댐 및 제방공사          19\n",
       "특수 건축물공사          10\n",
       "통신설비공사             9\n",
       "Name: count, dtype: int64"
      ]
     },
     "execution_count": 10,
     "metadata": {},
     "output_type": "execute_result"
    }
   ],
   "source": [
    "train['공종(중분류)'].value_counts()"
   ]
  },
  {
   "cell_type": "code",
   "execution_count": 11,
   "metadata": {},
   "outputs": [
    {
     "data": {
      "text/plain": [
       "공사종류(중분류)\n",
       "건축물          17727\n",
       "상하수도          1091\n",
       "도로            1056\n",
       "기타             649\n",
       "발전시설           528\n",
       "교량             426\n",
       "터널             361\n",
       "하천             358\n",
       "철도             279\n",
       "항만             217\n",
       "옹벽 및 절토사면      197\n",
       "환경시설           196\n",
       "산업생산시설         169\n",
       "공원              66\n",
       "댐               60\n",
       "숲               15\n",
       "공동구             11\n",
       "정원              10\n",
       "생태공원             4\n",
       "수목원              1\n",
       "Name: count, dtype: int64"
      ]
     },
     "execution_count": 11,
     "metadata": {},
     "output_type": "execute_result"
    }
   ],
   "source": [
    "train['공사종류(중분류)'].value_counts()"
   ]
  },
  {
   "cell_type": "code",
   "execution_count": 12,
   "metadata": {},
   "outputs": [
    {
     "data": {
      "text/plain": [
       "공종(중분류)\n",
       "철근콘크리트공사        290\n",
       "가설공사             86\n",
       "기타               53\n",
       "토공사              44\n",
       "해체 및 철거공사        40\n",
       "기계설비공사           37\n",
       "철골공사             36\n",
       "관공사              31\n",
       "수장공사             29\n",
       "타일 및 돌공사         28\n",
       "건축물 부대공사         26\n",
       "미장공사             24\n",
       "금속공사             23\n",
       "조적공사             20\n",
       "도로 및 포장공사        18\n",
       "도장공사             17\n",
       "철도 및 궤도공사        16\n",
       "터널공사             16\n",
       "전기설비공사           15\n",
       "교량공사             15\n",
       "건축 토공사           12\n",
       "목공사              11\n",
       "방수공사             10\n",
       "관공사 부대공사         10\n",
       "하천공사             10\n",
       "창호 및 유리공사         8\n",
       "지붕 및 홈통공사         7\n",
       "말뚝공사              6\n",
       "산업설비공사            5\n",
       "항만공사              4\n",
       "댐 및 제방공사          3\n",
       "강구조물공사            3\n",
       "프리캐스트 콘크리트공사      2\n",
       "지반개량공사            2\n",
       "지정공사              2\n",
       "지반조사              2\n",
       "조경공사              2\n",
       "특수 건축물공사          1\n",
       "Name: count, dtype: int64"
      ]
     },
     "execution_count": 12,
     "metadata": {},
     "output_type": "execute_result"
    }
   ],
   "source": [
    "test['공종(중분류)'].value_counts()"
   ]
  },
  {
   "cell_type": "code",
   "execution_count": 13,
   "metadata": {},
   "outputs": [
    {
     "data": {
      "text/plain": [
       "공사종류(중분류)\n",
       "건축물          700\n",
       "상하수도          62\n",
       "도로            51\n",
       "철도            25\n",
       "기타            24\n",
       "교량            20\n",
       "터널            14\n",
       "하천            14\n",
       "환경시설          14\n",
       "발전시설          12\n",
       "옹벽 및 절토사면     11\n",
       "항만             6\n",
       "산업생산시설         4\n",
       "댐              3\n",
       "공원             2\n",
       "생태공원           2\n",
       "Name: count, dtype: int64"
      ]
     },
     "execution_count": 13,
     "metadata": {},
     "output_type": "execute_result"
    }
   ],
   "source": [
    "test['공사종류(중분류)'].value_counts()"
   ]
  },
  {
   "cell_type": "code",
   "execution_count": null,
   "metadata": {},
   "outputs": [],
   "source": []
  }
 ],
 "metadata": {
  "kernelspec": {
   "display_name": "sd2",
   "language": "python",
   "name": "python3"
  },
  "language_info": {
   "codemirror_mode": {
    "name": "ipython",
    "version": 3
   },
   "file_extension": ".py",
   "mimetype": "text/x-python",
   "name": "python",
   "nbconvert_exporter": "python",
   "pygments_lexer": "ipython3",
   "version": "3.10.16"
  }
 },
 "nbformat": 4,
 "nbformat_minor": 2
}
