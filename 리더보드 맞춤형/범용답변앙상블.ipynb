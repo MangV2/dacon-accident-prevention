{
 "cells": [
  {
   "cell_type": "code",
   "execution_count": 1,
   "metadata": {},
   "outputs": [
    {
     "name": "stderr",
     "output_type": "stream",
     "text": [
      "c:\\Users\\minkyu\\AppData\\Local\\anaconda3\\envs\\sd2\\lib\\site-packages\\tqdm\\auto.py:21: TqdmWarning: IProgress not found. Please update jupyter and ipywidgets. See https://ipywidgets.readthedocs.io/en/stable/user_install.html\n",
      "  from .autonotebook import tqdm as notebook_tqdm\n"
     ]
    }
   ],
   "source": [
    "import pandas as pd \n",
    "import numpy as np \n",
    "\n",
    "from sklearn.metrics.pairwise import cosine_similarity\n",
    "from tqdm.auto import tqdm"
   ]
  },
  {
   "cell_type": "code",
   "execution_count": 50,
   "metadata": {},
   "outputs": [],
   "source": [
    "text_value = \"작업전 안전교육 실시와 안전관리자 안전점검 실시를 통한 재발 방지 대책 및 향후 조치 계획\"\n",
    "\n",
    "# 인덱스 0부터 963까지 총 964행을 가진 DataFrame 생성\n",
    "sub1 = pd.DataFrame({\"sub\": [text_value] * 964})"
   ]
  },
  {
   "cell_type": "code",
   "execution_count": 41,
   "metadata": {},
   "outputs": [],
   "source": [
    "sub2 = pd.read_csv(\"train2.csv\")"
   ]
  },
  {
   "cell_type": "code",
   "execution_count": 42,
   "metadata": {},
   "outputs": [],
   "source": [
    "sub2 = sub2['templeate']"
   ]
  },
  {
   "cell_type": "code",
   "execution_count": 44,
   "metadata": {},
   "outputs": [],
   "source": [
    "sub3 = pd.read_csv(\"data/submissionV13.csv\")\n",
    "sub4 = pd.read_csv(\"data/submissionV18ckp3000.csv\")"
   ]
  },
  {
   "cell_type": "code",
   "execution_count": 46,
   "metadata": {},
   "outputs": [],
   "source": [
    "sub3 = sub3['재발방지대책 및 향후조치계획']\n",
    "sub4 = sub4['재발방지대책 및 향후조치계획']"
   ]
  },
  {
   "cell_type": "code",
   "execution_count": 51,
   "metadata": {},
   "outputs": [],
   "source": [
    "df = pd.concat([sub1, sub2, sub3, sub4], axis=1)\n"
   ]
  },
  {
   "cell_type": "code",
   "execution_count": 52,
   "metadata": {},
   "outputs": [],
   "source": [
    "df.columns = ['sub1', 'sub2', 'sub3', 'sub4']\n"
   ]
  },
  {
   "cell_type": "code",
   "execution_count": 53,
   "metadata": {},
   "outputs": [
    {
     "data": {
      "text/plain": [
       "Index(['sub1', 'sub2', 'sub3', 'sub4'], dtype='object')"
      ]
     },
     "execution_count": 53,
     "metadata": {},
     "output_type": "execute_result"
    }
   ],
   "source": [
    "df.columns"
   ]
  },
  {
   "cell_type": "code",
   "execution_count": 58,
   "metadata": {},
   "outputs": [],
   "source": [
    "df = df[:964]"
   ]
  },
  {
   "cell_type": "code",
   "execution_count": 4,
   "metadata": {},
   "outputs": [
    {
     "name": "stderr",
     "output_type": "stream",
     "text": [
      "c:\\Users\\minkyu\\AppData\\Local\\anaconda3\\envs\\sd2\\lib\\site-packages\\sentence_transformers\\SentenceTransformer.py:195: FutureWarning: The `use_auth_token` argument is deprecated and will be removed in v4 of SentenceTransformers.\n",
      "  warnings.warn(\n"
     ]
    }
   ],
   "source": [
    "from sentence_transformers import SentenceTransformer\n",
    "\n",
    "# Embedding Vector 추출에 활용할 모델(jhgan/ko-sbert-sts) 불러오기\n",
    "model = SentenceTransformer('jhgan/ko-sbert-sts', use_auth_token=False)"
   ]
  },
  {
   "cell_type": "code",
   "execution_count": 60,
   "metadata": {},
   "outputs": [
    {
     "name": "stderr",
     "output_type": "stream",
     "text": [
      "100%|██████████| 964/964 [00:42<00:00, 22.90it/s]"
     ]
    },
    {
     "name": "stdout",
     "output_type": "stream",
     "text": [
      "                                                sub1  \\\n",
      "0  작업전 안전교육 실시와 안전관리자 안전점검 실시를 통한 재발 방지 대책 및 향후 조...   \n",
      "1  작업전 안전교육 실시와 안전관리자 안전점검 실시를 통한 재발 방지 대책 및 향후 조...   \n",
      "2  작업전 안전교육 실시와 안전관리자 안전점검 실시를 통한 재발 방지 대책 및 향후 조...   \n",
      "3  작업전 안전교육 실시와 안전관리자 안전점검 실시를 통한 재발 방지 대책 및 향후 조...   \n",
      "4  작업전 안전교육 실시와 안전관리자 안전점검 실시를 통한 재발 방지 대책 및 향후 조...   \n",
      "\n",
      "                                                sub2  \\\n",
      "0  작업자 안전교육 실시와 작업 위험구간 안전조치 철저, 안전점검 및 안전조치 여부 전...   \n",
      "1  작업전 작업자 안전교육 강화, 안전수칙 준수 특별안전교육 실시, 작업지휘자 관리감독...   \n",
      "2  이동통로 확보 관리와 작업 전 안전교육 철저 및 정기적 근로자 안전교육 시행을 통한...   \n",
      "3  작업전 안전교육 및 특별안전교육 실시와 안전관리 및 안전교육 철저를 통한 재발 방지...   \n",
      "4  이동통로 확보 관리와 작업 전 안전교육 철저 및 정기적 근로자 안전교육 시행을 통한...   \n",
      "\n",
      "                                                sub3  \\\n",
      "0  타설 작업 시 펌프카 아웃트리거 바닥 고임목을 3단 이상으로 보강하고, 작업 위치를...   \n",
      "1                      작업자 안전교육 강화와 작업 전 안전수칙 준수 철저.   \n",
      "2           작업자 안전교육 강화와 작업발판 설치 확대를 통한 재발 방지 대책 수립.   \n",
      "3           작업 발판 설치 확대와 정기적인 안전교육을 통해 사고 예방을 강화합니다.   \n",
      "4                      작업자 안전교육 강화와 작업 전 안전점검 철저 실시.   \n",
      "\n",
      "                                                sub4  \\\n",
      "0  작업 전 지반 상태 확인 및 아웃트리거 바닥 고임목 3단 이상 보강, 타설 위치 조...   \n",
      "1  작업자 안전교육 강화, 보안면 착용 의무화, 작업 도구 사용 교육 실시 및 작업 도...   \n",
      "2  작업자 안전교육 강화, 작업발판 및 계단 주변 안전난간 설치, 작업 전 안전점검 실...   \n",
      "3                     작업 발판 위 잔재물 제거 및 정기적인 안전교육 실시.   \n",
      "4         작업자 안전교육 강화와 작업 중 안전수칙 준수를 위한 현장 감독 강화 실시.   \n",
      "\n",
      "                                            대표재발방지대책  \\\n",
      "0  작업자 안전교육 실시와 작업 위험구간 안전조치 철저, 안전점검 및 안전조치 여부 전...   \n",
      "1  작업전 작업자 안전교육 강화, 안전수칙 준수 특별안전교육 실시, 작업지휘자 관리감독...   \n",
      "2  작업전 안전교육 실시와 안전관리자 안전점검 실시를 통한 재발 방지 대책 및 향후 조...   \n",
      "3  작업전 안전교육 및 특별안전교육 실시와 안전관리 및 안전교육 철저를 통한 재발 방지...   \n",
      "4         작업자 안전교육 강화와 작업 중 안전수칙 준수를 위한 현장 감독 강화 실시.   \n",
      "\n",
      "                                               대표유사도  \n",
      "0  [0.8657289743423462, 1.000000238418579, 0.5297...  \n",
      "1  [0.9150158166885376, 0.9999999403953552, 0.838...  \n",
      "2  [1.000000238418579, 0.8472688794136047, 0.8172...  \n",
      "3  [0.8956630229949951, 0.9999997615814209, 0.695...  \n",
      "4  [0.8306748270988464, 0.7915779948234558, 0.917...  \n"
     ]
    },
    {
     "name": "stderr",
     "output_type": "stream",
     "text": [
      "\n",
      "C:\\Users\\minkyu\\AppData\\Local\\Temp\\ipykernel_18628\\4108430798.py:38: SettingWithCopyWarning: \n",
      "A value is trying to be set on a copy of a slice from a DataFrame.\n",
      "Try using .loc[row_indexer,col_indexer] = value instead\n",
      "\n",
      "See the caveats in the documentation: https://pandas.pydata.org/pandas-docs/stable/user_guide/indexing.html#returning-a-view-versus-a-copy\n",
      "  df[\"대표재발방지대책\"] = representative_texts\n",
      "C:\\Users\\minkyu\\AppData\\Local\\Temp\\ipykernel_18628\\4108430798.py:39: SettingWithCopyWarning: \n",
      "A value is trying to be set on a copy of a slice from a DataFrame.\n",
      "Try using .loc[row_indexer,col_indexer] = value instead\n",
      "\n",
      "See the caveats in the documentation: https://pandas.pydata.org/pandas-docs/stable/user_guide/indexing.html#returning-a-view-versus-a-copy\n",
      "  df[\"대표유사도\"] = cosine_scores\n"
     ]
    }
   ],
   "source": [
    "import numpy as np\n",
    "from sklearn.metrics.pairwise import cosine_similarity\n",
    "from tqdm import tqdm\n",
    "\n",
    "# 예시: df는 sub1, sub2, sub3, sub4 컬럼을 포함하는 데이터프레임\n",
    "# model은 텍스트를 벡터로 인코딩하는 모델입니다.\n",
    "\n",
    "# 각 행별 대표 텍스트와 유사도 정보를 저장할 리스트 초기화\n",
    "representative_texts = []  # 각 행별 대표 텍스트 저장\n",
    "cosine_scores = []         # 각 행별 대표 텍스트와 다른 텍스트 간 유사도 기록\n",
    "\n",
    "# 모델을 통해 텍스트를 벡터로 인코딩하는 예시 함수가 있다고 가정합니다.\n",
    "# 예: model.encode(text)\n",
    "# model은 이미 초기화된 인코딩 모델이어야 합니다.\n",
    "\n",
    "# 각 행에 대해 sub1~sub5 컬럼의 텍스트를 비교\n",
    "for idx, row in tqdm(df.iterrows(), total=len(df)):\n",
    "    # sub1부터 sub5까지의 텍스트를 리스트로 추출합니다.\n",
    "    texts = [row[f\"sub{i}\"] for i in range(1, 5)]\n",
    "    \n",
    "    # 각 텍스트를 벡터화합니다.\n",
    "    vectors = np.stack([model.encode(text) for text in texts])\n",
    "    \n",
    "    # 텍스트들 간의 코사인 유사도 행렬 계산\n",
    "    similarity = cosine_similarity(vectors, vectors)\n",
    "    \n",
    "    # 각 텍스트에 대해 다른 텍스트들과의 평균 유사도를 계산합니다.\n",
    "    avg_similarity = similarity.mean(axis=1)\n",
    "    \n",
    "    # 평균 유사도가 가장 높은 텍스트의 인덱스를 선택합니다.\n",
    "    rep_idx = avg_similarity.argmax()\n",
    "    \n",
    "    # 대표 텍스트와 해당 텍스트의 유사도 벡터를 저장합니다.\n",
    "    representative_texts.append(texts[rep_idx])\n",
    "    cosine_scores.append(similarity[rep_idx].tolist())\n",
    "\n",
    "# 결과를 DataFrame의 새로운 컬럼에 추가합니다.\n",
    "df[\"대표재발방지대책\"] = representative_texts\n",
    "df[\"대표유사도\"] = cosine_scores\n",
    "\n",
    "# 결과 출력\n",
    "print(df.head())"
   ]
  },
  {
   "cell_type": "code",
   "execution_count": 62,
   "metadata": {},
   "outputs": [
    {
     "data": {
      "text/plain": [
       "0      작업자 안전교육 실시와 작업 위험구간 안전조치 철저, 안전점검 및 안전조치 여부 전...\n",
       "1      작업전 작업자 안전교육 강화, 안전수칙 준수 특별안전교육 실시, 작업지휘자 관리감독...\n",
       "2      작업전 안전교육 실시와 안전관리자 안전점검 실시를 통한 재발 방지 대책 및 향후 조...\n",
       "3      작업전 안전교육 및 특별안전교육 실시와 안전관리 및 안전교육 철저를 통한 재발 방지...\n",
       "4             작업자 안전교육 강화와 작업 중 안전수칙 준수를 위한 현장 감독 강화 실시.\n",
       "                             ...                        \n",
       "959    작업전 안전교육 실시와 안전관리자 안전점검 실시를 통한 재발 방지 대책 및 향후 조...\n",
       "960    작업전 안전교육 철저와 작업중 위험요인 파악 및 제거를 통한 재발 방지 대책 및 향...\n",
       "961    안전교육 실시와 현장 내 작업지시사항 철저 이행, 안전관리 교육 이행, 안전위험요소...\n",
       "962    작업전 작업자 안전교육 강화, 안전수칙 준수 특별안전교육 실시, 작업지휘자 관리감독...\n",
       "963    작업전 안전교육 실시와 안전관리자 안전점검 실시를 통한 재발 방지 대책 및 향후 조...\n",
       "Name: 대표재발방지대책, Length: 964, dtype: object"
      ]
     },
     "execution_count": 62,
     "metadata": {},
     "output_type": "execute_result"
    }
   ],
   "source": [
    "df['대표재발방지대책']"
   ]
  },
  {
   "cell_type": "code",
   "execution_count": 63,
   "metadata": {},
   "outputs": [],
   "source": [
    "\n",
    "\n",
    "# 문장 리스트를 입력하여 임베딩 생성\n",
    "pred_embeddings = model.encode(df['대표재발방지대책'])"
   ]
  },
  {
   "cell_type": "code",
   "execution_count": 64,
   "metadata": {},
   "outputs": [],
   "source": [
    "submission = pd.read_csv(\"sample_submission.csv\", encoding = 'utf-8-sig')\n",
    "# 최종 결과 저장\n",
    "submission.iloc[:,1] = df['대표재발방지대책']\n",
    "submission.iloc[:,2:] = pred_embeddings\n",
    "submission.head()\n",
    "# 최종 결과를 CSV로 저장\n",
    "submission.to_csv('신기술V2.csv', index=False, encoding='utf-8-sig')"
   ]
  },
  {
   "cell_type": "code",
   "execution_count": null,
   "metadata": {},
   "outputs": [],
   "source": []
  }
 ],
 "metadata": {
  "kernelspec": {
   "display_name": "sd2",
   "language": "python",
   "name": "python3"
  },
  "language_info": {
   "codemirror_mode": {
    "name": "ipython",
    "version": 3
   },
   "file_extension": ".py",
   "mimetype": "text/x-python",
   "name": "python",
   "nbconvert_exporter": "python",
   "pygments_lexer": "ipython3",
   "version": "3.10.16"
  }
 },
 "nbformat": 4,
 "nbformat_minor": 2
}
