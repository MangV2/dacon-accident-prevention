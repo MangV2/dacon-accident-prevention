{
 "cells": [
  {
   "cell_type": "code",
   "execution_count": 2,
   "metadata": {},
   "outputs": [
    {
     "name": "stderr",
     "output_type": "stream",
     "text": [
      "c:\\Users\\minkyu\\AppData\\Local\\anaconda3\\envs\\sd2\\lib\\site-packages\\tqdm\\auto.py:21: TqdmWarning: IProgress not found. Please update jupyter and ipywidgets. See https://ipywidgets.readthedocs.io/en/stable/user_install.html\n",
      "  from .autonotebook import tqdm as notebook_tqdm\n"
     ]
    }
   ],
   "source": [
    "import numpy as np\n",
    "from sentence_transformers import SentenceTransformer\n",
    "import pandas as pd\n",
    "\n",
    "# Embedding Vector 추출에 활용할 모델(jhgan/ko-sbert-sts) 불러오기\n",
    "#model = SentenceTransformer('jhgan/ko-sbert-sts', use_auth_token=False)"
   ]
  },
  {
   "cell_type": "code",
   "execution_count": 3,
   "metadata": {},
   "outputs": [],
   "source": [
    "df = pd.read_csv('train.csv', encoding = 'utf-8-sig')\n"
   ]
  },
  {
   "cell_type": "code",
   "execution_count": 4,
   "metadata": {},
   "outputs": [],
   "source": [
    "df['공사종류(대분류)'] = df['공사종류'].str.split(' / ').str[0]\n",
    "df['공사종류(중분류)'] = df['공사종류'].str.split(' / ').str[1]\n",
    "df['공종(대분류)'] = df['공종'].str.split(' > ').str[0]\n",
    "df['공종(중분류)'] = df['공종'].str.split(' > ').str[1]\n",
    "df['사고객체(대분류)'] = df['사고객체'].str.split(' > ').str[0]\n",
    "df['사고객체(중분류)'] = df['사고객체'].str.split(' > ').str[1]"
   ]
  },
  {
   "cell_type": "code",
   "execution_count": null,
   "metadata": {},
   "outputs": [
    {
     "name": "stdout",
     "output_type": "stream",
     "text": [
      "         공종(중분류)     평균유사도\n",
      "0           가설공사  0.546390\n",
      "1         강구조물공사  0.545715\n",
      "2         건축 토공사  0.539231\n",
      "3       건축물 부대공사  0.530162\n",
      "4            관공사  0.542984\n",
      "5       관공사 부대공사  0.538104\n",
      "6           교량공사  0.539067\n",
      "7           금속공사  0.538962\n",
      "8         기계설비공사  0.493029\n",
      "9             기타  0.512591\n",
      "10      댐 및 제방공사  0.525409\n",
      "11     도로 및 포장공사  0.551911\n",
      "12          도장공사  0.556861\n",
      "13          말뚝공사  0.555806\n",
      "14           목공사  0.544218\n",
      "15          미장공사  0.547937\n",
      "16          방수공사  0.536368\n",
      "17        산업설비공사  0.442414\n",
      "18          수장공사  0.539619\n",
      "19        전기설비공사  0.481451\n",
      "20          조경공사  0.556957\n",
      "21          조적공사  0.544845\n",
      "22        지반개량공사  0.542257\n",
      "23          지반조사  0.523460\n",
      "24     지붕 및 홈통공사  0.502272\n",
      "25          지정공사  0.547190\n",
      "26     창호 및 유리공사  0.530560\n",
      "27          철골공사  0.531484\n",
      "28      철근콘크리트공사  0.542627\n",
      "29     철도 및 궤도공사  0.533192\n",
      "30      타일 및 돌공사  0.535059\n",
      "31          터널공사  0.499065\n",
      "32           토공사  0.526639\n",
      "33        통신설비공사  0.577286\n",
      "34      특수 건축물공사  0.538375\n",
      "35  프리캐스트 콘크리트공사  0.500266\n",
      "36          하천공사  0.556576\n",
      "37          항만공사  0.517643\n",
      "38     해체 및 철거공사  0.547238\n"
     ]
    }
   ],
   "source": [
    "from sentence_transformers import SentenceTransformer\n",
    "from sklearn.metrics.pairwise import cosine_similarity\n",
    "\n",
    "grouped = df.groupby(\"공종(중분류)\")\n",
    "# 결과 저장을 위한 딕셔너리\n",
    "avg_similarities = {}\n",
    "\n",
    "# 각 그룹에 대해 평균 코사인 유사도 계산\n",
    "for category, group in grouped:\n",
    "    sentences = group['재발방지대책 및 향후조치계획'].tolist()\n",
    "    \n",
    "    # 그룹 내 문장이 2개 미만이면 계산할 수 없으므로 0 또는 np.nan 처리\n",
    "    if len(sentences) < 2:\n",
    "        avg_similarities[category] = np.nan\n",
    "        continue\n",
    "    \n",
    "    embeddings = model.encode(sentences, convert_to_tensor=False)\n",
    "    \n",
    "    sim_matrix = cosine_similarity(embeddings)\n",
    "    \n",
    "    # 대각선은 자기 자신과의 유사도로 제외 (k=1부터 시작)\n",
    "    n = sim_matrix.shape[0]\n",
    "    upper_tri_indices = np.triu_indices(n, k=1)\n",
    "    pairwise_sims = sim_matrix[upper_tri_indices]\n",
    "    \n",
    "    avg_similarity = np.mean(pairwise_sims)\n",
    "    avg_similarities[category] = avg_similarity\n",
    "\n",
    "# 결과 DataFrame 생성\n",
    "result_df = pd.DataFrame(list(avg_similarities.items()), columns=['공종(중분류)', '평균유사도'])\n",
    "print(result_df)"
   ]
  },
  {
   "cell_type": "code",
   "execution_count": 15,
   "metadata": {},
   "outputs": [
    {
     "name": "stdout",
     "output_type": "stream",
     "text": [
      "전체 평균 유사도: 0.532339\n"
     ]
    }
   ],
   "source": [
    "overall_avg = np.nanmean(list(avg_similarities.values()))\n",
    "print(\"전체 평균 유사도:\", overall_avg)"
   ]
  },
  {
   "cell_type": "code",
   "execution_count": 16,
   "metadata": {},
   "outputs": [
    {
     "name": "stdout",
     "output_type": "stream",
     "text": [
      "  공사종류(대분류)     평균유사도\n",
      "0        건축  0.531881\n",
      "1    산업환경설비  0.496907\n",
      "2        조경  0.556933\n",
      "3        토목  0.541222\n"
     ]
    }
   ],
   "source": [
    "from sentence_transformers import SentenceTransformer\n",
    "from sklearn.metrics.pairwise import cosine_similarity\n",
    "\n",
    "grouped = df.groupby(\"공사종류(대분류)\")\n",
    "# 결과 저장을 위한 딕셔너리\n",
    "avg_similarities = {}\n",
    "\n",
    "# 각 그룹에 대해 평균 코사인 유사도 계산\n",
    "for category, group in grouped:\n",
    "    sentences = group['재발방지대책 및 향후조치계획'].tolist()\n",
    "    \n",
    "    # 그룹 내 문장이 2개 미만이면 계산할 수 없으므로 0 또는 np.nan 처리\n",
    "    if len(sentences) < 2:\n",
    "        avg_similarities[category] = np.nan\n",
    "        continue\n",
    "    \n",
    "    embeddings = model.encode(sentences, convert_to_tensor=False)\n",
    "    \n",
    "    sim_matrix = cosine_similarity(embeddings)\n",
    "    \n",
    "    # 대각선은 자기 자신과의 유사도로 제외 (k=1부터 시작)\n",
    "    n = sim_matrix.shape[0]\n",
    "    upper_tri_indices = np.triu_indices(n, k=1)\n",
    "    pairwise_sims = sim_matrix[upper_tri_indices]\n",
    "    \n",
    "    avg_similarity = np.mean(pairwise_sims)\n",
    "    avg_similarities[category] = avg_similarity\n",
    "\n",
    "# 결과 DataFrame 생성\n",
    "result_df = pd.DataFrame(list(avg_similarities.items()), columns=['공사종류(대분류)', '평균유사도'])\n",
    "print(result_df)"
   ]
  },
  {
   "cell_type": "code",
   "execution_count": 17,
   "metadata": {},
   "outputs": [
    {
     "name": "stdout",
     "output_type": "stream",
     "text": [
      "전체 평균 유사도: 0.53173584\n"
     ]
    }
   ],
   "source": [
    "overall_avg = np.nanmean(list(avg_similarities.values()))\n",
    "print(\"전체 평균 유사도:\", overall_avg)"
   ]
  },
  {
   "cell_type": "code",
   "execution_count": null,
   "metadata": {},
   "outputs": [],
   "source": []
  }
 ],
 "metadata": {
  "kernelspec": {
   "display_name": "sd2",
   "language": "python",
   "name": "python3"
  },
  "language_info": {
   "codemirror_mode": {
    "name": "ipython",
    "version": 3
   },
   "file_extension": ".py",
   "mimetype": "text/x-python",
   "name": "python",
   "nbconvert_exporter": "python",
   "pygments_lexer": "ipython3",
   "version": "3.10.16"
  }
 },
 "nbformat": 4,
 "nbformat_minor": 2
}
