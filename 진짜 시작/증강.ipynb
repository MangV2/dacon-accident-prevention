{
 "cells": [
  {
   "cell_type": "code",
   "execution_count": 27,
   "metadata": {},
   "outputs": [],
   "source": [
    "from sentence_transformers import SentenceTransformer\n",
    "import numpy as np"
   ]
  },
  {
   "cell_type": "code",
   "execution_count": null,
   "metadata": {},
   "outputs": [],
   "source": [
    "import sys\n",
    "sys.path.append(r\"C:\\Users\\minkyu\\K-TACC-main\\utils\")\n",
    "\n",
    "from BertAugmentation import BertAugmentation"
   ]
  },
  {
   "cell_type": "code",
   "execution_count": 29,
   "metadata": {},
   "outputs": [
    {
     "name": "stderr",
     "output_type": "stream",
     "text": [
      "c:\\Users\\minkyu\\AppData\\Local\\anaconda3\\envs\\sd2\\lib\\site-packages\\sentence_transformers\\SentenceTransformer.py:195: FutureWarning: The `use_auth_token` argument is deprecated and will be removed in v4 of SentenceTransformers.\n",
      "  warnings.warn(\n"
     ]
    }
   ],
   "source": [
    "model = SentenceTransformer('jhgan/ko-sbert-sts', use_auth_token=False)"
   ]
  },
  {
   "cell_type": "code",
   "execution_count": 28,
   "metadata": {},
   "outputs": [],
   "source": [
    "def cosine_similarity(a, b):\n",
    "    dot_product = np.dot(a, b)\n",
    "    norm_a = np.linalg.norm(a)\n",
    "    norm_b = np.linalg.norm(b)\n",
    "    return dot_product / (norm_a * norm_b) if norm_a != 0 and norm_b != 0 else 0"
   ]
  },
  {
   "cell_type": "code",
   "execution_count": null,
   "metadata": {},
   "outputs": [
    {
     "name": "stderr",
     "output_type": "stream",
     "text": [
      "Device set to use cuda:0\n"
     ]
    }
   ],
   "source": [
    "BERT_aug = BertAugmentation()\n",
    "random_masking_replacement = BERT_aug.random_masking_replacement\n",
    "random_masking_insertion = BERT_aug.random_masking_insertion"
   ]
  },
  {
   "cell_type": "code",
   "execution_count": null,
   "metadata": {},
   "outputs": [],
   "source": [
    "sentence = \"고소작업 중 추락 위험이 있음에도 불구하고, 안전난간대, 안전고리 착용 등 안전장치가 미흡하였음.\"\n",
    "ratio = 0.20 # 단어 수 * ratio 로 [MASK] 토큰 수 결정"
   ]
  },
  {
   "cell_type": "code",
   "execution_count": 37,
   "metadata": {},
   "outputs": [],
   "source": [
    "def aug_test(sentence, ratio):\n",
    "    rmr = random_masking_replacement(sentence, ratio)\n",
    "    rmi = random_masking_insertion(sentence, ratio)\n",
    "    rmr_embed = model.encode(rmr)\n",
    "    rmi_embed = model.encode(rmi)\n",
    "    setence_embed = model.encode(sentence) \n",
    "    print('원본 : ',sentence)\n",
    "    print('랜덤 대체 :', rmi,'코사인 유사도 :', cosine_similarity(setence_embed,rmr_embed))\n",
    "    print('랜덤 추가 :', rmi,'코사인 유사도 :', cosine_similarity(setence_embed,rmi_embed) )"
   ]
  },
  {
   "cell_type": "code",
   "execution_count": 39,
   "metadata": {},
   "outputs": [
    {
     "name": "stdout",
     "output_type": "stream",
     "text": [
      "원본 :  3층 슬라브 작업시 이동중  미끄러짐\n",
      "랜덤 대체 : 3층 슬라브 작업시 이동중에 미끄러짐 코사인 유사도 : 0.9367474\n",
      "랜덤 추가 : 3층 슬라브 작업시 이동중에 미끄러짐 코사인 유사도 : 0.9924596\n"
     ]
    }
   ],
   "source": [
    "sentence = \"3층 슬라브 작업시 이동중  미끄러짐\"\n",
    "aug_test(sentence,ratio)"
   ]
  },
  {
   "cell_type": "code",
   "execution_count": 40,
   "metadata": {},
   "outputs": [
    {
     "name": "stdout",
     "output_type": "stream",
     "text": [
      "원본 :  부주의\n",
      "랜덤 대체 : 부주의로 코사인 유사도 : 1.0000001\n",
      "랜덤 추가 : 부주의로 코사인 유사도 : 0.90303844\n"
     ]
    }
   ],
   "source": [
    "sentence = '부주의'\n",
    "aug_test(sentence,ratio)"
   ]
  },
  {
   "cell_type": "code",
   "execution_count": 44,
   "metadata": {},
   "outputs": [
    {
     "name": "stdout",
     "output_type": "stream",
     "text": [
      "원본 :  고소작업 중 추락 위험이 있음에도 불구하고, 안전난간대, 안전고리 착용 등 안전장치가 미흡하였음.\n",
      "랜덤 대체 : 고소작업 진행 중 추락 위험이 있음에도 그럼에도 불구하고, 안전난간대, 안전고리 착용 등 안전장치가 미흡하였음. 코사인 유사도 : 0.9759762\n",
      "랜덤 추가 : 고소작업 진행 중 추락 위험이 있음에도 그럼에도 불구하고, 안전난간대, 안전고리 착용 등 안전장치가 미흡하였음. 코사인 유사도 : 0.98691225\n"
     ]
    }
   ],
   "source": [
    "sentence = '고소작업 중 추락 위험이 있음에도 불구하고, 안전난간대, 안전고리 착용 등 안전장치가 미흡하였음.'\n",
    "aug_test(sentence,0.2)"
   ]
  },
  {
   "cell_type": "code",
   "execution_count": 42,
   "metadata": {},
   "outputs": [
    {
     "name": "stdout",
     "output_type": "stream",
     "text": [
      "원본 :  고소작업 중 추락 위험이 있음에도 불구하고, 안전난간대, 안전고리 착용 등 안전장치가 미흡하였음.\n",
      "랜덤 대체 : 고소작업이 진행 중 추락 위험이 있음에도 그럼에도 불구하고, 안전난간대, 안전고리 착용 등 안전장치가 미흡하였음.. 코사인 유사도 : 0.7850541\n",
      "랜덤 추가 : 고소작업이 진행 중 추락 위험이 있음에도 그럼에도 불구하고, 안전난간대, 안전고리 착용 등 안전장치가 미흡하였음.. 코사인 유사도 : 0.9739904\n"
     ]
    }
   ],
   "source": [
    "sentence = '고소작업 중 추락 위험이 있음에도 불구하고, 안전난간대, 안전고리 착용 등 안전장치가 미흡하였음.'\n",
    "aug_test(sentence,0.3)"
   ]
  },
  {
   "cell_type": "code",
   "execution_count": 43,
   "metadata": {},
   "outputs": [
    {
     "name": "stdout",
     "output_type": "stream",
     "text": [
      "원본 :  고소작업 중 추락 위험이 있음에도 불구하고, 안전난간대, 안전고리 착용 등 안전장치가 미흡하였음.\n",
      "랜덤 대체 : 또한 고소작업 중 추락 위험이 충분히 있음에도 불구하고, 안전난간대, 안전고리 착용시 안전장치 등 안전장치가 매우 미흡하였음. 코사인 유사도 : 0.65604985\n",
      "랜덤 추가 : 또한 고소작업 중 추락 위험이 충분히 있음에도 불구하고, 안전난간대, 안전고리 착용시 안전장치 등 안전장치가 매우 미흡하였음. 코사인 유사도 : 0.9569108\n"
     ]
    }
   ],
   "source": [
    "sentence = '고소작업 중 추락 위험이 있음에도 불구하고, 안전난간대, 안전고리 착용 등 안전장치가 미흡하였음.'\n",
    "aug_test(sentence,0.4)"
   ]
  },
  {
   "cell_type": "code",
   "execution_count": 46,
   "metadata": {},
   "outputs": [
    {
     "name": "stdout",
     "output_type": "stream",
     "text": [
      "원본 :  2인1조로 밀어서 운반 하던 중 상호 의사소통 미흡으로,   한방향으로만 힘이 들어가 손가락이 자재와 자재 사이에 끼임\n",
      "랜덤 대체 : 2인1조로 서로 밀어서 운반 하던 중 상호 의사소통의 미흡으로, 한방향으로만 힘이 많이 들어가 손가락이 자재와 자재 사이에 끼임 코사인 유사도 : 0.9567325\n",
      "랜덤 추가 : 2인1조로 서로 밀어서 운반 하던 중 상호 의사소통의 미흡으로, 한방향으로만 힘이 많이 들어가 손가락이 자재와 자재 사이에 끼임 코사인 유사도 : 0.98026705\n",
      "\n",
      "원본 :  2인1조로 밀어서 운반 하던 중 상호 의사소통 미흡으로,   한방향으로만 힘이 들어가 손가락이 자재와 자재 사이에 끼임\n",
      "랜덤 대체 : 2인1조로 밀어서 자재 운반 하던 중, 작업자 상호 의사소통 미흡으로, 한방향으로만 약간 힘이 들어가 손가락이 떨어져 자재와 자재 사이에 끼임 코사인 유사도 : 0.8580536\n",
      "랜덤 추가 : 2인1조로 밀어서 자재 운반 하던 중, 작업자 상호 의사소통 미흡으로, 한방향으로만 약간 힘이 들어가 손가락이 떨어져 자재와 자재 사이에 끼임 코사인 유사도 : 0.97034156\n",
      "\n",
      "원본 :  2인1조로 밀어서 운반 하던 중 상호 의사소통 미흡으로,   한방향으로만 힘이 들어가 손가락이 자재와 자재 사이에 끼임\n",
      "랜덤 대체 : 2인1조로 밀어서 운반 하던 중 상호 의사소통의 기능 미흡으로, 오직 한방향으로만 힘이 많이 들어가는 손가락이 아닌 자재와 자재 사이에 끼임 코사인 유사도 : 0.8205525\n",
      "랜덤 추가 : 2인1조로 밀어서 운반 하던 중 상호 의사소통의 기능 미흡으로, 오직 한방향으로만 힘이 많이 들어가는 손가락이 아닌 자재와 자재 사이에 끼임 코사인 유사도 : 0.9526419\n"
     ]
    }
   ],
   "source": [
    "sentence ='2인1조로 밀어서 운반 하던 중 상호 의사소통 미흡으로,   한방향으로만 힘이 들어가 손가락이 자재와 자재 사이에 끼임'\n",
    "aug_test(sentence,0.2)\n",
    "print()\n",
    "aug_test(sentence,0.3)\n",
    "print()\n",
    "aug_test(sentence,0.4)"
   ]
  },
  {
   "cell_type": "code",
   "execution_count": 47,
   "metadata": {},
   "outputs": [
    {
     "name": "stdout",
     "output_type": "stream",
     "text": [
      "원본 :  우레탄폼 사춤작업 준비 중 얼어있는 우레탄폼 케이스를 토치로 가열하다 케이스가 폭발하면서 파편에 맞아 우측 발가락 골절됨\n",
      "랜덤 대체 : 우레탄폼 케이스 사춤작업을 위해 준비 중 얼어있는 우레탄폼 케이스를 토치로 가열하다 케이스가 폭발하면서 파편에 맞아 우측 발가락 골절됨 코사인 유사도 : 0.96513814\n",
      "랜덤 추가 : 우레탄폼 케이스 사춤작업을 위해 준비 중 얼어있는 우레탄폼 케이스를 토치로 가열하다 케이스가 폭발하면서 파편에 맞아 우측 발가락 골절됨 코사인 유사도 : 0.99127436\n",
      "\n",
      "원본 :  우레탄폼 사춤작업 준비 중 얼어있는 우레탄폼 케이스를 토치로 가열하다 케이스가 폭발하면서 파편에 맞아 우측 발가락 골절됨\n",
      "랜덤 대체 : 우레탄폼 사춤작업을 준비 중 얼어있는 우레탄폼 케이스를 토치로 가열하다 케이스가 폭발하면서 파편에게 의해 맞아 왼쪽 우측 오른쪽 발가락 골절됨 코사인 유사도 : 0.9210887\n",
      "랜덤 추가 : 우레탄폼 사춤작업을 준비 중 얼어있는 우레탄폼 케이스를 토치로 가열하다 케이스가 폭발하면서 파편에게 의해 맞아 왼쪽 우측 오른쪽 발가락 골절됨 코사인 유사도 : 0.98689044\n",
      "\n",
      "원본 :  우레탄폼 사춤작업 준비 중 얼어있는 우레탄폼 케이스를 토치로 가열하다 케이스가 폭발하면서 파편에 맞아 우측 발가락 골절됨\n",
      "랜덤 대체 : 우레탄폼 사춤작업 준비 기간 중에 얼어있는 우레탄폼 케이스를 토치로 살짝 돌려 가열하다 이 때 케이스가 폭발하면서 파편에 맞아 우측 발가락 골절됨 코사인 유사도 : 0.904063\n",
      "랜덤 추가 : 우레탄폼 사춤작업 준비 기간 중에 얼어있는 우레탄폼 케이스를 토치로 살짝 돌려 가열하다 이 때 케이스가 폭발하면서 파편에 맞아 우측 발가락 골절됨 코사인 유사도 : 0.98153347\n"
     ]
    }
   ],
   "source": [
    "sentence ='우레탄폼 사춤작업 준비 중 얼어있는 우레탄폼 케이스를 토치로 가열하다 케이스가 폭발하면서 파편에 맞아 우측 발가락 골절됨'\n",
    "aug_test(sentence,0.2)\n",
    "print()\n",
    "aug_test(sentence,0.3)\n",
    "print()\n",
    "aug_test(sentence,0.4)"
   ]
  },
  {
   "cell_type": "code",
   "execution_count": 48,
   "metadata": {},
   "outputs": [
    {
     "name": "stdout",
     "output_type": "stream",
     "text": [
      "원본 :  유로폼 정리작업으로 주변 정리가 미흡하여 작업자 부주의로 인한 사고\n",
      "랜덤 대체 : 유로폼 정리작업으로 주변 정리가 매우 미흡하여 작업자 부주의로 그로 인한 사고 코사인 유사도 : 0.9092959\n",
      "랜덤 추가 : 유로폼 정리작업으로 주변 정리가 매우 미흡하여 작업자 부주의로 그로 인한 사고 코사인 유사도 : 0.98148465\n",
      "\n",
      "원본 :  유로폼 정리작업으로 주변 정리가 미흡하여 작업자 부주의로 인한 사고\n",
      "랜덤 대체 : 유로폼은 정리작업으로 주변 정리가 매우 미흡하여 작업자 부주의로 그로 인한 사고 코사인 유사도 : 0.97898525\n",
      "랜덤 추가 : 유로폼은 정리작업으로 주변 정리가 매우 미흡하여 작업자 부주의로 그로 인한 사고 코사인 유사도 : 0.95671964\n",
      "\n",
      "원본 :  유로폼 정리작업으로 주변 정리가 미흡하여 작업자 부주의로 인한 사고\n",
      "랜덤 대체 : 특히 유로폼 정리작업으로 인한 주변 정리가 미흡하여 작업자 부주의로 인한 그로 인한 사고 코사인 유사도 : 0.89130664\n",
      "랜덤 추가 : 특히 유로폼 정리작업으로 인한 주변 정리가 미흡하여 작업자 부주의로 인한 그로 인한 사고 코사인 유사도 : 0.96145904\n"
     ]
    }
   ],
   "source": [
    "sentence ='유로폼 정리작업으로 주변 정리가 미흡하여 작업자 부주의로 인한 사고'\n",
    "aug_test(sentence,0.2)\n",
    "print()\n",
    "aug_test(sentence,0.3)\n",
    "print()\n",
    "aug_test(sentence,0.4)"
   ]
  },
  {
   "cell_type": "code",
   "execution_count": null,
   "metadata": {},
   "outputs": [],
   "source": []
  }
 ],
 "metadata": {
  "kernelspec": {
   "display_name": "sd2",
   "language": "python",
   "name": "python3"
  },
  "language_info": {
   "codemirror_mode": {
    "name": "ipython",
    "version": 3
   },
   "file_extension": ".py",
   "mimetype": "text/x-python",
   "name": "python",
   "nbconvert_exporter": "python",
   "pygments_lexer": "ipython3",
   "version": "3.10.16"
  }
 },
 "nbformat": 4,
 "nbformat_minor": 2
}
