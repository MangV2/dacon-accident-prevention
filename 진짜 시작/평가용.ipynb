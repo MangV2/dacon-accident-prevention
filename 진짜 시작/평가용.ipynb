{
 "cells": [
  {
   "cell_type": "code",
   "execution_count": null,
   "metadata": {},
   "outputs": [],
   "source": [
    "import pandas as pd\n",
    "import numpy as np\n",
    "from sentence_transformers import SentenceTransformer"
   ]
  },
  {
   "cell_type": "code",
   "execution_count": null,
   "metadata": {},
   "outputs": [],
   "source": [
    "test_df = pd.read_csv('',index=False, encoding='utf-8-sig')"
   ]
  },
  {
   "cell_type": "code",
   "execution_count": null,
   "metadata": {},
   "outputs": [],
   "source": [
    "# Embedding Vector 추출에 활용할 모델(jhgan/ko-sbert-sts) 불러오기\n",
    "model = SentenceTransformer('jhgan/ko-sbert-sts', use_auth_token=False)"
   ]
  },
  {
   "cell_type": "code",
   "execution_count": null,
   "metadata": {},
   "outputs": [],
   "source": [
    "# 샘플에 대한 Cosine Similarity 산식\n",
    "def cosine_similarity(a, b):\n",
    "    dot_product = np.dot(a, b)\n",
    "    norm_a = np.linalg.norm(a)\n",
    "    norm_b = np.linalg.norm(b)\n",
    "    return dot_product / (norm_a * norm_b) if norm_a != 0 and norm_b != 0 else 0"
   ]
  },
  {
   "cell_type": "code",
   "execution_count": null,
   "metadata": {},
   "outputs": [],
   "source": [
    "# test_df는 \"재발방지대책 및 향후조치계획\"와 \"pred\" 컬럼을 모두 가지고 있다고 가정합니다.\n",
    "# 각 컬럼의 텍스트 리스트 추출\n",
    "plans = test_df['재발방지대책 및 향후조치계획'].tolist()\n",
    "preds = test_df['pred'].tolist()\n",
    "\n",
    "# 두 컬럼의 임베딩 벡터 추출\n",
    "embeddings_plans = model.encode(plans)\n",
    "embeddings_preds = model.encode(preds)\n",
    "\n",
    "# Cosine Similarity 계산 함수\n",
    "def cosine_similarity(a, b):\n",
    "    dot_product = np.dot(a, b)\n",
    "    norm_a = np.linalg.norm(a)\n",
    "    norm_b = np.linalg.norm(b)\n",
    "    return dot_product / (norm_a * norm_b) if norm_a != 0 and norm_b != 0 else 0\n",
    "\n",
    "# 각 행에 대해 cosine similarity 계산\n",
    "similarity_scores = [cosine_similarity(plan_emb, pred_emb) \n",
    "                     for plan_emb, pred_emb in zip(embeddings_plans, embeddings_preds)]\n",
    "\n",
    "# 결과를 새로운 컬럼에 저장\n",
    "test_df['cosine_similarity'] = similarity_scores\n",
    "\n",
    "# 결과 출력\n",
    "print(test_df[['재발방지대책 및 향후조치계획', 'pred', 'cosine_similarity']])\n"
   ]
  }
 ],
 "metadata": {
  "kernelspec": {
   "display_name": "sd2",
   "language": "python",
   "name": "python3"
  },
  "language_info": {
   "codemirror_mode": {
    "name": "ipython",
    "version": 3
   },
   "file_extension": ".py",
   "mimetype": "text/x-python",
   "name": "python",
   "nbconvert_exporter": "python",
   "pygments_lexer": "ipython3",
   "version": "3.10.16"
  }
 },
 "nbformat": 4,
 "nbformat_minor": 2
}
