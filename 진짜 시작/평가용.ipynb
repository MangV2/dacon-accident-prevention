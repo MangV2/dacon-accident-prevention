{
 "cells": [
  {
   "cell_type": "code",
   "execution_count": 32,
   "metadata": {},
   "outputs": [],
   "source": [
    "import torch\n",
    "import numpy as np\n",
    "import pandas as pd\n",
    "from scipy.spatial.distance import cosine\n",
    "from sentence_transformers import SentenceTransformer\n",
    "from tqdm import tqdm"
   ]
  },
  {
   "cell_type": "code",
   "execution_count": 36,
   "metadata": {},
   "outputs": [],
   "source": [
    "df = pd.read_csv('C:/Users/minkyu/Desktop/dacon accident prevention/진짜 시작/aug_train.csv', encoding='utf-8-sig') "
   ]
  },
  {
   "cell_type": "code",
   "execution_count": 25,
   "metadata": {},
   "outputs": [],
   "source": [
    "device = torch.device(\"cuda\" if torch.cuda.is_available() else \"cpu\")"
   ]
  },
  {
   "cell_type": "code",
   "execution_count": null,
   "metadata": {},
   "outputs": [
    {
     "name": "stderr",
     "output_type": "stream",
     "text": [
      "c:\\Users\\minkyu\\AppData\\Local\\anaconda3\\envs\\sd2\\lib\\site-packages\\sentence_transformers\\SentenceTransformer.py:195: FutureWarning: The `use_auth_token` argument is deprecated and will be removed in v4 of SentenceTransformers.\n",
      "  warnings.warn(\n"
     ]
    },
    {
     "name": "stdout",
     "output_type": "stream",
     "text": [
      "embedding 모델 불러오기 성공\n",
      "임베딩 끝\n"
     ]
    },
    {
     "name": "stderr",
     "output_type": "stream",
     "text": [
      "SentenceTransformer 유사도: 100%|██████████| 14716/14716 [00:00<00:00, 121592.71it/s]"
     ]
    },
    {
     "name": "stdout",
     "output_type": "stream",
     "text": [
      "평균 코사인 유사도 0.97317165\n"
     ]
    },
    {
     "name": "stderr",
     "output_type": "stream",
     "text": [
      "\n"
     ]
    }
   ],
   "source": [
    "embedding_model = SentenceTransformer('jhgan/ko-sbert-sts', device=device, use_auth_token=False)\n",
    "print(\"embedding 모델 불러오기 성공\")\n",
    " \n",
    "plans = [str(x) for x in df['재발방지대책 및 향후조치계획'].tolist()] \n",
    "preds = [str(x) for x in df['pred'].tolist()] # 예측 문장이 들어있는 컬럼인지 확인\n",
    "\n",
    "\n",
    "embeddings_plans = embedding_model.encode(plans)\n",
    "embeddings_preds = embedding_model.encode(preds)\n",
    "print(\"임베딩 끝\")\n",
    "# 코사인 유사도 계산 함수\n",
    "def cosine_similarity(a, b):\n",
    "    dot_product = np.dot(a, b)\n",
    "    norm_a = np.linalg.norm(a)\n",
    "    norm_b = np.linalg.norm(b)\n",
    "    return dot_product / (norm_a * norm_b) if norm_a != 0 and norm_b != 0 else 0\n",
    "\n",
    "# 각 행에 대해 코사인 유사도 계산\n",
    "cosine_similarity_scores = [\n",
    "    cosine_similarity(plan_emb, pred_emb)\n",
    "    for plan_emb, pred_emb in tqdm(zip(embeddings_plans, embeddings_preds), total=len(embeddings_plans), desc=\"SentenceTransformer 유사도\")\n",
    "]\n",
    "\n",
    "\n",
    "# --- 결과를 데이터프레임에 저장 ---\n",
    "df['cosine_similarity'] = cosine_similarity_scores\n",
    "print('평균 코사인 유사도',df['cosine_similarity'].mean())"
   ]
  },
  {
   "cell_type": "code",
   "execution_count": null,
   "metadata": {},
   "outputs": [],
   "source": []
  }
 ],
 "metadata": {
  "kernelspec": {
   "display_name": "sd2",
   "language": "python",
   "name": "python3"
  },
  "language_info": {
   "codemirror_mode": {
    "name": "ipython",
    "version": 3
   },
   "file_extension": ".py",
   "mimetype": "text/x-python",
   "name": "python",
   "nbconvert_exporter": "python",
   "pygments_lexer": "ipython3",
   "version": "3.10.16"
  }
 },
 "nbformat": 4,
 "nbformat_minor": 2
}
